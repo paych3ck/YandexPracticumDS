{
 "cells": [
  {
   "cell_type": "markdown",
   "metadata": {},
   "source": [
    "# Исследование объявлений о продаже квартир\n",
    "\n",
    "В нашем распоряжении данные сервиса Яндекс.Недвижимость — архив объявлений о продаже квартир в Санкт-Петербурге и соседних населённых пунктов за несколько лет. \n",
    "Нужно научиться определять рыночную стоимость объектов недвижимости. Задача — установить параметры. Это позволит построить автоматизированную систему: она отследит аномалии и мошенническую деятельность. \n",
    "\n",
    "По каждой квартире на продажу доступны два вида данных. Первые вписаны пользователем, вторые — получены автоматически на основе картографических данных. Например, расстояние до центра, аэропорта, ближайшего парка и водоёма. "
   ]
  },
  {
   "cell_type": "markdown",
   "metadata": {},
   "source": [
    "### Изучение общей информации. "
   ]
  },
  {
   "cell_type": "code",
   "execution_count": 14,
   "metadata": {
    "scrolled": true
   },
   "outputs": [],
   "source": [
    "import pandas as pd\n",
    "import numpy as np\n",
    "import matplotlib.pyplot as plt"
   ]
  },
  {
   "cell_type": "code",
   "execution_count": 15,
   "metadata": {
    "scrolled": true
   },
   "outputs": [
    {
     "data": {
      "text/html": [
       "<div>\n",
       "<style scoped>\n",
       "    .dataframe tbody tr th:only-of-type {\n",
       "        vertical-align: middle;\n",
       "    }\n",
       "\n",
       "    .dataframe tbody tr th {\n",
       "        vertical-align: top;\n",
       "    }\n",
       "\n",
       "    .dataframe thead th {\n",
       "        text-align: right;\n",
       "    }\n",
       "</style>\n",
       "<table border=\"1\" class=\"dataframe\">\n",
       "  <thead>\n",
       "    <tr style=\"text-align: right;\">\n",
       "      <th></th>\n",
       "      <th>total_images</th>\n",
       "      <th>last_price</th>\n",
       "      <th>total_area</th>\n",
       "      <th>first_day_exposition</th>\n",
       "      <th>rooms</th>\n",
       "      <th>ceiling_height</th>\n",
       "      <th>floors_total</th>\n",
       "      <th>living_area</th>\n",
       "      <th>floor</th>\n",
       "      <th>is_apartment</th>\n",
       "      <th>studio</th>\n",
       "      <th>open_plan</th>\n",
       "      <th>kitchen_area</th>\n",
       "      <th>balcony</th>\n",
       "      <th>locality_name</th>\n",
       "      <th>airports_nearest</th>\n",
       "      <th>cityCenters_nearest</th>\n",
       "      <th>parks_around3000</th>\n",
       "      <th>parks_nearest</th>\n",
       "      <th>ponds_around3000</th>\n",
       "      <th>ponds_nearest</th>\n",
       "      <th>days_exposition</th>\n",
       "    </tr>\n",
       "  </thead>\n",
       "  <tbody>\n",
       "    <tr>\n",
       "      <th>0</th>\n",
       "      <td>20</td>\n",
       "      <td>13000000.0</td>\n",
       "      <td>108.0</td>\n",
       "      <td>2019-03-07T00:00:00</td>\n",
       "      <td>3</td>\n",
       "      <td>2.70</td>\n",
       "      <td>16.0</td>\n",
       "      <td>51.0</td>\n",
       "      <td>8</td>\n",
       "      <td>NaN</td>\n",
       "      <td>False</td>\n",
       "      <td>False</td>\n",
       "      <td>25.0</td>\n",
       "      <td>NaN</td>\n",
       "      <td>Санкт-Петербург</td>\n",
       "      <td>18863.0</td>\n",
       "      <td>16028.0</td>\n",
       "      <td>1.0</td>\n",
       "      <td>482.0</td>\n",
       "      <td>2.0</td>\n",
       "      <td>755.0</td>\n",
       "      <td>NaN</td>\n",
       "    </tr>\n",
       "    <tr>\n",
       "      <th>1</th>\n",
       "      <td>7</td>\n",
       "      <td>3350000.0</td>\n",
       "      <td>40.4</td>\n",
       "      <td>2018-12-04T00:00:00</td>\n",
       "      <td>1</td>\n",
       "      <td>NaN</td>\n",
       "      <td>11.0</td>\n",
       "      <td>18.6</td>\n",
       "      <td>1</td>\n",
       "      <td>NaN</td>\n",
       "      <td>False</td>\n",
       "      <td>False</td>\n",
       "      <td>11.0</td>\n",
       "      <td>2.0</td>\n",
       "      <td>посёлок Шушары</td>\n",
       "      <td>12817.0</td>\n",
       "      <td>18603.0</td>\n",
       "      <td>0.0</td>\n",
       "      <td>NaN</td>\n",
       "      <td>0.0</td>\n",
       "      <td>NaN</td>\n",
       "      <td>81.0</td>\n",
       "    </tr>\n",
       "    <tr>\n",
       "      <th>2</th>\n",
       "      <td>10</td>\n",
       "      <td>5196000.0</td>\n",
       "      <td>56.0</td>\n",
       "      <td>2015-08-20T00:00:00</td>\n",
       "      <td>2</td>\n",
       "      <td>NaN</td>\n",
       "      <td>5.0</td>\n",
       "      <td>34.3</td>\n",
       "      <td>4</td>\n",
       "      <td>NaN</td>\n",
       "      <td>False</td>\n",
       "      <td>False</td>\n",
       "      <td>8.3</td>\n",
       "      <td>0.0</td>\n",
       "      <td>Санкт-Петербург</td>\n",
       "      <td>21741.0</td>\n",
       "      <td>13933.0</td>\n",
       "      <td>1.0</td>\n",
       "      <td>90.0</td>\n",
       "      <td>2.0</td>\n",
       "      <td>574.0</td>\n",
       "      <td>558.0</td>\n",
       "    </tr>\n",
       "    <tr>\n",
       "      <th>3</th>\n",
       "      <td>0</td>\n",
       "      <td>64900000.0</td>\n",
       "      <td>159.0</td>\n",
       "      <td>2015-07-24T00:00:00</td>\n",
       "      <td>3</td>\n",
       "      <td>NaN</td>\n",
       "      <td>14.0</td>\n",
       "      <td>NaN</td>\n",
       "      <td>9</td>\n",
       "      <td>NaN</td>\n",
       "      <td>False</td>\n",
       "      <td>False</td>\n",
       "      <td>NaN</td>\n",
       "      <td>0.0</td>\n",
       "      <td>Санкт-Петербург</td>\n",
       "      <td>28098.0</td>\n",
       "      <td>6800.0</td>\n",
       "      <td>2.0</td>\n",
       "      <td>84.0</td>\n",
       "      <td>3.0</td>\n",
       "      <td>234.0</td>\n",
       "      <td>424.0</td>\n",
       "    </tr>\n",
       "    <tr>\n",
       "      <th>4</th>\n",
       "      <td>2</td>\n",
       "      <td>10000000.0</td>\n",
       "      <td>100.0</td>\n",
       "      <td>2018-06-19T00:00:00</td>\n",
       "      <td>2</td>\n",
       "      <td>3.03</td>\n",
       "      <td>14.0</td>\n",
       "      <td>32.0</td>\n",
       "      <td>13</td>\n",
       "      <td>NaN</td>\n",
       "      <td>False</td>\n",
       "      <td>False</td>\n",
       "      <td>41.0</td>\n",
       "      <td>NaN</td>\n",
       "      <td>Санкт-Петербург</td>\n",
       "      <td>31856.0</td>\n",
       "      <td>8098.0</td>\n",
       "      <td>2.0</td>\n",
       "      <td>112.0</td>\n",
       "      <td>1.0</td>\n",
       "      <td>48.0</td>\n",
       "      <td>121.0</td>\n",
       "    </tr>\n",
       "  </tbody>\n",
       "</table>\n",
       "</div>"
      ],
      "text/plain": [
       "   total_images  last_price  total_area first_day_exposition  rooms  \\\n",
       "0            20  13000000.0       108.0  2019-03-07T00:00:00      3   \n",
       "1             7   3350000.0        40.4  2018-12-04T00:00:00      1   \n",
       "2            10   5196000.0        56.0  2015-08-20T00:00:00      2   \n",
       "3             0  64900000.0       159.0  2015-07-24T00:00:00      3   \n",
       "4             2  10000000.0       100.0  2018-06-19T00:00:00      2   \n",
       "\n",
       "   ceiling_height  floors_total  living_area  floor is_apartment  studio  \\\n",
       "0            2.70          16.0         51.0      8          NaN   False   \n",
       "1             NaN          11.0         18.6      1          NaN   False   \n",
       "2             NaN           5.0         34.3      4          NaN   False   \n",
       "3             NaN          14.0          NaN      9          NaN   False   \n",
       "4            3.03          14.0         32.0     13          NaN   False   \n",
       "\n",
       "   open_plan  kitchen_area  balcony    locality_name  airports_nearest  \\\n",
       "0      False          25.0      NaN  Санкт-Петербург           18863.0   \n",
       "1      False          11.0      2.0   посёлок Шушары           12817.0   \n",
       "2      False           8.3      0.0  Санкт-Петербург           21741.0   \n",
       "3      False           NaN      0.0  Санкт-Петербург           28098.0   \n",
       "4      False          41.0      NaN  Санкт-Петербург           31856.0   \n",
       "\n",
       "   cityCenters_nearest  parks_around3000  parks_nearest  ponds_around3000  \\\n",
       "0              16028.0               1.0          482.0               2.0   \n",
       "1              18603.0               0.0            NaN               0.0   \n",
       "2              13933.0               1.0           90.0               2.0   \n",
       "3               6800.0               2.0           84.0               3.0   \n",
       "4               8098.0               2.0          112.0               1.0   \n",
       "\n",
       "   ponds_nearest  days_exposition  \n",
       "0          755.0              NaN  \n",
       "1            NaN             81.0  \n",
       "2          574.0            558.0  \n",
       "3          234.0            424.0  \n",
       "4           48.0            121.0  "
      ]
     },
     "execution_count": 15,
     "metadata": {},
     "output_type": "execute_result"
    }
   ],
   "source": [
    "data = pd.read_csv('/datasets/real_estate_data.csv', sep='\\t')\n",
    "pd.set_option('display.max_columns', None)\n",
    "data.head(5)"
   ]
  },
  {
   "cell_type": "code",
   "execution_count": 16,
   "metadata": {},
   "outputs": [
    {
     "name": "stdout",
     "output_type": "stream",
     "text": [
      "<class 'pandas.core.frame.DataFrame'>\n",
      "RangeIndex: 23699 entries, 0 to 23698\n",
      "Data columns (total 22 columns):\n",
      " #   Column                Non-Null Count  Dtype  \n",
      "---  ------                --------------  -----  \n",
      " 0   total_images          23699 non-null  int64  \n",
      " 1   last_price            23699 non-null  float64\n",
      " 2   total_area            23699 non-null  float64\n",
      " 3   first_day_exposition  23699 non-null  object \n",
      " 4   rooms                 23699 non-null  int64  \n",
      " 5   ceiling_height        14504 non-null  float64\n",
      " 6   floors_total          23613 non-null  float64\n",
      " 7   living_area           21796 non-null  float64\n",
      " 8   floor                 23699 non-null  int64  \n",
      " 9   is_apartment          2775 non-null   object \n",
      " 10  studio                23699 non-null  bool   \n",
      " 11  open_plan             23699 non-null  bool   \n",
      " 12  kitchen_area          21421 non-null  float64\n",
      " 13  balcony               12180 non-null  float64\n",
      " 14  locality_name         23650 non-null  object \n",
      " 15  airports_nearest      18157 non-null  float64\n",
      " 16  cityCenters_nearest   18180 non-null  float64\n",
      " 17  parks_around3000      18181 non-null  float64\n",
      " 18  parks_nearest         8079 non-null   float64\n",
      " 19  ponds_around3000      18181 non-null  float64\n",
      " 20  ponds_nearest         9110 non-null   float64\n",
      " 21  days_exposition       20518 non-null  float64\n",
      "dtypes: bool(2), float64(14), int64(3), object(3)\n",
      "memory usage: 3.7+ MB\n"
     ]
    }
   ],
   "source": [
    "data.info()"
   ]
  },
  {
   "cell_type": "code",
   "execution_count": 17,
   "metadata": {},
   "outputs": [
    {
     "data": {
      "image/png": "[encoded data removed]",
      "text/plain": [
       "<Figure size 1080x1440 with 20 Axes>"
      ]
     },
     "metadata": {
      "needs_background": "light"
     },
     "output_type": "display_data"
    }
   ],
   "source": [
    "data.hist(figsize=(15, 20));"
   ]
  },
  {
   "cell_type": "markdown",
   "metadata": {},
   "source": [
    "Была подключена библиотека Pandas, выведена информация о датафрейме, нарисованы графики столбцов датафрейма."
   ]
  },
  {
   "cell_type": "markdown",
   "metadata": {},
   "source": [
    "### Предобработка данных"
   ]
  },
  {
   "cell_type": "code",
   "execution_count": 18,
   "metadata": {},
   "outputs": [
    {
     "data": {
      "text/plain": [
       "total_images                0\n",
       "last_price                  0\n",
       "total_area                  0\n",
       "first_day_exposition        0\n",
       "rooms                       0\n",
       "ceiling_height           9195\n",
       "floors_total               86\n",
       "living_area              1903\n",
       "floor                       0\n",
       "is_apartment            20924\n",
       "studio                      0\n",
       "open_plan                   0\n",
       "kitchen_area             2278\n",
       "balcony                 11519\n",
       "locality_name              49\n",
       "airports_nearest         5542\n",
       "cityCenters_nearest      5519\n",
       "parks_around3000         5518\n",
       "parks_nearest           15620\n",
       "ponds_around3000         5518\n",
       "ponds_nearest           14589\n",
       "days_exposition          3181\n",
       "dtype: int64"
      ]
     },
     "execution_count": 18,
     "metadata": {},
     "output_type": "execute_result"
    }
   ],
   "source": [
    "data.isna().sum() #<= подсчет пропусков в каждом из столбцов"
   ]
  },
  {
   "cell_type": "markdown",
   "metadata": {},
   "source": [
    "Пропуски есть в столбцах, где справа от названия столбца находится число, отличное от нуля."
   ]
  },
  {
   "cell_type": "code",
   "execution_count": 19,
   "metadata": {},
   "outputs": [
    {
     "data": {
      "text/plain": [
       "total_images                0\n",
       "last_price                  0\n",
       "total_area                  0\n",
       "first_day_exposition        0\n",
       "rooms                       0\n",
       "ceiling_height              0\n",
       "floors_total               86\n",
       "living_area              1903\n",
       "floor                       0\n",
       "is_apartment            20924\n",
       "studio                      0\n",
       "open_plan                   0\n",
       "kitchen_area             2278\n",
       "balcony                     0\n",
       "locality_name              49\n",
       "airports_nearest         5542\n",
       "cityCenters_nearest      5519\n",
       "parks_around3000         5518\n",
       "parks_nearest           15620\n",
       "ponds_around3000         5518\n",
       "ponds_nearest           14589\n",
       "days_exposition          3181\n",
       "dtype: int64"
      ]
     },
     "execution_count": 19,
     "metadata": {},
     "output_type": "execute_result"
    }
   ],
   "source": [
    "data['balcony'] = data['balcony'].fillna(0) #<= заполнили пропуски в столбце 'balcony'\n",
    "data['ceiling_height'] = data['ceiling_height'].fillna(data['ceiling_height'].median())\n",
    "data.isna().sum()"
   ]
  },
  {
   "cell_type": "markdown",
   "metadata": {},
   "source": [
    "Были заполнены пропуски в столбцах 'balcony' и 'ceiling_height'. В столбце 'balcony' пропуски были заменены на '0' (продавец не указал число балконов), а в столбце 'ceiling_height' пропуски были заменены на медианные значения столбца. Пропуски в остальных столбцах не заполнялись, так как нет гарантии, что метод заполнения правильный (да и это не проект машинного обучения, где это действительно необходимо). Возможные причины возникновения пропусков в данных: технические ошибки и человеческий фактор. "
   ]
  },
  {
   "cell_type": "code",
   "execution_count": 20,
   "metadata": {},
   "outputs": [
    {
     "data": {
      "text/html": [
       "<div>\n",
       "<style scoped>\n",
       "    .dataframe tbody tr th:only-of-type {\n",
       "        vertical-align: middle;\n",
       "    }\n",
       "\n",
       "    .dataframe tbody tr th {\n",
       "        vertical-align: top;\n",
       "    }\n",
       "\n",
       "    .dataframe thead th {\n",
       "        text-align: right;\n",
       "    }\n",
       "</style>\n",
       "<table border=\"1\" class=\"dataframe\">\n",
       "  <thead>\n",
       "    <tr style=\"text-align: right;\">\n",
       "      <th></th>\n",
       "      <th>total_images</th>\n",
       "      <th>last_price</th>\n",
       "      <th>total_area</th>\n",
       "      <th>first_day_exposition</th>\n",
       "      <th>rooms</th>\n",
       "      <th>ceiling_height</th>\n",
       "      <th>floors_total</th>\n",
       "      <th>living_area</th>\n",
       "      <th>floor</th>\n",
       "      <th>is_apartment</th>\n",
       "      <th>studio</th>\n",
       "      <th>open_plan</th>\n",
       "      <th>kitchen_area</th>\n",
       "      <th>balcony</th>\n",
       "      <th>locality_name</th>\n",
       "      <th>airports_nearest</th>\n",
       "      <th>cityCenters_nearest</th>\n",
       "      <th>parks_around3000</th>\n",
       "      <th>parks_nearest</th>\n",
       "      <th>ponds_around3000</th>\n",
       "      <th>ponds_nearest</th>\n",
       "      <th>days_exposition</th>\n",
       "    </tr>\n",
       "  </thead>\n",
       "  <tbody>\n",
       "    <tr>\n",
       "      <th>0</th>\n",
       "      <td>20</td>\n",
       "      <td>13000000</td>\n",
       "      <td>108.0</td>\n",
       "      <td>2019-03-07T00:00:00</td>\n",
       "      <td>3</td>\n",
       "      <td>2.70</td>\n",
       "      <td>16</td>\n",
       "      <td>51.0</td>\n",
       "      <td>8</td>\n",
       "      <td>NaN</td>\n",
       "      <td>False</td>\n",
       "      <td>False</td>\n",
       "      <td>25.0</td>\n",
       "      <td>0</td>\n",
       "      <td>Санкт-Петербург</td>\n",
       "      <td>18863</td>\n",
       "      <td>16028</td>\n",
       "      <td>1</td>\n",
       "      <td>482</td>\n",
       "      <td>2</td>\n",
       "      <td>755</td>\n",
       "      <td>&lt;NA&gt;</td>\n",
       "    </tr>\n",
       "    <tr>\n",
       "      <th>1</th>\n",
       "      <td>7</td>\n",
       "      <td>3350000</td>\n",
       "      <td>40.4</td>\n",
       "      <td>2018-12-04T00:00:00</td>\n",
       "      <td>1</td>\n",
       "      <td>2.65</td>\n",
       "      <td>11</td>\n",
       "      <td>18.6</td>\n",
       "      <td>1</td>\n",
       "      <td>NaN</td>\n",
       "      <td>False</td>\n",
       "      <td>False</td>\n",
       "      <td>11.0</td>\n",
       "      <td>2</td>\n",
       "      <td>посёлок Шушары</td>\n",
       "      <td>12817</td>\n",
       "      <td>18603</td>\n",
       "      <td>0</td>\n",
       "      <td>&lt;NA&gt;</td>\n",
       "      <td>0</td>\n",
       "      <td>&lt;NA&gt;</td>\n",
       "      <td>81</td>\n",
       "    </tr>\n",
       "    <tr>\n",
       "      <th>2</th>\n",
       "      <td>10</td>\n",
       "      <td>5196000</td>\n",
       "      <td>56.0</td>\n",
       "      <td>2015-08-20T00:00:00</td>\n",
       "      <td>2</td>\n",
       "      <td>2.65</td>\n",
       "      <td>5</td>\n",
       "      <td>34.3</td>\n",
       "      <td>4</td>\n",
       "      <td>NaN</td>\n",
       "      <td>False</td>\n",
       "      <td>False</td>\n",
       "      <td>8.3</td>\n",
       "      <td>0</td>\n",
       "      <td>Санкт-Петербург</td>\n",
       "      <td>21741</td>\n",
       "      <td>13933</td>\n",
       "      <td>1</td>\n",
       "      <td>90</td>\n",
       "      <td>2</td>\n",
       "      <td>574</td>\n",
       "      <td>558</td>\n",
       "    </tr>\n",
       "    <tr>\n",
       "      <th>3</th>\n",
       "      <td>0</td>\n",
       "      <td>64900000</td>\n",
       "      <td>159.0</td>\n",
       "      <td>2015-07-24T00:00:00</td>\n",
       "      <td>3</td>\n",
       "      <td>2.65</td>\n",
       "      <td>14</td>\n",
       "      <td>NaN</td>\n",
       "      <td>9</td>\n",
       "      <td>NaN</td>\n",
       "      <td>False</td>\n",
       "      <td>False</td>\n",
       "      <td>NaN</td>\n",
       "      <td>0</td>\n",
       "      <td>Санкт-Петербург</td>\n",
       "      <td>28098</td>\n",
       "      <td>6800</td>\n",
       "      <td>2</td>\n",
       "      <td>84</td>\n",
       "      <td>3</td>\n",
       "      <td>234</td>\n",
       "      <td>424</td>\n",
       "    </tr>\n",
       "    <tr>\n",
       "      <th>4</th>\n",
       "      <td>2</td>\n",
       "      <td>10000000</td>\n",
       "      <td>100.0</td>\n",
       "      <td>2018-06-19T00:00:00</td>\n",
       "      <td>2</td>\n",
       "      <td>3.03</td>\n",
       "      <td>14</td>\n",
       "      <td>32.0</td>\n",
       "      <td>13</td>\n",
       "      <td>NaN</td>\n",
       "      <td>False</td>\n",
       "      <td>False</td>\n",
       "      <td>41.0</td>\n",
       "      <td>0</td>\n",
       "      <td>Санкт-Петербург</td>\n",
       "      <td>31856</td>\n",
       "      <td>8098</td>\n",
       "      <td>2</td>\n",
       "      <td>112</td>\n",
       "      <td>1</td>\n",
       "      <td>48</td>\n",
       "      <td>121</td>\n",
       "    </tr>\n",
       "  </tbody>\n",
       "</table>\n",
       "</div>"
      ],
      "text/plain": [
       "   total_images  last_price  total_area first_day_exposition  rooms  \\\n",
       "0            20    13000000       108.0  2019-03-07T00:00:00      3   \n",
       "1             7     3350000        40.4  2018-12-04T00:00:00      1   \n",
       "2            10     5196000        56.0  2015-08-20T00:00:00      2   \n",
       "3             0    64900000       159.0  2015-07-24T00:00:00      3   \n",
       "4             2    10000000       100.0  2018-06-19T00:00:00      2   \n",
       "\n",
       "   ceiling_height  floors_total  living_area  floor is_apartment  studio  \\\n",
       "0            2.70            16         51.0      8          NaN   False   \n",
       "1            2.65            11         18.6      1          NaN   False   \n",
       "2            2.65             5         34.3      4          NaN   False   \n",
       "3            2.65            14          NaN      9          NaN   False   \n",
       "4            3.03            14         32.0     13          NaN   False   \n",
       "\n",
       "   open_plan  kitchen_area  balcony    locality_name  airports_nearest  \\\n",
       "0      False          25.0        0  Санкт-Петербург             18863   \n",
       "1      False          11.0        2   посёлок Шушары             12817   \n",
       "2      False           8.3        0  Санкт-Петербург             21741   \n",
       "3      False           NaN        0  Санкт-Петербург             28098   \n",
       "4      False          41.0        0  Санкт-Петербург             31856   \n",
       "\n",
       "   cityCenters_nearest  parks_around3000  parks_nearest  ponds_around3000  \\\n",
       "0                16028                 1            482                 2   \n",
       "1                18603                 0           <NA>                 0   \n",
       "2                13933                 1             90                 2   \n",
       "3                 6800                 2             84                 3   \n",
       "4                 8098                 2            112                 1   \n",
       "\n",
       "   ponds_nearest  days_exposition  \n",
       "0            755             <NA>  \n",
       "1           <NA>               81  \n",
       "2            574              558  \n",
       "3            234              424  \n",
       "4             48              121  "
      ]
     },
     "execution_count": 20,
     "metadata": {},
     "output_type": "execute_result"
    }
   ],
   "source": [
    "columns = ['last_price',\n",
    "           'floors_total', \n",
    "           'balcony', \n",
    "           'airports_nearest', \n",
    "           'cityCenters_nearest',\n",
    "           'parks_around3000', \n",
    "           'parks_nearest', \n",
    "           'ponds_around3000', \n",
    "           'ponds_nearest']\n",
    "\n",
    "for col in columns:\n",
    "    data[col] = data[col].astype('Int64')\n",
    "    \n",
    "data['days_exposition'] = data['days_exposition'].round().astype('Int64')\n",
    "\n",
    "data.head(5)"
   ]
  },
  {
   "cell_type": "markdown",
   "metadata": {},
   "source": [
    "Изменениям подверглись столбцы, тип данных которых был равен float64 ('last_price', 'floors_total', 'balcony',  'airports_nearest', 'cityCenters_nearest', 'parks_around3000', 'parks_nearest', 'ponds_around3000', 'ponds_nearest'). Сами числа в этих столбцах не были вещественными, а значит и оставлять их float64 нет никакого смысла. Как пример, количество этажей в доме (floors_total) не может быть равным 12.5"
   ]
  },
  {
   "cell_type": "code",
   "execution_count": 21,
   "metadata": {
    "scrolled": true
   },
   "outputs": [
    {
     "data": {
      "text/plain": [
       "365"
      ]
     },
     "execution_count": 21,
     "metadata": {},
     "output_type": "execute_result"
    }
   ],
   "source": [
    "len(data['locality_name'].unique())"
   ]
  },
  {
   "cell_type": "markdown",
   "metadata": {},
   "source": [
    "Подсчет количества значений в столбце 'locality_name' до удаления неявных дубликатов."
   ]
  },
  {
   "cell_type": "code",
   "execution_count": 22,
   "metadata": {
    "scrolled": true
   },
   "outputs": [],
   "source": [
    "str_rform = {\n",
    "    'ё': 'е',\n",
    "    ' при железнодорожной': '',\n",
    "    'городской поселок': 'поселок городского типа'\n",
    "}\n",
    "\n",
    "names_rform = {\n",
    "    'поселок Мурино': 'Мурино',\n",
    "    'деревня Зимитицы': 'поселок Зимитицы',\n",
    "    'деревня Щеглово': 'поселок Щеглово',\n",
    "    'поселок Рабитцы': 'деревня Рабитицы',\n",
    "    'садовое товарищество Приладожский': 'поселок городского типа Приладожский',\n",
    "    'Кудрово': 'деревня Кудрово',\n",
    "    'поселок Рябово': 'поселок городского типа Рябово',\n",
    "    'коттеджный поселок Лесное': 'поселок Лесное',\n",
    "}\n",
    "\n",
    "for w, r in str_rform.items():\n",
    "    data['locality_name'] = data['locality_name'].str.replace(w, r)\n",
    "\n",
    "for w, r in names_rform.items():\n",
    "    data['locality_name'] = data['locality_name'].replace(w, r)"
   ]
  },
  {
   "cell_type": "markdown",
   "metadata": {},
   "source": [
    "Сначала удаляем дубликаты, которые возникли из-за двух написаний слова посе(ё)лок. Затем удаляем дубликаты типа 'поселок Рабитцы' -> 'Деревня Рабитцы'. "
   ]
  },
  {
   "cell_type": "code",
   "execution_count": 23,
   "metadata": {
    "scrolled": true
   },
   "outputs": [
    {
     "data": {
      "text/plain": [
       "315"
      ]
     },
     "execution_count": 23,
     "metadata": {},
     "output_type": "execute_result"
    }
   ],
   "source": [
    "len(data['locality_name'].unique())"
   ]
  },
  {
   "cell_type": "markdown",
   "metadata": {},
   "source": [
    "Подсчет количества значений в столбце 'locality_name' после удаления неявных дубликатов. Уникальных элементов в столбце 'locality_name' стало меньше."
   ]
  },
  {
   "cell_type": "code",
   "execution_count": 24,
   "metadata": {},
   "outputs": [],
   "source": [
    "data = data.query('ceiling_height < 35 and ceiling_height > 1.75')\n",
    "data['ceiling_height'] = data['ceiling_height'].where(data['ceiling_height'] < 20, data['ceiling_height'] / 10)\n",
    "\n",
    "lp1 = np.percentile(data['last_price'], 1)\n",
    "lp99 = np.percentile(data['last_price'], 99)\n",
    "\n",
    "ta1 = np.percentile(data['total_area'], 1)\n",
    "ta99 = np.percentile(data['total_area'], 99)"
   ]
  },
  {
   "cell_type": "code",
   "execution_count": 12,
   "metadata": {
    "scrolled": true
   },
   "outputs": [],
   "source": [
    "data = data.query('last_price > @lp1 and last_price < @lp99')\n",
    "data = data.query('total_area > @ta1 and total_area < @ta99')"
   ]
  },
  {
   "cell_type": "code",
   "execution_count": 26,
   "metadata": {},
   "outputs": [
    {
     "data": {
      "text/plain": [
       "1     8045\n",
       "2     7938\n",
       "3     5814\n",
       "4     1180\n",
       "5      326\n",
       "0      197\n",
       "6      105\n",
       "7       59\n",
       "8       12\n",
       "9        8\n",
       "10       3\n",
       "11       2\n",
       "14       2\n",
       "19       1\n",
       "16       1\n",
       "12       1\n",
       "15       1\n",
       "Name: rooms, dtype: int64"
      ]
     },
     "execution_count": 26,
     "metadata": {},
     "output_type": "execute_result"
    }
   ],
   "source": [
    "data['rooms'].value_counts()"
   ]
  },
  {
   "cell_type": "markdown",
   "metadata": {},
   "source": [
    "Столбец 'ceiling_height':\n",
    "Из датафрейма были удалены строки, где в столбце 'ceiling_height' (высота потолка в метрах) были значения больше 35, либо меньше 1,75. Также значения в данном столбце, которые были больше 20, были поделены на 10 (предполагаем, что, например, высота потолка равная 25 метрам должна была быть записана как 2,5 м.\n",
    "\n",
    "Остальные столбцы ('last_price', 'total_area', 'rooms') были очищены от аномалий по принципу нахождения 1 и 99 персентиля и удаления значений, которые в эти персентили не входят."
   ]
  },
  {
   "cell_type": "markdown",
   "metadata": {},
   "source": [
    "### Добавление в таблицу новых столбцов"
   ]
  },
  {
   "cell_type": "code",
   "execution_count": 12,
   "metadata": {},
   "outputs": [
    {
     "data": {
      "text/html": [
       "<div>\n",
       "<style scoped>\n",
       "    .dataframe tbody tr th:only-of-type {\n",
       "        vertical-align: middle;\n",
       "    }\n",
       "\n",
       "    .dataframe tbody tr th {\n",
       "        vertical-align: top;\n",
       "    }\n",
       "\n",
       "    .dataframe thead th {\n",
       "        text-align: right;\n",
       "    }\n",
       "</style>\n",
       "<table border=\"1\" class=\"dataframe\">\n",
       "  <thead>\n",
       "    <tr style=\"text-align: right;\">\n",
       "      <th></th>\n",
       "      <th>total_images</th>\n",
       "      <th>last_price</th>\n",
       "      <th>total_area</th>\n",
       "      <th>first_day_exposition</th>\n",
       "      <th>rooms</th>\n",
       "      <th>ceiling_height</th>\n",
       "      <th>floors_total</th>\n",
       "      <th>living_area</th>\n",
       "      <th>floor</th>\n",
       "      <th>is_apartment</th>\n",
       "      <th>studio</th>\n",
       "      <th>open_plan</th>\n",
       "      <th>kitchen_area</th>\n",
       "      <th>balcony</th>\n",
       "      <th>locality_name</th>\n",
       "      <th>airports_nearest</th>\n",
       "      <th>cityCenters_nearest</th>\n",
       "      <th>parks_around3000</th>\n",
       "      <th>parks_nearest</th>\n",
       "      <th>ponds_around3000</th>\n",
       "      <th>ponds_nearest</th>\n",
       "      <th>days_exposition</th>\n",
       "      <th>square_meter_price</th>\n",
       "      <th>to_center</th>\n",
       "      <th>exposition_day</th>\n",
       "      <th>exposition_day_number</th>\n",
       "      <th>exposition_month</th>\n",
       "      <th>exposition_month_number</th>\n",
       "      <th>exposition_year</th>\n",
       "      <th>floor_type</th>\n",
       "      <th>floor_type_number</th>\n",
       "    </tr>\n",
       "  </thead>\n",
       "  <tbody>\n",
       "    <tr>\n",
       "      <th>0</th>\n",
       "      <td>20</td>\n",
       "      <td>13000000</td>\n",
       "      <td>108.0</td>\n",
       "      <td>2019-03-07T00:00:00</td>\n",
       "      <td>3</td>\n",
       "      <td>2.70</td>\n",
       "      <td>16</td>\n",
       "      <td>51.0</td>\n",
       "      <td>8</td>\n",
       "      <td>NaN</td>\n",
       "      <td>False</td>\n",
       "      <td>False</td>\n",
       "      <td>25.0</td>\n",
       "      <td>0</td>\n",
       "      <td>Санкт-Петербург</td>\n",
       "      <td>18863</td>\n",
       "      <td>16028</td>\n",
       "      <td>1</td>\n",
       "      <td>482</td>\n",
       "      <td>2</td>\n",
       "      <td>755</td>\n",
       "      <td>&lt;NA&gt;</td>\n",
       "      <td>120370.37037</td>\n",
       "      <td>17</td>\n",
       "      <td>Thursday</td>\n",
       "      <td>3</td>\n",
       "      <td>March</td>\n",
       "      <td>3</td>\n",
       "      <td>2019</td>\n",
       "      <td>другой</td>\n",
       "      <td>2.0</td>\n",
       "    </tr>\n",
       "    <tr>\n",
       "      <th>1</th>\n",
       "      <td>7</td>\n",
       "      <td>3350000</td>\n",
       "      <td>40.4</td>\n",
       "      <td>2018-12-04T00:00:00</td>\n",
       "      <td>1</td>\n",
       "      <td>2.65</td>\n",
       "      <td>11</td>\n",
       "      <td>18.6</td>\n",
       "      <td>1</td>\n",
       "      <td>NaN</td>\n",
       "      <td>False</td>\n",
       "      <td>False</td>\n",
       "      <td>11.0</td>\n",
       "      <td>2</td>\n",
       "      <td>поселок Шушары</td>\n",
       "      <td>12817</td>\n",
       "      <td>18603</td>\n",
       "      <td>0</td>\n",
       "      <td>&lt;NA&gt;</td>\n",
       "      <td>0</td>\n",
       "      <td>&lt;NA&gt;</td>\n",
       "      <td>81</td>\n",
       "      <td>82920.792079</td>\n",
       "      <td>19</td>\n",
       "      <td>Tuesday</td>\n",
       "      <td>1</td>\n",
       "      <td>December</td>\n",
       "      <td>12</td>\n",
       "      <td>2018</td>\n",
       "      <td>первый</td>\n",
       "      <td>0.0</td>\n",
       "    </tr>\n",
       "    <tr>\n",
       "      <th>2</th>\n",
       "      <td>10</td>\n",
       "      <td>5196000</td>\n",
       "      <td>56.0</td>\n",
       "      <td>2015-08-20T00:00:00</td>\n",
       "      <td>2</td>\n",
       "      <td>2.65</td>\n",
       "      <td>5</td>\n",
       "      <td>34.3</td>\n",
       "      <td>4</td>\n",
       "      <td>NaN</td>\n",
       "      <td>False</td>\n",
       "      <td>False</td>\n",
       "      <td>8.3</td>\n",
       "      <td>0</td>\n",
       "      <td>Санкт-Петербург</td>\n",
       "      <td>21741</td>\n",
       "      <td>13933</td>\n",
       "      <td>1</td>\n",
       "      <td>90</td>\n",
       "      <td>2</td>\n",
       "      <td>574</td>\n",
       "      <td>558</td>\n",
       "      <td>92785.714286</td>\n",
       "      <td>14</td>\n",
       "      <td>Thursday</td>\n",
       "      <td>3</td>\n",
       "      <td>August</td>\n",
       "      <td>8</td>\n",
       "      <td>2015</td>\n",
       "      <td>другой</td>\n",
       "      <td>2.0</td>\n",
       "    </tr>\n",
       "    <tr>\n",
       "      <th>4</th>\n",
       "      <td>2</td>\n",
       "      <td>10000000</td>\n",
       "      <td>100.0</td>\n",
       "      <td>2018-06-19T00:00:00</td>\n",
       "      <td>2</td>\n",
       "      <td>3.03</td>\n",
       "      <td>14</td>\n",
       "      <td>32.0</td>\n",
       "      <td>13</td>\n",
       "      <td>NaN</td>\n",
       "      <td>False</td>\n",
       "      <td>False</td>\n",
       "      <td>41.0</td>\n",
       "      <td>0</td>\n",
       "      <td>Санкт-Петербург</td>\n",
       "      <td>31856</td>\n",
       "      <td>8098</td>\n",
       "      <td>2</td>\n",
       "      <td>112</td>\n",
       "      <td>1</td>\n",
       "      <td>48</td>\n",
       "      <td>121</td>\n",
       "      <td>100000.0</td>\n",
       "      <td>9</td>\n",
       "      <td>Tuesday</td>\n",
       "      <td>1</td>\n",
       "      <td>June</td>\n",
       "      <td>6</td>\n",
       "      <td>2018</td>\n",
       "      <td>другой</td>\n",
       "      <td>2.0</td>\n",
       "    </tr>\n",
       "    <tr>\n",
       "      <th>5</th>\n",
       "      <td>10</td>\n",
       "      <td>2890000</td>\n",
       "      <td>30.4</td>\n",
       "      <td>2018-09-10T00:00:00</td>\n",
       "      <td>1</td>\n",
       "      <td>2.65</td>\n",
       "      <td>12</td>\n",
       "      <td>14.4</td>\n",
       "      <td>5</td>\n",
       "      <td>NaN</td>\n",
       "      <td>False</td>\n",
       "      <td>False</td>\n",
       "      <td>9.1</td>\n",
       "      <td>0</td>\n",
       "      <td>поселок городского типа Янино-1</td>\n",
       "      <td>&lt;NA&gt;</td>\n",
       "      <td>&lt;NA&gt;</td>\n",
       "      <td>&lt;NA&gt;</td>\n",
       "      <td>&lt;NA&gt;</td>\n",
       "      <td>&lt;NA&gt;</td>\n",
       "      <td>&lt;NA&gt;</td>\n",
       "      <td>55</td>\n",
       "      <td>95065.789474</td>\n",
       "      <td>&lt;NA&gt;</td>\n",
       "      <td>Monday</td>\n",
       "      <td>0</td>\n",
       "      <td>September</td>\n",
       "      <td>9</td>\n",
       "      <td>2018</td>\n",
       "      <td>другой</td>\n",
       "      <td>2.0</td>\n",
       "    </tr>\n",
       "  </tbody>\n",
       "</table>\n",
       "</div>"
      ],
      "text/plain": [
       "   total_images  last_price  total_area first_day_exposition  rooms  \\\n",
       "0            20    13000000       108.0  2019-03-07T00:00:00      3   \n",
       "1             7     3350000        40.4  2018-12-04T00:00:00      1   \n",
       "2            10     5196000        56.0  2015-08-20T00:00:00      2   \n",
       "4             2    10000000       100.0  2018-06-19T00:00:00      2   \n",
       "5            10     2890000        30.4  2018-09-10T00:00:00      1   \n",
       "\n",
       "   ceiling_height  floors_total  living_area  floor is_apartment  studio  \\\n",
       "0            2.70            16         51.0      8          NaN   False   \n",
       "1            2.65            11         18.6      1          NaN   False   \n",
       "2            2.65             5         34.3      4          NaN   False   \n",
       "4            3.03            14         32.0     13          NaN   False   \n",
       "5            2.65            12         14.4      5          NaN   False   \n",
       "\n",
       "   open_plan  kitchen_area  balcony                    locality_name  \\\n",
       "0      False          25.0        0                  Санкт-Петербург   \n",
       "1      False          11.0        2                   поселок Шушары   \n",
       "2      False           8.3        0                  Санкт-Петербург   \n",
       "4      False          41.0        0                  Санкт-Петербург   \n",
       "5      False           9.1        0  поселок городского типа Янино-1   \n",
       "\n",
       "   airports_nearest  cityCenters_nearest  parks_around3000  parks_nearest  \\\n",
       "0             18863                16028                 1            482   \n",
       "1             12817                18603                 0           <NA>   \n",
       "2             21741                13933                 1             90   \n",
       "4             31856                 8098                 2            112   \n",
       "5              <NA>                 <NA>              <NA>           <NA>   \n",
       "\n",
       "   ponds_around3000  ponds_nearest  days_exposition  square_meter_price  \\\n",
       "0                 2            755             <NA>        120370.37037   \n",
       "1                 0           <NA>               81        82920.792079   \n",
       "2                 2            574              558        92785.714286   \n",
       "4                 1             48              121            100000.0   \n",
       "5              <NA>           <NA>               55        95065.789474   \n",
       "\n",
       "   to_center exposition_day  exposition_day_number exposition_month  \\\n",
       "0         17       Thursday                      3            March   \n",
       "1         19        Tuesday                      1         December   \n",
       "2         14       Thursday                      3           August   \n",
       "4          9        Tuesday                      1             June   \n",
       "5       <NA>         Monday                      0        September   \n",
       "\n",
       "   exposition_month_number  exposition_year floor_type  floor_type_number  \n",
       "0                        3             2019     другой                2.0  \n",
       "1                       12             2018     первый                0.0  \n",
       "2                        8             2015     другой                2.0  \n",
       "4                        6             2018     другой                2.0  \n",
       "5                        9             2018     другой                2.0  "
      ]
     },
     "execution_count": 12,
     "metadata": {},
     "output_type": "execute_result"
    }
   ],
   "source": [
    "# функция, определяющая тип квартиры в объявлении ('первый', 'последний', 'другой')\n",
    "def floor_typing(row):\n",
    "    try:\n",
    "        if row['floor'] == 1:\n",
    "            return 'первый'\n",
    "\n",
    "        elif row['floor'] == row['floors_total']:\n",
    "            return 'последний'\n",
    "\n",
    "        else:\n",
    "            return 'другой'\n",
    "        \n",
    "    except:\n",
    "        pass\n",
    "    \n",
    "def floor_type_numbering(row):\n",
    "    try:\n",
    "        return floor_type_numbers[row['floor_type']]\n",
    "    \n",
    "    except:\n",
    "        pass\n",
    "    \n",
    "def day_numbering(row):\n",
    "    try:\n",
    "        return day_numbers[row['exposition_day']]\n",
    "    \n",
    "    except:\n",
    "        pass\n",
    "\n",
    "def month_numbering(row):\n",
    "    try:\n",
    "        return month_numbers[row['exposition_month']]\n",
    "    \n",
    "    except:\n",
    "        pass\n",
    "    \n",
    "data['square_meter_price'] = data['last_price'] / data['total_area'] #<= столбец с ценой одного квадратного метра\n",
    "data['to_center'] = (data['cityCenters_nearest'] / 1000).apply(np.ceil).astype('Int64') #<= расстояние до центра города в километрах\n",
    "\n",
    "floor_type_numbers = {\n",
    "    'первый': 0,\n",
    "    'последний': 1,\n",
    "    'другой': 2\n",
    "}\n",
    "\n",
    "day_numbers = {\n",
    "    'Monday': 0,\n",
    "    'Tuesday': 1,\n",
    "    'Wednesday': 2,\n",
    "    'Thursday': 3,\n",
    "    'Friday': 4,\n",
    "    'Saturday': 5,\n",
    "    'Sunday': 6\n",
    "}\n",
    "\n",
    "first_exposition_info = pd.DatetimeIndex(data['first_day_exposition']) #<= переменная с информацией о первой дате публикации\n",
    "data['exposition_day'] = first_exposition_info.day_name() #<= день\n",
    "data['exposition_day_number'] = data.apply(day_numbering, axis=1) #<= номер дня\n",
    "\n",
    "data['exposition_month'] = first_exposition_info.month_name() #<= номер месяца\n",
    "data['exposition_month_number'] = first_exposition_info.month\n",
    "\n",
    "data['exposition_year']  = first_exposition_info.year #<= год\n",
    "\n",
    "data['floor_type'] = data.apply(floor_typing, axis=1) #<= применение функции floor_typing к датафрейму\n",
    "data['floor_type_number'] = data.apply(floor_type_numbering, axis=1)\n",
    "\n",
    "data.head(5)"
   ]
  },
  {
   "cell_type": "markdown",
   "metadata": {},
   "source": [
    "### Исследовательский анализ данных"
   ]
  },
  {
   "cell_type": "code",
   "execution_count": 13,
   "metadata": {
    "scrolled": false
   },
   "outputs": [
    {
     "data": {
      "text/plain": [
       "45.0    409\n",
       "42.0    374\n",
       "60.0    345\n",
       "44.0    337\n",
       "31.0    336\n",
       "Name: total_area, dtype: int64"
      ]
     },
     "execution_count": 13,
     "metadata": {},
     "output_type": "execute_result"
    },
    {
     "data": {
      "image/png": "[encoded data removed]",
      "text/plain": [
       "<Figure size 432x288 with 1 Axes>"
      ]
     },
     "metadata": {
      "needs_background": "light"
     },
     "output_type": "display_data"
    }
   ],
   "source": [
    "ta_hist = data.hist(column='total_area', bins=40, range=(0, 300))\n",
    "\n",
    "for h in ta_hist.flatten():\n",
    "    h.set_xlabel('Общая площадь (М)')\n",
    "    h.set_ylabel('Количество объявлений')\n",
    "\n",
    "data['total_area'].value_counts().head(5)"
   ]
  },
  {
   "cell_type": "markdown",
   "metadata": {},
   "source": [
    "Чаще всего встречаются объявления с общей площадью помещения равной 45 метрам."
   ]
  },
  {
   "cell_type": "code",
   "execution_count": 14,
   "metadata": {
    "scrolled": false
   },
   "outputs": [
    {
     "data": {
      "text/plain": [
       "18.0    843\n",
       "17.0    638\n",
       "30.0    584\n",
       "20.0    468\n",
       "16.0    458\n",
       "Name: living_area, dtype: int64"
      ]
     },
     "execution_count": 14,
     "metadata": {},
     "output_type": "execute_result"
    },
    {
     "data": {
      "image/png": "[encoded data removed]",
      "text/plain": [
       "<Figure size 432x288 with 1 Axes>"
      ]
     },
     "metadata": {
      "needs_background": "light"
     },
     "output_type": "display_data"
    }
   ],
   "source": [
    "la_hist = data.hist(column='living_area', range=(0, 250))\n",
    "\n",
    "for h in la_hist.flatten():\n",
    "    h.set_xlabel('Жилая площадь (М)')\n",
    "    h.set_ylabel('Количество объявлений')\n",
    "\n",
    "data['living_area'].value_counts().head(5)"
   ]
  },
  {
   "cell_type": "markdown",
   "metadata": {},
   "source": [
    "Чаще всего встречаются объявления с жилой площадью помещения равной 18 метрам."
   ]
  },
  {
   "cell_type": "code",
   "execution_count": 15,
   "metadata": {
    "scrolled": false
   },
   "outputs": [
    {
     "data": {
      "text/plain": [
       "10.0    1257\n",
       "6.0     1239\n",
       "8.0     1087\n",
       "9.0     1084\n",
       "7.0     1042\n",
       "Name: kitchen_area, dtype: int64"
      ]
     },
     "execution_count": 15,
     "metadata": {},
     "output_type": "execute_result"
    },
    {
     "data": {
      "image/png": "[encoded data removed]",
      "text/plain": [
       "<Figure size 432x288 with 1 Axes>"
      ]
     },
     "metadata": {
      "needs_background": "light"
     },
     "output_type": "display_data"
    }
   ],
   "source": [
    "ka_hist = data.hist(column='kitchen_area', range=(0, 80))\n",
    "\n",
    "for h in ka_hist.flatten():\n",
    "    h.set_xlabel('Площадь кухни (М)')\n",
    "    h.set_ylabel('Количество объявлений')\n",
    "    \n",
    "data['kitchen_area'].value_counts().head(5)"
   ]
  },
  {
   "cell_type": "markdown",
   "metadata": {},
   "source": [
    "Чаще всего встречаются объявления с площадью кухни равной 6 метрам."
   ]
  },
  {
   "cell_type": "code",
   "execution_count": 16,
   "metadata": {
    "scrolled": false
   },
   "outputs": [
    {
     "data": {
      "text/plain": [
       "4500000    342\n",
       "3500000    291\n",
       "4300000    260\n",
       "4200000    258\n",
       "4000000    258\n",
       "Name: last_price, dtype: Int64"
      ]
     },
     "execution_count": 16,
     "metadata": {},
     "output_type": "execute_result"
    },
    {
     "data": {
      "image/png": "[encoded data removed]",
      "text/plain": [
       "<Figure size 432x288 with 1 Axes>"
      ]
     },
     "metadata": {
      "needs_background": "light"
     },
     "output_type": "display_data"
    }
   ],
   "source": [
    "lp_hist = data.hist(column='last_price', range=(400_000, 50_000_000))\n",
    "\n",
    "for h in lp_hist.flatten():\n",
    "    h.set_xlabel('Цена')\n",
    "    h.set_ylabel('Количество объявлений')\n",
    "    \n",
    "data['last_price'].value_counts().head(5)"
   ]
  },
  {
   "cell_type": "markdown",
   "metadata": {},
   "source": [
    "Чаще всего встречаются объявления с ценой квартиры равной 4500000 рублей."
   ]
  },
  {
   "cell_type": "code",
   "execution_count": 17,
   "metadata": {
    "scrolled": false
   },
   "outputs": [
    {
     "data": {
      "text/plain": [
       "2    7821\n",
       "1    7775\n",
       "3    5705\n",
       "4    1099\n",
       "5     251\n",
       "Name: rooms, dtype: int64"
      ]
     },
     "execution_count": 17,
     "metadata": {},
     "output_type": "execute_result"
    },
    {
     "data": {
      "image/png": "[encoded data removed]",
      "text/plain": [
       "<Figure size 432x288 with 1 Axes>"
      ]
     },
     "metadata": {
      "needs_background": "light"
     },
     "output_type": "display_data"
    }
   ],
   "source": [
    "r_hist = data.hist(column='rooms', range=(0, 10))\n",
    "\n",
    "for h in r_hist.flatten():\n",
    "    h.set_xlabel('Количество комнат')\n",
    "    h.set_ylabel('Количество объявлений')\n",
    "    \n",
    "data['rooms'].value_counts().head(5)"
   ]
  },
  {
   "cell_type": "markdown",
   "metadata": {},
   "source": [
    "Чаще всего встречаются объявления с одной комнатой в квартире."
   ]
  },
  {
   "cell_type": "code",
   "execution_count": 18,
   "metadata": {
    "scrolled": false
   },
   "outputs": [
    {
     "data": {
      "text/plain": [
       "2.65    9440\n",
       "2.50    3451\n",
       "2.60    1629\n",
       "2.70    1557\n",
       "3.00    1057\n",
       "Name: ceiling_height, dtype: int64"
      ]
     },
     "execution_count": 18,
     "metadata": {},
     "output_type": "execute_result"
    },
    {
     "data": {
      "image/png": "[encoded data removed]",
      "text/plain": [
       "<Figure size 432x288 with 1 Axes>"
      ]
     },
     "metadata": {
      "needs_background": "light"
     },
     "output_type": "display_data"
    }
   ],
   "source": [
    "ch_hist = data.hist(column='ceiling_height', range=(1.5, 8))\n",
    "\n",
    "for h in ch_hist.flatten():\n",
    "    h.set_xlabel('Высота потолка (М)')\n",
    "    h.set_ylabel('Количество объявлений')\n",
    "    \n",
    "data['ceiling_height'].value_counts().head(5)"
   ]
  },
  {
   "cell_type": "code",
   "execution_count": 19,
   "metadata": {
    "scrolled": false
   },
   "outputs": [
    {
     "data": {
      "text/plain": [
       "2    3234\n",
       "3    2962\n",
       "1    2775\n",
       "4    2689\n",
       "5    2518\n",
       "Name: floor, dtype: int64"
      ]
     },
     "execution_count": 19,
     "metadata": {},
     "output_type": "execute_result"
    },
    {
     "data": {
      "image/png": "[encoded data removed]",
      "text/plain": [
       "<Figure size 432x288 with 1 Axes>"
      ]
     },
     "metadata": {
      "needs_background": "light"
     },
     "output_type": "display_data"
    }
   ],
   "source": [
    "f_hist = data.hist(column='floor')\n",
    "\n",
    "for h in f_hist.flatten():\n",
    "    h.set_xlabel('Этаж')\n",
    "    h.set_ylabel('Количество объявлений')\n",
    "    \n",
    "data['floor'].value_counts().head(5)"
   ]
  },
  {
   "cell_type": "markdown",
   "metadata": {},
   "source": [
    "Чаще всего встречаются объявления, в которых квартира расположена на втором этаже."
   ]
  },
  {
   "cell_type": "code",
   "execution_count": 20,
   "metadata": {
    "scrolled": false
   },
   "outputs": [
    {
     "data": {
      "text/plain": [
       "5     5544\n",
       "9     3714\n",
       "16    1355\n",
       "12    1339\n",
       "10    1156\n",
       "Name: floors_total, dtype: Int64"
      ]
     },
     "execution_count": 20,
     "metadata": {},
     "output_type": "execute_result"
    },
    {
     "data": {
      "image/png": "[encoded data removed]",
      "text/plain": [
       "<Figure size 432x288 with 1 Axes>"
      ]
     },
     "metadata": {
      "needs_background": "light"
     },
     "output_type": "display_data"
    }
   ],
   "source": [
    "ft_hist = data.hist(column='floors_total')\n",
    "\n",
    "for h in ft_hist.flatten():\n",
    "    h.set_xlabel('Количество этажей')\n",
    "    h.set_ylabel('Количество объявлений')\n",
    "    \n",
    "data['floors_total'].value_counts().head(5)"
   ]
  },
  {
   "cell_type": "markdown",
   "metadata": {},
   "source": [
    "Чаще всего встречаются объявления, где квартира продается в пятиэтажке."
   ]
  },
  {
   "cell_type": "code",
   "execution_count": 21,
   "metadata": {
    "scrolled": false
   },
   "outputs": [
    {
     "data": {
      "text/plain": [
       "13    1508\n",
       "15    1499\n",
       "12    1397\n",
       "14    1385\n",
       "16    1362\n",
       "Name: to_center, dtype: Int64"
      ]
     },
     "execution_count": 21,
     "metadata": {},
     "output_type": "execute_result"
    },
    {
     "data": {
      "image/png": "[encoded data removed]",
      "text/plain": [
       "<Figure size 432x288 with 1 Axes>"
      ]
     },
     "metadata": {
      "needs_background": "light"
     },
     "output_type": "display_data"
    }
   ],
   "source": [
    "tc_hist = data.hist(column='to_center')\n",
    "\n",
    "for h in tc_hist.flatten():\n",
    "    h.set_xlabel('Расстояние до центра (КМ)')\n",
    "    h.set_ylabel('Количество объявлений')\n",
    "    \n",
    "data['to_center'].value_counts().head(5)"
   ]
  },
  {
   "cell_type": "markdown",
   "metadata": {},
   "source": [
    "Чаще всего встречаются объявления, где расстояние до центра города равно 13 километрам."
   ]
  },
  {
   "cell_type": "code",
   "execution_count": 22,
   "metadata": {
    "scrolled": false
   },
   "outputs": [
    {
     "data": {
      "text/plain": [
       "37434    61\n",
       "21928    32\n",
       "44870    30\n",
       "39946    29\n",
       "37407    27\n",
       "Name: airports_nearest, dtype: Int64"
      ]
     },
     "execution_count": 22,
     "metadata": {},
     "output_type": "execute_result"
    },
    {
     "data": {
      "image/png": "[encoded data removed]",
      "text/plain": [
       "<Figure size 432x288 with 1 Axes>"
      ]
     },
     "metadata": {
      "needs_background": "light"
     },
     "output_type": "display_data"
    }
   ],
   "source": [
    "an_hist = data.hist(column='airports_nearest')\n",
    "\n",
    "for h in an_hist.flatten():\n",
    "    h.set_xlabel('Расстояние до аэропорта (М)')\n",
    "    h.set_ylabel('Количество объявлений')\n",
    "    \n",
    "data['airports_nearest'].value_counts().head(5)"
   ]
  },
  {
   "cell_type": "markdown",
   "metadata": {},
   "source": [
    "Чаще всего встречаются объявления, где расстояние до ближайшего аэропорта равно 20 километрам."
   ]
  },
  {
   "cell_type": "code",
   "execution_count": 23,
   "metadata": {
    "scrolled": false
   },
   "outputs": [
    {
     "data": {
      "text/plain": [
       "441    67\n",
       "392    41\n",
       "173    40\n",
       "456    39\n",
       "471    30\n",
       "Name: parks_nearest, dtype: Int64"
      ]
     },
     "execution_count": 23,
     "metadata": {},
     "output_type": "execute_result"
    },
    {
     "data": {
      "image/png": "[encoded data removed]",
      "text/plain": [
       "<Figure size 432x288 with 1 Axes>"
      ]
     },
     "metadata": {
      "needs_background": "light"
     },
     "output_type": "display_data"
    }
   ],
   "source": [
    "pn_hist = data.hist(column='parks_nearest')\n",
    "\n",
    "for h in pn_hist.flatten():\n",
    "    h.set_xlabel('Расстояние до парка (М)')\n",
    "    h.set_ylabel('Количество объявлений')\n",
    "    \n",
    "data['parks_nearest'].value_counts().head(5)"
   ]
  },
  {
   "cell_type": "markdown",
   "metadata": {},
   "source": [
    "Чаще всего встречаются объявления, где расстояние до ближайшего парка равно 500 метрам."
   ]
  },
  {
   "cell_type": "code",
   "execution_count": 24,
   "metadata": {},
   "outputs": [
    {
     "name": "stdout",
     "output_type": "stream",
     "text": [
      "другой       16851\n",
      "последний     3147\n",
      "первый        2775\n",
      "Name: floor_type, dtype: int64\n"
     ]
    },
    {
     "data": {
      "image/png": "[encoded data removed]",
      "text/plain": [
       "<Figure size 432x288 with 1 Axes>"
      ]
     },
     "metadata": {
      "needs_background": "light"
     },
     "output_type": "display_data"
    }
   ],
   "source": [
    "ft = data['floor_type'].value_counts()\n",
    "print(ft)\n",
    "ft.plot(kind='bar', \n",
    "        title='Типы этажей квартиры и их количества объявлений', \n",
    "        ylabel='Количество объявлений', \n",
    "        xlabel='Тип этажа квартиры', \n",
    "        grid=True);"
   ]
  },
  {
   "cell_type": "markdown",
   "metadata": {},
   "source": [
    "Больше всего объявлений с типом этажа 'другой'."
   ]
  },
  {
   "cell_type": "code",
   "execution_count": 25,
   "metadata": {},
   "outputs": [
    {
     "name": "stdout",
     "output_type": "stream",
     "text": [
      "Thursday     4125\n",
      "Tuesday      4055\n",
      "Friday       3873\n",
      "Wednesday    3817\n",
      "Monday       3493\n",
      "Saturday     1848\n",
      "Sunday       1639\n",
      "Name: exposition_day, dtype: int64\n"
     ]
    },
    {
     "data": {
      "image/png": "[encoded data removed]",
      "text/plain": [
       "<Figure size 432x288 with 1 Axes>"
      ]
     },
     "metadata": {
      "needs_background": "light"
     },
     "output_type": "display_data"
    }
   ],
   "source": [
    "ed = data['exposition_day'].value_counts()\n",
    "print(ed)\n",
    "ed.plot(kind='bar', \n",
    "        title='Дни недели и их количества объявлений', \n",
    "        ylabel='Количество объявлений', \n",
    "        xlabel='День недели', \n",
    "        grid=True);"
   ]
  },
  {
   "cell_type": "markdown",
   "metadata": {},
   "source": [
    "Больше всего объявлений было размещено в четверг."
   ]
  },
  {
   "cell_type": "code",
   "execution_count": 26,
   "metadata": {},
   "outputs": [
    {
     "name": "stdout",
     "output_type": "stream",
     "text": [
      "February     2550\n",
      "March        2496\n",
      "April        2299\n",
      "November     2287\n",
      "October      2071\n",
      "September    1907\n",
      "June         1693\n",
      "August       1682\n",
      "July         1630\n",
      "December     1576\n",
      "January      1435\n",
      "May          1224\n",
      "Name: exposition_month, dtype: int64\n"
     ]
    },
    {
     "data": {
      "image/png": "[encoded data removed]",
      "text/plain": [
       "<Figure size 432x288 with 1 Axes>"
      ]
     },
     "metadata": {
      "needs_background": "light"
     },
     "output_type": "display_data"
    }
   ],
   "source": [
    "em = data['exposition_month'].value_counts()\n",
    "print(em)\n",
    "em.plot(kind='bar', \n",
    "        title='Месяца года и их количества объявлений', \n",
    "        ylabel='Количество объявлений', \n",
    "        xlabel='Месяц', \n",
    "        grid=True);"
   ]
  },
  {
   "cell_type": "markdown",
   "metadata": {},
   "source": [
    "Чаще всего объявления публиковались в феврале."
   ]
  },
  {
   "cell_type": "code",
   "execution_count": 27,
   "metadata": {},
   "outputs": [
    {
     "name": "stdout",
     "output_type": "stream",
     "text": [
      "Средняя длительность продажи: 180 дней.\n",
      "Медианная длительность продажи: 95 дней.\n"
     ]
    },
    {
     "data": {
      "image/png": "[encoded data removed]",
      "text/plain": [
       "<Figure size 432x288 with 1 Axes>"
      ]
     },
     "metadata": {
      "needs_background": "light"
     },
     "output_type": "display_data"
    }
   ],
   "source": [
    "de_hist = data.hist(column='days_exposition')\n",
    "\n",
    "for h in de_hist.flatten():\n",
    "    h.set_xlabel('Дни')\n",
    "    h.set_ylabel('Количество объявлений')\n",
    "    \n",
    "mn = data['days_exposition'].mean()\n",
    "md = data['days_exposition'].median()\n",
    "print(f'Средняя длительность продажи: {round(mn)} дней.')\n",
    "print(f'Медианная длительность продажи: {round(md)} дней.')"
   ]
  },
  {
   "cell_type": "code",
   "execution_count": 28,
   "metadata": {},
   "outputs": [
    {
     "data": {
      "text/plain": [
       "count    19821.000000\n",
       "mean       180.221482\n",
       "std        218.875984\n",
       "min          1.000000\n",
       "25%         45.000000\n",
       "50%         95.000000\n",
       "75%        230.000000\n",
       "max       1580.000000\n",
       "Name: days_exposition, dtype: float64"
      ]
     },
     "execution_count": 28,
     "metadata": {},
     "output_type": "execute_result"
    }
   ],
   "source": [
    "data['days_exposition'].describe()"
   ]
  },
  {
   "cell_type": "markdown",
   "metadata": {},
   "source": [
    "Быстрыми можно считать продажи, которые были совершены в течение 45 дней с момента добавления объявления. Долгие продажи - те, которые были совершены в течение 230 дней с момента публикации объявления о продаже. Обычная продажа - медианное значение длительности продажи."
   ]
  },
  {
   "cell_type": "code",
   "execution_count": 29,
   "metadata": {
    "scrolled": true
   },
   "outputs": [
    {
     "data": {
      "text/plain": [
       "0.7802911839022111"
      ]
     },
     "execution_count": 29,
     "metadata": {},
     "output_type": "execute_result"
    },
    {
     "data": {
      "image/png": "[encoded data removed]",
      "text/plain": [
       "<Figure size 432x288 with 1 Axes>"
      ]
     },
     "metadata": {
      "needs_background": "light"
     },
     "output_type": "display_data"
    }
   ],
   "source": [
    "data.plot(x='total_area', y='last_price', kind='scatter')\n",
    "data['total_area'].corr(data['last_price'].astype('float64'))"
   ]
  },
  {
   "cell_type": "markdown",
   "metadata": {},
   "source": [
    "Исходя из коэффициента корреляции, равного 0.65, можно сделать вывод, что связь между общей площадью квартиры и ее ценой наблюдается."
   ]
  },
  {
   "cell_type": "code",
   "execution_count": 30,
   "metadata": {},
   "outputs": [
    {
     "data": {
      "text/plain": [
       "0.6675680404476158"
      ]
     },
     "execution_count": 30,
     "metadata": {},
     "output_type": "execute_result"
    },
    {
     "data": {
      "image/png": "[encoded data removed]",
      "text/plain": [
       "<Figure size 432x288 with 1 Axes>"
      ]
     },
     "metadata": {
      "needs_background": "light"
     },
     "output_type": "display_data"
    }
   ],
   "source": [
    "data.plot(x='living_area', y='last_price', kind='scatter')\n",
    "data['living_area'].corr(data['last_price'].astype('float64'))"
   ]
  },
  {
   "cell_type": "markdown",
   "metadata": {},
   "source": [
    "Исходя из коэффициента корреляции, равного 0.56, можно сделать вывод, что связь между жилой площадью квартиры и ее ценой наблюдается, но при этом она уже куда более слабая, нежели в случае с общей площадью."
   ]
  },
  {
   "cell_type": "code",
   "execution_count": 31,
   "metadata": {},
   "outputs": [
    {
     "data": {
      "text/plain": [
       "0.5878460753611924"
      ]
     },
     "execution_count": 31,
     "metadata": {},
     "output_type": "execute_result"
    },
    {
     "data": {
      "image/png": "[encoded data removed]",
      "text/plain": [
       "<Figure size 432x288 with 1 Axes>"
      ]
     },
     "metadata": {
      "needs_background": "light"
     },
     "output_type": "display_data"
    }
   ],
   "source": [
    "data.plot(x='kitchen_area', y='last_price', kind='scatter')\n",
    "data['kitchen_area'].corr(data['last_price'].astype('float64'))"
   ]
  },
  {
   "cell_type": "markdown",
   "metadata": {},
   "source": [
    "Исходя из коэффициента корреляции, равного 0.51, можно сделать вывод, что связь между площадью кухни и ценой квартиры наблюдается, но при этом она уже куда более слабая, нежели в случае с общей и жилой площадьми."
   ]
  },
  {
   "cell_type": "code",
   "execution_count": 45,
   "metadata": {},
   "outputs": [
    {
     "data": {
      "image/png": "[encoded data removed]",
      "text/plain": [
       "<Figure size 432x288 with 1 Axes>"
      ]
     },
     "metadata": {
      "needs_background": "light"
     },
     "output_type": "display_data"
    }
   ],
   "source": [
    "r_pt = pd.pivot_table(data, index=['rooms'], values=['last_price'])\n",
    "r_pt.plot(title='Зависимость цены и количества комнат',\n",
    "                       xlabel='Количество комнат',\n",
    "                       ylabel='Стоимость квартиры',\n",
    "                       grid=True);"
   ]
  },
  {
   "cell_type": "markdown",
   "metadata": {},
   "source": [
    "Связь между количеством комнат и ценой квартиры есть: чем больше комнат, тем и больше цена объекта."
   ]
  },
  {
   "cell_type": "code",
   "execution_count": 48,
   "metadata": {},
   "outputs": [
    {
     "data": {
      "image/png": "[encoded data removed]",
      "text/plain": [
       "<Figure size 432x288 with 1 Axes>"
      ]
     },
     "metadata": {
      "needs_background": "light"
     },
     "output_type": "display_data"
    }
   ],
   "source": [
    "ft_pt = pd.pivot_table(data, index=['floor_type'], values=['last_price'])\n",
    "ft_pt.plot(title='Зависимость типа этажа и цены квартиры',\n",
    "                       xlabel='Тип этажа',\n",
    "                       ylabel='Стоимость квартиры',\n",
    "                       grid=True);"
   ]
  },
  {
   "cell_type": "markdown",
   "metadata": {},
   "source": [
    "На первом этаже самые дешевые квартиры."
   ]
  },
  {
   "cell_type": "code",
   "execution_count": 49,
   "metadata": {},
   "outputs": [
    {
     "data": {
      "image/png": "[encoded data removed]",
      "text/plain": [
       "<Figure size 432x288 with 1 Axes>"
      ]
     },
     "metadata": {
      "needs_background": "light"
     },
     "output_type": "display_data"
    }
   ],
   "source": [
    "edn_pt = pd.pivot_table(data, index=['exposition_day_number'], values=['last_price'])\n",
    "edn_pt.plot(title='Зависимость дня публикации объявления и цены квартиры',\n",
    "                       xlabel='День публикации',\n",
    "                       ylabel='Стоимость квартиры',\n",
    "                       grid=True);"
   ]
  },
  {
   "cell_type": "markdown",
   "metadata": {},
   "source": [
    "Дешевле всего квартиры, которые публиковались в субботу, дороже всего - те, которые публиковались в среду."
   ]
  },
  {
   "cell_type": "code",
   "execution_count": 50,
   "metadata": {},
   "outputs": [
    {
     "data": {
      "image/png": "[encoded data removed]",
      "text/plain": [
       "<Figure size 432x288 with 1 Axes>"
      ]
     },
     "metadata": {
      "needs_background": "light"
     },
     "output_type": "display_data"
    }
   ],
   "source": [
    "emn_pt = pd.pivot_table(data, index=['exposition_month_number'], values=['last_price'])\n",
    "emn_pt.plot(title='Зависимость месяца публикации объявления и цены квартиры',\n",
    "                       xlabel='Месяц публикации',\n",
    "                       ylabel='Стоимость квартиры',\n",
    "                       grid=True);"
   ]
  },
  {
   "cell_type": "markdown",
   "metadata": {},
   "source": [
    "Квартиры, объявления о продаже которых были опубликованы в июне, стоили дешевле всего."
   ]
  },
  {
   "cell_type": "code",
   "execution_count": 51,
   "metadata": {},
   "outputs": [
    {
     "data": {
      "image/png": "[encoded data removed]",
      "text/plain": [
       "<Figure size 432x288 with 1 Axes>"
      ]
     },
     "metadata": {
      "needs_background": "light"
     },
     "output_type": "display_data"
    }
   ],
   "source": [
    "ey_pt = pd.pivot_table(data, index=['exposition_year'], values=['last_price'])\n",
    "ey_pt.plot(title='Зависимость года публикации объявления и цены квартиры',\n",
    "                       xlabel='Год публикации',\n",
    "                       ylabel='Стоимость квартиры',\n",
    "                       grid=True);"
   ]
  },
  {
   "cell_type": "markdown",
   "metadata": {},
   "source": [
    "Квартиры дешевели с 2014 по 2018 год, с 2018 года наблюдается рост цены."
   ]
  },
  {
   "cell_type": "code",
   "execution_count": 37,
   "metadata": {},
   "outputs": [
    {
     "data": {
      "text/plain": [
       "Санкт-Петербург      15255\n",
       "Мурино                 551\n",
       "деревня Кудрово        442\n",
       "поселок Шушары         432\n",
       "Всеволожск             393\n",
       "Пушкин                 363\n",
       "Колпино                336\n",
       "поселок Парголово      325\n",
       "Гатчина                306\n",
       "Выборг                 228\n",
       "Name: locality_name, dtype: int64"
      ]
     },
     "execution_count": 37,
     "metadata": {},
     "output_type": "execute_result"
    }
   ],
   "source": [
    "data['locality_name'].value_counts().head(10)"
   ]
  },
  {
   "cell_type": "markdown",
   "metadata": {},
   "source": [
    "Санкт-Петербург, Мурино, деревня Кудрово, поселок Шушары, Всеволожск, Пушкин, Колпино, поселок Парголово, Гатчина и Выборг - десять населенных пунктов с наибольшим количеством объявлений."
   ]
  },
  {
   "cell_type": "code",
   "execution_count": 38,
   "metadata": {},
   "outputs": [
    {
     "data": {
      "text/html": [
       "<style  type=\"text/css\" >\n",
       "</style><table id=\"T_20247_\" ><thead>    <tr>        <th class=\"blank level0\" ></th>        <th class=\"col_heading level0 col0\" >locality_name</th>        <th class=\"col_heading level0 col1\" >last_price</th>        <th class=\"col_heading level0 col2\" >square_meter_price</th>    </tr></thead><tbody>\n",
       "                <tr>\n",
       "                        <th id=\"T_20247_level0_row0\" class=\"row_heading level0 row0\" >0</th>\n",
       "                        <td id=\"T_20247_row0_col0\" class=\"data row0 col0\" >Санкт-Петербург</td>\n",
       "                        <td id=\"T_20247_row0_col1\" class=\"data row0 col1\" >15255</td>\n",
       "                        <td id=\"T_20247_row0_col2\" class=\"data row0 col2\" >110992</td>\n",
       "            </tr>\n",
       "            <tr>\n",
       "                        <th id=\"T_20247_level0_row1\" class=\"row_heading level0 row1\" >1</th>\n",
       "                        <td id=\"T_20247_row1_col0\" class=\"data row1 col0\" >Мурино</td>\n",
       "                        <td id=\"T_20247_row1_col1\" class=\"data row1 col1\" >551</td>\n",
       "                        <td id=\"T_20247_row1_col2\" class=\"data row1 col2\" >85259</td>\n",
       "            </tr>\n",
       "            <tr>\n",
       "                        <th id=\"T_20247_level0_row2\" class=\"row_heading level0 row2\" >2</th>\n",
       "                        <td id=\"T_20247_row2_col0\" class=\"data row2 col0\" >деревня Кудрово</td>\n",
       "                        <td id=\"T_20247_row2_col1\" class=\"data row2 col1\" >442</td>\n",
       "                        <td id=\"T_20247_row2_col2\" class=\"data row2 col2\" >94646</td>\n",
       "            </tr>\n",
       "            <tr>\n",
       "                        <th id=\"T_20247_level0_row3\" class=\"row_heading level0 row3\" >3</th>\n",
       "                        <td id=\"T_20247_row3_col0\" class=\"data row3 col0\" >поселок Шушары</td>\n",
       "                        <td id=\"T_20247_row3_col1\" class=\"data row3 col1\" >432</td>\n",
       "                        <td id=\"T_20247_row3_col2\" class=\"data row3 col2\" >78152</td>\n",
       "            </tr>\n",
       "            <tr>\n",
       "                        <th id=\"T_20247_level0_row4\" class=\"row_heading level0 row4\" >4</th>\n",
       "                        <td id=\"T_20247_row4_col0\" class=\"data row4 col0\" >Всеволожск</td>\n",
       "                        <td id=\"T_20247_row4_col1\" class=\"data row4 col1\" >393</td>\n",
       "                        <td id=\"T_20247_row4_col2\" class=\"data row4 col2\" >68694</td>\n",
       "            </tr>\n",
       "            <tr>\n",
       "                        <th id=\"T_20247_level0_row5\" class=\"row_heading level0 row5\" >5</th>\n",
       "                        <td id=\"T_20247_row5_col0\" class=\"data row5 col0\" >Пушкин</td>\n",
       "                        <td id=\"T_20247_row5_col1\" class=\"data row5 col1\" >363</td>\n",
       "                        <td id=\"T_20247_row5_col2\" class=\"data row5 col2\" >103077</td>\n",
       "            </tr>\n",
       "            <tr>\n",
       "                        <th id=\"T_20247_level0_row6\" class=\"row_heading level0 row6\" >6</th>\n",
       "                        <td id=\"T_20247_row6_col0\" class=\"data row6 col0\" >Колпино</td>\n",
       "                        <td id=\"T_20247_row6_col1\" class=\"data row6 col1\" >336</td>\n",
       "                        <td id=\"T_20247_row6_col2\" class=\"data row6 col2\" >75240</td>\n",
       "            </tr>\n",
       "            <tr>\n",
       "                        <th id=\"T_20247_level0_row7\" class=\"row_heading level0 row7\" >7</th>\n",
       "                        <td id=\"T_20247_row7_col0\" class=\"data row7 col0\" >поселок Парголово</td>\n",
       "                        <td id=\"T_20247_row7_col1\" class=\"data row7 col1\" >325</td>\n",
       "                        <td id=\"T_20247_row7_col2\" class=\"data row7 col2\" >90431</td>\n",
       "            </tr>\n",
       "            <tr>\n",
       "                        <th id=\"T_20247_level0_row8\" class=\"row_heading level0 row8\" >8</th>\n",
       "                        <td id=\"T_20247_row8_col0\" class=\"data row8 col0\" >Гатчина</td>\n",
       "                        <td id=\"T_20247_row8_col1\" class=\"data row8 col1\" >306</td>\n",
       "                        <td id=\"T_20247_row8_col2\" class=\"data row8 col2\" >68935</td>\n",
       "            </tr>\n",
       "            <tr>\n",
       "                        <th id=\"T_20247_level0_row9\" class=\"row_heading level0 row9\" >9</th>\n",
       "                        <td id=\"T_20247_row9_col0\" class=\"data row9 col0\" >Выборг</td>\n",
       "                        <td id=\"T_20247_row9_col1\" class=\"data row9 col1\" >228</td>\n",
       "                        <td id=\"T_20247_row9_col2\" class=\"data row9 col2\" >58308</td>\n",
       "            </tr>\n",
       "    </tbody></table>"
      ],
      "text/plain": [
       "<pandas.io.formats.style.Styler at 0x7eff512a3ca0>"
      ]
     },
     "execution_count": 38,
     "metadata": {},
     "output_type": "execute_result"
    }
   ],
   "source": [
    "(data.groupby('locality_name')\n",
    " .agg({'last_price': 'count', 'square_meter_price': 'mean'})\n",
    " .sort_values(by='last_price', ascending=False)\n",
    " .reset_index().head(10)\n",
    " .style.format({'square_meter_price': '{:.0f}'})\n",
    ")"
   ]
  },
  {
   "cell_type": "markdown",
   "metadata": {},
   "source": [
    "В Санкт-Петербурге самая высокая цена за квадратный метр - 114827Р, в то время как в Выборге самая низкая - 58142Р."
   ]
  },
  {
   "cell_type": "code",
   "execution_count": 39,
   "metadata": {},
   "outputs": [
    {
     "data": {
      "text/plain": [
       "to_center\n",
       "1     145748.859287\n",
       "2      138632.99265\n",
       "3     121570.535534\n",
       "4     120029.350228\n",
       "5     132431.651186\n",
       "6     134564.088853\n",
       "7     135076.170452\n",
       "8     129504.662429\n",
       "9     119705.064216\n",
       "10    109646.929355\n",
       "Name: square_meter_price, dtype: Float64"
      ]
     },
     "execution_count": 39,
     "metadata": {},
     "output_type": "execute_result"
    }
   ],
   "source": [
    "grouped_to_center = data.query('locality_name == \"Санкт-Петербург\"').groupby(by='to_center').mean()['square_meter_price']\n",
    "grouped_to_center.head(10)"
   ]
  },
  {
   "cell_type": "code",
   "execution_count": 40,
   "metadata": {},
   "outputs": [
    {
     "data": {
      "image/png": "[encoded data removed]",
      "text/plain": [
       "<Figure size 432x288 with 1 Axes>"
      ]
     },
     "metadata": {
      "needs_background": "light"
     },
     "output_type": "display_data"
    }
   ],
   "source": [
    "grouped_to_center.plot(title='Зависимость расстояния до центра и стоимости квадратного метра',\n",
    "                       xlabel='Расстояние до центра (км)',\n",
    "                       ylabel='Стоимость квадратного метра',\n",
    "                       grid=True);"
   ]
  },
  {
   "cell_type": "code",
   "execution_count": 41,
   "metadata": {},
   "outputs": [
    {
     "data": {
      "text/plain": [
       "-0.34066697843715166"
      ]
     },
     "execution_count": 41,
     "metadata": {},
     "output_type": "execute_result"
    }
   ],
   "source": [
    "(data.query('locality_name == \"Санкт-Петербург\"')['to_center']\n",
    " .astype('float64')\n",
    " .corr(data.query('locality_name == \"Санкт-Петербург\"')['square_meter_price']\n",
    " .astype('float64'))\n",
    ")"
   ]
  },
  {
   "cell_type": "markdown",
   "metadata": {},
   "source": [
    "Исходя из коэффициента корреляции, равного -0.3, можно сделать вывод, что связь между ценой за квадратный метр квартиры и расстояния до центра города слабая отрицательная: чем больше расстояние до центра города, тем меньше цена за квадратный метр."
   ]
  },
  {
   "cell_type": "markdown",
   "metadata": {},
   "source": [
    "### Общий вывод"
   ]
  },
  {
   "cell_type": "markdown",
   "metadata": {},
   "source": [
    "В ходе работы была воспроизведена предобработка данных: были изменены типы данных (в тех столбцах, где это было необходимо) удаленые аномальные значения и пропуски. Заменены неявные дубликаты в столбце с названиями населенных пунктов. В исходную таблицу были добавлены новые столбцы для дальнейшего анализа - цена одного квадратного метра, день недели публикации: как порядковый номер (от 0 до 6), так и обозначение на английском языке, месяц публикации объявления: как порядковый номер (от 0 до 11), так и обозначение на английском языке, год публикации объявления, тип этажа квартиры, а также расстояние до центра города в километрах. Были построены гистограммы для разных параметров объявления. Изучена длительность продажи квартиры (информация из столбца days_exposition).\n",
    "\n",
    "Какие выводы можно сделать: стоимость квартиры зависит от расстояния до центра города, количества комнат, общей площади, площади кухни и жилой площади. Самый частый день для размещения объявления - четверг, месяц - февраль."
   ]
  }
 ],
 "metadata": {
  "ExecuteTimeLog": [
   {
    "duration": 564,
    "start_time": "2023-01-29T10:06:43.463Z"
   },
   {
    "duration": 89,
    "start_time": "2023-01-29T10:07:01.332Z"
   },
   {
    "duration": 111,
    "start_time": "2023-01-29T10:07:24.239Z"
   },
   {
    "duration": 91,
    "start_time": "2023-01-29T10:08:39.340Z"
   },
   {
    "duration": 93,
    "start_time": "2023-01-29T10:08:55.393Z"
   },
   {
    "duration": 112,
    "start_time": "2023-01-29T10:09:17.495Z"
   },
   {
    "duration": 114,
    "start_time": "2023-01-29T10:10:46.367Z"
   },
   {
    "duration": 16,
    "start_time": "2023-01-29T10:11:16.446Z"
   },
   {
    "duration": 26,
    "start_time": "2023-01-29T10:11:35.842Z"
   },
   {
    "duration": 14,
    "start_time": "2023-01-29T10:12:17.447Z"
   },
   {
    "duration": 2540,
    "start_time": "2023-01-29T10:13:48.425Z"
   },
   {
    "duration": 2238,
    "start_time": "2023-01-29T10:14:04.681Z"
   },
   {
    "duration": 88,
    "start_time": "2023-01-29T10:17:57.017Z"
   },
   {
    "duration": 29,
    "start_time": "2023-01-29T10:18:03.683Z"
   },
   {
    "duration": 1125,
    "start_time": "2023-01-29T10:21:16.963Z"
   },
   {
    "duration": 29,
    "start_time": "2023-01-29T10:21:26.652Z"
   },
   {
    "duration": 8,
    "start_time": "2023-01-29T10:22:01.371Z"
   },
   {
    "duration": 40,
    "start_time": "2023-01-29T10:22:05.931Z"
   },
   {
    "duration": 8,
    "start_time": "2023-01-29T10:22:59.140Z"
   },
   {
    "duration": 12,
    "start_time": "2023-01-29T10:41:36.136Z"
   },
   {
    "duration": 8,
    "start_time": "2023-01-29T10:41:44.096Z"
   },
   {
    "duration": 16,
    "start_time": "2023-01-29T10:42:21.044Z"
   },
   {
    "duration": 7,
    "start_time": "2023-01-29T10:43:35.479Z"
   },
   {
    "duration": 17,
    "start_time": "2023-01-29T10:43:45.567Z"
   },
   {
    "duration": 27,
    "start_time": "2023-01-29T10:49:46.559Z"
   },
   {
    "duration": 20,
    "start_time": "2023-01-29T10:52:51.682Z"
   },
   {
    "duration": 36,
    "start_time": "2023-01-29T11:01:15.443Z"
   },
   {
    "duration": 45,
    "start_time": "2023-01-29T11:07:07.701Z"
   },
   {
    "duration": 108,
    "start_time": "2023-01-29T11:08:08.762Z"
   },
   {
    "duration": 15,
    "start_time": "2023-01-29T11:08:08.872Z"
   },
   {
    "duration": 2399,
    "start_time": "2023-01-29T11:08:08.888Z"
   },
   {
    "duration": 65,
    "start_time": "2023-01-29T11:08:11.289Z"
   },
   {
    "duration": 38,
    "start_time": "2023-01-29T11:08:11.356Z"
   },
   {
    "duration": 65,
    "start_time": "2023-01-29T11:09:23.833Z"
   },
   {
    "duration": 15,
    "start_time": "2023-01-29T11:10:51.091Z"
   },
   {
    "duration": 50,
    "start_time": "2023-01-29T11:11:03.981Z"
   },
   {
    "duration": 63,
    "start_time": "2023-01-29T11:22:47.622Z"
   },
   {
    "duration": 61,
    "start_time": "2023-01-29T11:23:55.393Z"
   },
   {
    "duration": 56,
    "start_time": "2023-01-30T10:07:43.858Z"
   },
   {
    "duration": 756,
    "start_time": "2023-01-30T10:07:55.837Z"
   },
   {
    "duration": 15,
    "start_time": "2023-01-30T10:07:56.596Z"
   },
   {
    "duration": 2439,
    "start_time": "2023-01-30T10:07:56.613Z"
   },
   {
    "duration": 54,
    "start_time": "2023-01-30T10:07:59.054Z"
   },
   {
    "duration": 34,
    "start_time": "2023-01-30T10:07:59.111Z"
   },
   {
    "duration": 108,
    "start_time": "2023-01-30T10:10:44.390Z"
   },
   {
    "duration": 13,
    "start_time": "2023-01-30T10:10:57.796Z"
   },
   {
    "duration": 44,
    "start_time": "2023-01-30T10:11:18.607Z"
   },
   {
    "duration": 62,
    "start_time": "2023-01-30T10:12:03.003Z"
   },
   {
    "duration": 59,
    "start_time": "2023-01-30T10:12:12.306Z"
   },
   {
    "duration": 54,
    "start_time": "2023-01-30T10:13:06.401Z"
   },
   {
    "duration": 47,
    "start_time": "2023-01-30T10:25:54.873Z"
   },
   {
    "duration": 2325,
    "start_time": "2023-01-30T10:35:51.075Z"
   },
   {
    "duration": 323,
    "start_time": "2023-01-30T10:40:42.911Z"
   },
   {
    "duration": 51,
    "start_time": "2023-01-30T14:06:32.337Z"
   },
   {
    "duration": 731,
    "start_time": "2023-01-30T14:06:38.514Z"
   },
   {
    "duration": 16,
    "start_time": "2023-01-30T14:06:39.248Z"
   },
   {
    "duration": 2417,
    "start_time": "2023-01-30T14:06:39.267Z"
   },
   {
    "duration": 13,
    "start_time": "2023-01-30T14:06:41.687Z"
   },
   {
    "duration": 89,
    "start_time": "2023-01-30T14:06:41.703Z"
   },
   {
    "duration": 348,
    "start_time": "2023-01-30T14:06:41.794Z"
   },
   {
    "duration": 12,
    "start_time": "2023-01-30T14:09:59.292Z"
   },
   {
    "duration": 563,
    "start_time": "2023-01-30T14:13:55.178Z"
   },
   {
    "duration": 4,
    "start_time": "2023-01-30T14:14:28.263Z"
   },
   {
    "duration": 39,
    "start_time": "2023-01-30T14:14:36.262Z"
   },
   {
    "duration": 15,
    "start_time": "2023-01-30T14:14:59.276Z"
   },
   {
    "duration": 529,
    "start_time": "2023-01-30T14:15:23.360Z"
   },
   {
    "duration": 17,
    "start_time": "2023-01-30T14:15:23.892Z"
   },
   {
    "duration": 2213,
    "start_time": "2023-01-30T14:15:23.912Z"
   },
   {
    "duration": 12,
    "start_time": "2023-01-30T14:15:26.128Z"
   },
   {
    "duration": 36,
    "start_time": "2023-01-30T14:15:26.142Z"
   },
   {
    "duration": 74,
    "start_time": "2023-01-30T14:15:26.181Z"
   },
   {
    "duration": 381,
    "start_time": "2023-01-30T14:15:26.258Z"
   },
   {
    "duration": 484,
    "start_time": "2023-01-30T14:15:42.315Z"
   },
   {
    "duration": 12,
    "start_time": "2023-01-30T14:16:01.334Z"
   },
   {
    "duration": 50,
    "start_time": "2023-01-30T17:42:50.458Z"
   },
   {
    "duration": 556,
    "start_time": "2023-01-30T17:42:58.993Z"
   },
   {
    "duration": 16,
    "start_time": "2023-01-30T17:42:59.550Z"
   },
   {
    "duration": 2457,
    "start_time": "2023-01-30T17:42:59.568Z"
   },
   {
    "duration": 15,
    "start_time": "2023-01-30T17:43:02.028Z"
   },
   {
    "duration": 28,
    "start_time": "2023-01-30T17:43:02.045Z"
   },
   {
    "duration": 103,
    "start_time": "2023-01-30T17:43:02.076Z"
   },
   {
    "duration": 0,
    "start_time": "2023-01-30T17:43:02.181Z"
   },
   {
    "duration": 0,
    "start_time": "2023-01-30T17:43:02.183Z"
   },
   {
    "duration": 11,
    "start_time": "2023-01-30T18:02:21.288Z"
   },
   {
    "duration": 30,
    "start_time": "2023-01-30T18:02:31.633Z"
   },
   {
    "duration": 32,
    "start_time": "2023-01-30T18:05:29.547Z"
   },
   {
    "duration": 33,
    "start_time": "2023-01-30T18:05:53.598Z"
   },
   {
    "duration": 27,
    "start_time": "2023-01-30T18:07:10.439Z"
   },
   {
    "duration": 29,
    "start_time": "2023-01-30T18:10:16.297Z"
   },
   {
    "duration": 802,
    "start_time": "2023-01-31T10:13:49.830Z"
   },
   {
    "duration": 22,
    "start_time": "2023-01-31T10:13:51.693Z"
   },
   {
    "duration": 2796,
    "start_time": "2023-01-31T10:13:53.080Z"
   },
   {
    "duration": 11,
    "start_time": "2023-01-31T10:13:55.879Z"
   },
   {
    "duration": 4,
    "start_time": "2023-01-31T10:13:56.180Z"
   },
   {
    "duration": 45,
    "start_time": "2023-01-31T10:13:57.365Z"
   },
   {
    "duration": 56,
    "start_time": "2023-01-31T10:13:58.552Z"
   },
   {
    "duration": 1116,
    "start_time": "2023-01-31T10:14:00.662Z"
   },
   {
    "duration": 18,
    "start_time": "2023-01-31T10:14:19.903Z"
   },
   {
    "duration": 19,
    "start_time": "2023-01-31T10:14:36.767Z"
   },
   {
    "duration": 18,
    "start_time": "2023-01-31T10:15:14.920Z"
   },
   {
    "duration": 22,
    "start_time": "2023-01-31T10:15:33.258Z"
   },
   {
    "duration": 572,
    "start_time": "2023-01-31T10:15:41.307Z"
   },
   {
    "duration": 18,
    "start_time": "2023-01-31T10:15:41.882Z"
   },
   {
    "duration": 2486,
    "start_time": "2023-01-31T10:15:41.902Z"
   },
   {
    "duration": 10,
    "start_time": "2023-01-31T10:15:44.391Z"
   },
   {
    "duration": 5,
    "start_time": "2023-01-31T10:15:44.403Z"
   },
   {
    "duration": 46,
    "start_time": "2023-01-31T10:15:44.409Z"
   },
   {
    "duration": 74,
    "start_time": "2023-01-31T10:15:44.457Z"
   },
   {
    "duration": 63,
    "start_time": "2023-01-31T10:15:44.533Z"
   },
   {
    "duration": 135,
    "start_time": "2023-01-31T10:15:44.598Z"
   },
   {
    "duration": 50,
    "start_time": "2023-01-31T10:16:17.729Z"
   },
   {
    "duration": 588,
    "start_time": "2023-01-31T10:17:00.618Z"
   },
   {
    "duration": 24,
    "start_time": "2023-01-31T10:17:01.208Z"
   },
   {
    "duration": 2402,
    "start_time": "2023-01-31T10:17:01.234Z"
   },
   {
    "duration": 10,
    "start_time": "2023-01-31T10:17:03.639Z"
   },
   {
    "duration": 10,
    "start_time": "2023-01-31T10:17:03.651Z"
   },
   {
    "duration": 43,
    "start_time": "2023-01-31T10:17:03.663Z"
   },
   {
    "duration": 61,
    "start_time": "2023-01-31T10:17:03.708Z"
   },
   {
    "duration": 63,
    "start_time": "2023-01-31T10:17:03.771Z"
   },
   {
    "duration": 93,
    "start_time": "2023-01-31T10:17:03.836Z"
   },
   {
    "duration": 827,
    "start_time": "2023-01-31T10:17:28.725Z"
   },
   {
    "duration": 12,
    "start_time": "2023-01-31T10:18:18.371Z"
   },
   {
    "duration": 14,
    "start_time": "2023-01-31T10:18:22.578Z"
   },
   {
    "duration": 365,
    "start_time": "2023-01-31T10:19:20.533Z"
   },
   {
    "duration": 216,
    "start_time": "2023-01-31T10:20:25.675Z"
   },
   {
    "duration": 14,
    "start_time": "2023-01-31T10:20:46.484Z"
   },
   {
    "duration": 231,
    "start_time": "2023-01-31T10:22:05.685Z"
   },
   {
    "duration": 242,
    "start_time": "2023-01-31T10:22:28.013Z"
   },
   {
    "duration": 216,
    "start_time": "2023-01-31T10:23:47.305Z"
   },
   {
    "duration": 220,
    "start_time": "2023-01-31T10:25:24.569Z"
   },
   {
    "duration": 13,
    "start_time": "2023-01-31T10:27:37.703Z"
   },
   {
    "duration": 15,
    "start_time": "2023-01-31T10:27:55.001Z"
   },
   {
    "duration": 206,
    "start_time": "2023-01-31T10:28:36.150Z"
   },
   {
    "duration": 211,
    "start_time": "2023-01-31T10:29:16.597Z"
   },
   {
    "duration": 25,
    "start_time": "2023-01-31T10:29:49.842Z"
   },
   {
    "duration": 235,
    "start_time": "2023-01-31T10:30:04.872Z"
   },
   {
    "duration": 217,
    "start_time": "2023-01-31T10:30:39.070Z"
   },
   {
    "duration": 207,
    "start_time": "2023-01-31T10:30:59.564Z"
   },
   {
    "duration": 16,
    "start_time": "2023-01-31T10:31:19.862Z"
   },
   {
    "duration": 14,
    "start_time": "2023-01-31T10:32:34.368Z"
   },
   {
    "duration": 15,
    "start_time": "2023-01-31T10:34:20.289Z"
   },
   {
    "duration": 13,
    "start_time": "2023-01-31T10:35:24.961Z"
   },
   {
    "duration": 13,
    "start_time": "2023-01-31T10:36:05.562Z"
   },
   {
    "duration": 556,
    "start_time": "2023-01-31T10:38:16.445Z"
   },
   {
    "duration": 19,
    "start_time": "2023-01-31T10:38:17.003Z"
   },
   {
    "duration": 2468,
    "start_time": "2023-01-31T10:38:17.024Z"
   },
   {
    "duration": 11,
    "start_time": "2023-01-31T10:38:19.494Z"
   },
   {
    "duration": 12,
    "start_time": "2023-01-31T10:38:19.508Z"
   },
   {
    "duration": 48,
    "start_time": "2023-01-31T10:38:19.522Z"
   },
   {
    "duration": 62,
    "start_time": "2023-01-31T10:38:19.572Z"
   },
   {
    "duration": 12,
    "start_time": "2023-01-31T10:38:19.636Z"
   },
   {
    "duration": 102,
    "start_time": "2023-01-31T10:38:19.650Z"
   },
   {
    "duration": 230,
    "start_time": "2023-01-31T10:39:01.239Z"
   },
   {
    "duration": 18,
    "start_time": "2023-01-31T10:40:09.976Z"
   },
   {
    "duration": 231,
    "start_time": "2023-01-31T10:41:20.338Z"
   },
   {
    "duration": 17,
    "start_time": "2023-01-31T10:42:48.791Z"
   },
   {
    "duration": 15,
    "start_time": "2023-01-31T10:43:21.022Z"
   },
   {
    "duration": 15,
    "start_time": "2023-01-31T10:43:35.995Z"
   },
   {
    "duration": 569,
    "start_time": "2023-01-31T10:43:42.285Z"
   },
   {
    "duration": 17,
    "start_time": "2023-01-31T10:43:42.856Z"
   },
   {
    "duration": 2537,
    "start_time": "2023-01-31T10:43:42.875Z"
   },
   {
    "duration": 11,
    "start_time": "2023-01-31T10:43:45.414Z"
   },
   {
    "duration": 4,
    "start_time": "2023-01-31T10:43:45.427Z"
   },
   {
    "duration": 98,
    "start_time": "2023-01-31T10:43:45.433Z"
   },
   {
    "duration": 0,
    "start_time": "2023-01-31T10:43:45.533Z"
   },
   {
    "duration": 0,
    "start_time": "2023-01-31T10:43:45.535Z"
   },
   {
    "duration": 0,
    "start_time": "2023-01-31T10:43:45.537Z"
   },
   {
    "duration": 539,
    "start_time": "2023-01-31T10:44:19.269Z"
   },
   {
    "duration": 18,
    "start_time": "2023-01-31T10:44:19.811Z"
   },
   {
    "duration": 2402,
    "start_time": "2023-01-31T10:44:19.831Z"
   },
   {
    "duration": 11,
    "start_time": "2023-01-31T10:44:22.234Z"
   },
   {
    "duration": 4,
    "start_time": "2023-01-31T10:44:22.247Z"
   },
   {
    "duration": 39,
    "start_time": "2023-01-31T10:44:22.253Z"
   },
   {
    "duration": 69,
    "start_time": "2023-01-31T10:44:22.293Z"
   },
   {
    "duration": 11,
    "start_time": "2023-01-31T10:44:22.364Z"
   },
   {
    "duration": 245,
    "start_time": "2023-01-31T10:44:22.377Z"
   },
   {
    "duration": 99,
    "start_time": "2023-01-31T10:45:17.092Z"
   },
   {
    "duration": 50,
    "start_time": "2023-01-31T10:51:05.811Z"
   },
   {
    "duration": 589,
    "start_time": "2023-01-31T10:51:12.683Z"
   },
   {
    "duration": 18,
    "start_time": "2023-01-31T10:51:13.274Z"
   },
   {
    "duration": 2661,
    "start_time": "2023-01-31T10:51:13.295Z"
   },
   {
    "duration": 11,
    "start_time": "2023-01-31T10:51:15.958Z"
   },
   {
    "duration": 4,
    "start_time": "2023-01-31T10:51:15.972Z"
   },
   {
    "duration": 44,
    "start_time": "2023-01-31T10:51:15.978Z"
   },
   {
    "duration": 0,
    "start_time": "2023-01-31T10:51:16.024Z"
   },
   {
    "duration": 0,
    "start_time": "2023-01-31T10:51:16.026Z"
   },
   {
    "duration": 0,
    "start_time": "2023-01-31T10:51:16.027Z"
   },
   {
    "duration": 93,
    "start_time": "2023-01-31T10:51:30.648Z"
   },
   {
    "duration": 41,
    "start_time": "2023-01-31T10:53:09.254Z"
   },
   {
    "duration": 4,
    "start_time": "2023-01-31T10:53:22.144Z"
   },
   {
    "duration": 15,
    "start_time": "2023-01-31T10:53:24.562Z"
   },
   {
    "duration": 546,
    "start_time": "2023-01-31T10:53:36.446Z"
   },
   {
    "duration": 17,
    "start_time": "2023-01-31T10:53:37.114Z"
   },
   {
    "duration": 2354,
    "start_time": "2023-01-31T10:53:41.026Z"
   },
   {
    "duration": 13,
    "start_time": "2023-01-31T10:53:46.322Z"
   },
   {
    "duration": 4,
    "start_time": "2023-01-31T10:53:47.459Z"
   },
   {
    "duration": 41,
    "start_time": "2023-01-31T10:53:49.399Z"
   },
   {
    "duration": 61,
    "start_time": "2023-01-31T10:54:11.108Z"
   },
   {
    "duration": 11,
    "start_time": "2023-01-31T10:54:17.749Z"
   },
   {
    "duration": 231,
    "start_time": "2023-01-31T10:54:20.841Z"
   },
   {
    "duration": 98,
    "start_time": "2023-01-31T10:54:54.880Z"
   },
   {
    "duration": 35,
    "start_time": "2023-01-31T10:56:19.409Z"
   },
   {
    "duration": 241,
    "start_time": "2023-01-31T10:56:30.457Z"
   },
   {
    "duration": 224,
    "start_time": "2023-01-31T10:57:26.906Z"
   },
   {
    "duration": 218,
    "start_time": "2023-01-31T10:57:35.039Z"
   },
   {
    "duration": 15,
    "start_time": "2023-01-31T10:59:19.373Z"
   },
   {
    "duration": 563,
    "start_time": "2023-01-31T10:59:38.882Z"
   },
   {
    "duration": 18,
    "start_time": "2023-01-31T10:59:39.447Z"
   },
   {
    "duration": 2397,
    "start_time": "2023-01-31T10:59:39.467Z"
   },
   {
    "duration": 10,
    "start_time": "2023-01-31T10:59:41.867Z"
   },
   {
    "duration": 4,
    "start_time": "2023-01-31T10:59:41.879Z"
   },
   {
    "duration": 46,
    "start_time": "2023-01-31T10:59:41.885Z"
   },
   {
    "duration": 55,
    "start_time": "2023-01-31T10:59:41.932Z"
   },
   {
    "duration": 11,
    "start_time": "2023-01-31T10:59:41.989Z"
   },
   {
    "duration": 242,
    "start_time": "2023-01-31T10:59:42.001Z"
   },
   {
    "duration": 14,
    "start_time": "2023-01-31T11:27:23.311Z"
   },
   {
    "duration": 565,
    "start_time": "2023-01-31T11:27:49.320Z"
   },
   {
    "duration": 17,
    "start_time": "2023-01-31T11:27:49.887Z"
   },
   {
    "duration": 2470,
    "start_time": "2023-01-31T11:27:49.906Z"
   },
   {
    "duration": 11,
    "start_time": "2023-01-31T11:27:52.378Z"
   },
   {
    "duration": 11,
    "start_time": "2023-01-31T11:27:52.392Z"
   },
   {
    "duration": 41,
    "start_time": "2023-01-31T11:27:52.404Z"
   },
   {
    "duration": 53,
    "start_time": "2023-01-31T11:27:52.446Z"
   },
   {
    "duration": 26,
    "start_time": "2023-01-31T11:27:52.501Z"
   },
   {
    "duration": 247,
    "start_time": "2023-01-31T11:27:52.529Z"
   },
   {
    "duration": 15,
    "start_time": "2023-01-31T11:33:34.402Z"
   },
   {
    "duration": 22,
    "start_time": "2023-01-31T11:36:24.957Z"
   },
   {
    "duration": 655,
    "start_time": "2023-01-31T11:36:54.289Z"
   },
   {
    "duration": 16,
    "start_time": "2023-01-31T11:36:54.946Z"
   },
   {
    "duration": 2500,
    "start_time": "2023-01-31T11:36:54.964Z"
   },
   {
    "duration": 11,
    "start_time": "2023-01-31T11:36:57.466Z"
   },
   {
    "duration": 21,
    "start_time": "2023-01-31T11:36:57.479Z"
   },
   {
    "duration": 44,
    "start_time": "2023-01-31T11:36:57.501Z"
   },
   {
    "duration": 56,
    "start_time": "2023-01-31T11:36:57.547Z"
   },
   {
    "duration": 30,
    "start_time": "2023-01-31T11:36:57.604Z"
   },
   {
    "duration": 364,
    "start_time": "2023-01-31T11:36:57.636Z"
   },
   {
    "duration": 95,
    "start_time": "2023-01-31T11:46:33.762Z"
   },
   {
    "duration": 33,
    "start_time": "2023-01-31T11:46:49.580Z"
   },
   {
    "duration": 62,
    "start_time": "2023-01-31T11:46:57.814Z"
   },
   {
    "duration": 31,
    "start_time": "2023-01-31T11:47:21.084Z"
   },
   {
    "duration": 21,
    "start_time": "2023-01-31T11:49:38.954Z"
   },
   {
    "duration": 40,
    "start_time": "2023-01-31T11:50:06.379Z"
   },
   {
    "duration": 577,
    "start_time": "2023-01-31T11:50:53.037Z"
   },
   {
    "duration": 19,
    "start_time": "2023-01-31T11:50:53.616Z"
   },
   {
    "duration": 2503,
    "start_time": "2023-01-31T11:50:53.637Z"
   },
   {
    "duration": 11,
    "start_time": "2023-01-31T11:50:56.142Z"
   },
   {
    "duration": 21,
    "start_time": "2023-01-31T11:50:56.155Z"
   },
   {
    "duration": 47,
    "start_time": "2023-01-31T11:50:56.178Z"
   },
   {
    "duration": 56,
    "start_time": "2023-01-31T11:50:56.227Z"
   },
   {
    "duration": 129,
    "start_time": "2023-01-31T11:50:56.285Z"
   },
   {
    "duration": 0,
    "start_time": "2023-01-31T11:50:56.420Z"
   },
   {
    "duration": 21,
    "start_time": "2023-01-31T11:51:37.263Z"
   },
   {
    "duration": 14,
    "start_time": "2023-01-31T11:51:53.486Z"
   },
   {
    "duration": 13,
    "start_time": "2023-01-31T11:52:05.231Z"
   },
   {
    "duration": 531,
    "start_time": "2023-01-31T11:52:21.752Z"
   },
   {
    "duration": 17,
    "start_time": "2023-01-31T11:52:22.285Z"
   },
   {
    "duration": 2513,
    "start_time": "2023-01-31T11:52:22.303Z"
   },
   {
    "duration": 10,
    "start_time": "2023-01-31T11:52:24.819Z"
   },
   {
    "duration": 27,
    "start_time": "2023-01-31T11:52:24.831Z"
   },
   {
    "duration": 41,
    "start_time": "2023-01-31T11:52:24.860Z"
   },
   {
    "duration": 64,
    "start_time": "2023-01-31T11:52:24.903Z"
   },
   {
    "duration": 20,
    "start_time": "2023-01-31T11:52:24.968Z"
   },
   {
    "duration": 378,
    "start_time": "2023-01-31T11:52:24.991Z"
   },
   {
    "duration": 551,
    "start_time": "2023-01-31T11:52:56.949Z"
   },
   {
    "duration": 22,
    "start_time": "2023-01-31T11:52:57.502Z"
   },
   {
    "duration": 2402,
    "start_time": "2023-01-31T11:52:57.526Z"
   },
   {
    "duration": 11,
    "start_time": "2023-01-31T11:52:59.930Z"
   },
   {
    "duration": 18,
    "start_time": "2023-01-31T11:52:59.943Z"
   },
   {
    "duration": 40,
    "start_time": "2023-01-31T11:52:59.963Z"
   },
   {
    "duration": 68,
    "start_time": "2023-01-31T11:53:00.005Z"
   },
   {
    "duration": 20,
    "start_time": "2023-01-31T11:53:00.074Z"
   },
   {
    "duration": 389,
    "start_time": "2023-01-31T11:53:00.096Z"
   },
   {
    "duration": 21,
    "start_time": "2023-01-31T11:55:03.564Z"
   },
   {
    "duration": 188,
    "start_time": "2023-01-31T12:06:09.702Z"
   },
   {
    "duration": 176,
    "start_time": "2023-01-31T12:07:11.802Z"
   },
   {
    "duration": 188,
    "start_time": "2023-01-31T12:07:18.587Z"
   },
   {
    "duration": 173,
    "start_time": "2023-01-31T12:07:42.565Z"
   },
   {
    "duration": 182,
    "start_time": "2023-01-31T12:08:08.186Z"
   },
   {
    "duration": 179,
    "start_time": "2023-01-31T12:08:14.089Z"
   },
   {
    "duration": 315,
    "start_time": "2023-01-31T12:08:24.834Z"
   },
   {
    "duration": 43,
    "start_time": "2023-01-31T13:18:37.057Z"
   },
   {
    "duration": 42,
    "start_time": "2023-01-31T13:45:52.334Z"
   },
   {
    "duration": 22,
    "start_time": "2023-01-31T13:49:52.093Z"
   },
   {
    "duration": 623,
    "start_time": "2023-01-31T13:50:07.894Z"
   },
   {
    "duration": 17,
    "start_time": "2023-01-31T13:50:08.519Z"
   },
   {
    "duration": 2529,
    "start_time": "2023-01-31T13:50:08.539Z"
   },
   {
    "duration": 14,
    "start_time": "2023-01-31T13:50:11.071Z"
   },
   {
    "duration": 23,
    "start_time": "2023-01-31T13:50:11.087Z"
   },
   {
    "duration": 41,
    "start_time": "2023-01-31T13:50:11.112Z"
   },
   {
    "duration": 51,
    "start_time": "2023-01-31T13:50:11.155Z"
   },
   {
    "duration": 27,
    "start_time": "2023-01-31T13:50:11.208Z"
   },
   {
    "duration": 375,
    "start_time": "2023-01-31T13:50:11.237Z"
   },
   {
    "duration": 187,
    "start_time": "2023-01-31T13:50:11.614Z"
   },
   {
    "duration": 34,
    "start_time": "2023-01-31T13:50:11.802Z"
   },
   {
    "duration": 24,
    "start_time": "2023-01-31T13:52:44.831Z"
   },
   {
    "duration": 25,
    "start_time": "2023-01-31T13:53:25.200Z"
   },
   {
    "duration": 109,
    "start_time": "2023-01-31T13:54:21.920Z"
   },
   {
    "duration": 27,
    "start_time": "2023-01-31T13:55:05.791Z"
   },
   {
    "duration": 22,
    "start_time": "2023-01-31T13:55:48.271Z"
   },
   {
    "duration": 16,
    "start_time": "2023-01-31T13:56:01.632Z"
   },
   {
    "duration": 558,
    "start_time": "2023-01-31T13:56:21.845Z"
   },
   {
    "duration": 19,
    "start_time": "2023-01-31T13:56:22.405Z"
   },
   {
    "duration": 2470,
    "start_time": "2023-01-31T13:56:22.426Z"
   },
   {
    "duration": 10,
    "start_time": "2023-01-31T13:56:24.898Z"
   },
   {
    "duration": 29,
    "start_time": "2023-01-31T13:56:24.911Z"
   },
   {
    "duration": 40,
    "start_time": "2023-01-31T13:56:24.942Z"
   },
   {
    "duration": 61,
    "start_time": "2023-01-31T13:56:24.984Z"
   },
   {
    "duration": 21,
    "start_time": "2023-01-31T13:56:25.047Z"
   },
   {
    "duration": 373,
    "start_time": "2023-01-31T13:56:25.071Z"
   },
   {
    "duration": 226,
    "start_time": "2023-01-31T13:56:25.446Z"
   },
   {
    "duration": 24,
    "start_time": "2023-01-31T13:56:25.674Z"
   },
   {
    "duration": 24,
    "start_time": "2023-01-31T13:57:30.720Z"
   },
   {
    "duration": 565,
    "start_time": "2023-01-31T13:57:50.733Z"
   },
   {
    "duration": 21,
    "start_time": "2023-01-31T13:57:51.300Z"
   },
   {
    "duration": 2473,
    "start_time": "2023-01-31T13:57:51.323Z"
   },
   {
    "duration": 10,
    "start_time": "2023-01-31T13:57:53.798Z"
   },
   {
    "duration": 30,
    "start_time": "2023-01-31T13:57:53.811Z"
   },
   {
    "duration": 61,
    "start_time": "2023-01-31T13:57:53.843Z"
   },
   {
    "duration": 49,
    "start_time": "2023-01-31T13:57:53.905Z"
   },
   {
    "duration": 26,
    "start_time": "2023-01-31T13:57:53.956Z"
   },
   {
    "duration": 350,
    "start_time": "2023-01-31T13:57:53.985Z"
   },
   {
    "duration": 229,
    "start_time": "2023-01-31T13:57:54.337Z"
   },
   {
    "duration": 26,
    "start_time": "2023-01-31T13:57:54.569Z"
   },
   {
    "duration": 25,
    "start_time": "2023-01-31T14:01:07.358Z"
   },
   {
    "duration": 97,
    "start_time": "2023-01-31T14:01:39.704Z"
   },
   {
    "duration": 25,
    "start_time": "2023-01-31T14:01:59.041Z"
   },
   {
    "duration": 894,
    "start_time": "2023-01-31T14:27:44.613Z"
   },
   {
    "duration": 1041,
    "start_time": "2023-01-31T14:28:04.591Z"
   },
   {
    "duration": 805,
    "start_time": "2023-01-31T14:28:13.967Z"
   },
   {
    "duration": 669,
    "start_time": "2023-01-31T14:28:30.978Z"
   },
   {
    "duration": 767,
    "start_time": "2023-01-31T14:28:42.256Z"
   },
   {
    "duration": 903,
    "start_time": "2023-01-31T14:29:03.686Z"
   },
   {
    "duration": 1114,
    "start_time": "2023-01-31T14:36:36.939Z"
   },
   {
    "duration": 1341,
    "start_time": "2023-01-31T14:37:14.907Z"
   },
   {
    "duration": 8,
    "start_time": "2023-01-31T14:38:23.415Z"
   },
   {
    "duration": 169,
    "start_time": "2023-01-31T14:38:30.312Z"
   },
   {
    "duration": 120,
    "start_time": "2023-01-31T14:38:46.332Z"
   },
   {
    "duration": 200,
    "start_time": "2023-01-31T14:48:37.902Z"
   },
   {
    "duration": 190,
    "start_time": "2023-01-31T14:48:49.333Z"
   },
   {
    "duration": 152,
    "start_time": "2023-01-31T14:49:10.069Z"
   },
   {
    "duration": 69,
    "start_time": "2023-02-01T09:24:39.705Z"
   },
   {
    "duration": 641,
    "start_time": "2023-02-01T09:24:44.590Z"
   },
   {
    "duration": 19,
    "start_time": "2023-02-01T09:24:45.233Z"
   },
   {
    "duration": 2502,
    "start_time": "2023-02-01T09:24:45.254Z"
   },
   {
    "duration": 9,
    "start_time": "2023-02-01T09:24:47.758Z"
   },
   {
    "duration": 33,
    "start_time": "2023-02-01T09:24:47.769Z"
   },
   {
    "duration": 75,
    "start_time": "2023-02-01T09:24:47.803Z"
   },
   {
    "duration": 52,
    "start_time": "2023-02-01T09:24:47.879Z"
   },
   {
    "duration": 22,
    "start_time": "2023-02-01T09:24:47.933Z"
   },
   {
    "duration": 375,
    "start_time": "2023-02-01T09:24:47.957Z"
   },
   {
    "duration": 168,
    "start_time": "2023-02-01T09:24:48.334Z"
   },
   {
    "duration": 187,
    "start_time": "2023-02-01T09:24:48.503Z"
   },
   {
    "duration": 38,
    "start_time": "2023-02-01T09:24:48.691Z"
   },
   {
    "duration": 90,
    "start_time": "2023-02-01T09:26:12.767Z"
   },
   {
    "duration": 17,
    "start_time": "2023-02-01T09:27:18.029Z"
   },
   {
    "duration": 1600,
    "start_time": "2023-02-01T09:28:24.132Z"
   },
   {
    "duration": 1591,
    "start_time": "2023-02-01T09:28:48.910Z"
   },
   {
    "duration": 1639,
    "start_time": "2023-02-01T09:30:54.166Z"
   },
   {
    "duration": 1672,
    "start_time": "2023-02-01T09:32:16.129Z"
   },
   {
    "duration": 260,
    "start_time": "2023-02-01T09:34:44.035Z"
   },
   {
    "duration": 53,
    "start_time": "2023-02-01T09:37:23.148Z"
   },
   {
    "duration": 578,
    "start_time": "2023-02-01T09:37:27.986Z"
   },
   {
    "duration": 14,
    "start_time": "2023-02-01T09:37:28.566Z"
   },
   {
    "duration": 2187,
    "start_time": "2023-02-01T09:37:28.581Z"
   },
   {
    "duration": 9,
    "start_time": "2023-02-01T09:37:30.770Z"
   },
   {
    "duration": 48,
    "start_time": "2023-02-01T09:37:30.781Z"
   },
   {
    "duration": 53,
    "start_time": "2023-02-01T09:37:30.831Z"
   },
   {
    "duration": 48,
    "start_time": "2023-02-01T09:37:30.886Z"
   },
   {
    "duration": 16,
    "start_time": "2023-02-01T09:37:30.935Z"
   },
   {
    "duration": 351,
    "start_time": "2023-02-01T09:37:30.953Z"
   },
   {
    "duration": 302,
    "start_time": "2023-02-01T09:37:31.305Z"
   },
   {
    "duration": 183,
    "start_time": "2023-02-01T09:37:31.610Z"
   },
   {
    "duration": 195,
    "start_time": "2023-02-01T09:37:31.795Z"
   },
   {
    "duration": 28,
    "start_time": "2023-02-01T09:37:31.991Z"
   },
   {
    "duration": 113,
    "start_time": "2023-02-01T09:37:57.942Z"
   },
   {
    "duration": 115,
    "start_time": "2023-02-01T09:38:15.810Z"
   },
   {
    "duration": 201,
    "start_time": "2023-02-01T09:38:41.370Z"
   },
   {
    "duration": 161,
    "start_time": "2023-02-01T09:39:05.353Z"
   },
   {
    "duration": 278,
    "start_time": "2023-02-01T09:40:03.673Z"
   },
   {
    "duration": 335,
    "start_time": "2023-02-01T09:40:10.630Z"
   },
   {
    "duration": 252,
    "start_time": "2023-02-01T09:40:33.337Z"
   },
   {
    "duration": 299,
    "start_time": "2023-02-01T09:40:41.526Z"
   },
   {
    "duration": 495,
    "start_time": "2023-02-01T09:41:13.126Z"
   },
   {
    "duration": 369,
    "start_time": "2023-02-01T09:41:18.420Z"
   },
   {
    "duration": 422,
    "start_time": "2023-02-01T09:41:26.327Z"
   },
   {
    "duration": 516,
    "start_time": "2023-02-01T09:42:37.746Z"
   },
   {
    "duration": 512,
    "start_time": "2023-02-01T09:42:57.899Z"
   },
   {
    "duration": 743,
    "start_time": "2023-02-01T09:43:41.588Z"
   },
   {
    "duration": 681,
    "start_time": "2023-02-01T09:43:56.184Z"
   },
   {
    "duration": 757,
    "start_time": "2023-02-01T09:44:31.094Z"
   },
   {
    "duration": 863,
    "start_time": "2023-02-01T09:44:47.485Z"
   },
   {
    "duration": 813,
    "start_time": "2023-02-01T09:45:02.314Z"
   },
   {
    "duration": 923,
    "start_time": "2023-02-01T09:45:34.944Z"
   },
   {
    "duration": 1189,
    "start_time": "2023-02-01T09:46:02.132Z"
   },
   {
    "duration": 1247,
    "start_time": "2023-02-01T09:46:28.007Z"
   },
   {
    "duration": 1408,
    "start_time": "2023-02-01T09:46:49.208Z"
   },
   {
    "duration": 1428,
    "start_time": "2023-02-01T09:47:05.100Z"
   },
   {
    "duration": 964,
    "start_time": "2023-02-01T09:48:17.604Z"
   },
   {
    "duration": 1433,
    "start_time": "2023-02-01T09:48:42.548Z"
   },
   {
    "duration": 133,
    "start_time": "2023-02-01T09:49:03.301Z"
   },
   {
    "duration": 262,
    "start_time": "2023-02-01T09:49:21.131Z"
   },
   {
    "duration": 122,
    "start_time": "2023-02-01T09:49:45.345Z"
   },
   {
    "duration": 155,
    "start_time": "2023-02-01T09:50:00.380Z"
   },
   {
    "duration": 50,
    "start_time": "2023-02-02T08:30:21.361Z"
   },
   {
    "duration": 596,
    "start_time": "2023-02-02T08:30:25.676Z"
   },
   {
    "duration": 18,
    "start_time": "2023-02-02T08:30:26.274Z"
   },
   {
    "duration": 2336,
    "start_time": "2023-02-02T08:30:26.293Z"
   },
   {
    "duration": 9,
    "start_time": "2023-02-02T08:30:28.632Z"
   },
   {
    "duration": 16,
    "start_time": "2023-02-02T08:30:28.642Z"
   },
   {
    "duration": 38,
    "start_time": "2023-02-02T08:30:28.660Z"
   },
   {
    "duration": 40,
    "start_time": "2023-02-02T08:30:28.701Z"
   },
   {
    "duration": 14,
    "start_time": "2023-02-02T08:30:28.743Z"
   },
   {
    "duration": 350,
    "start_time": "2023-02-02T08:30:28.758Z"
   },
   {
    "duration": 1464,
    "start_time": "2023-02-02T08:30:29.110Z"
   },
   {
    "duration": 134,
    "start_time": "2023-02-02T08:30:30.576Z"
   },
   {
    "duration": 147,
    "start_time": "2023-02-02T08:30:30.712Z"
   },
   {
    "duration": 170,
    "start_time": "2023-02-02T08:30:30.861Z"
   },
   {
    "duration": 171,
    "start_time": "2023-02-02T08:30:31.032Z"
   },
   {
    "duration": 21,
    "start_time": "2023-02-02T08:30:31.204Z"
   },
   {
    "duration": 22,
    "start_time": "2023-02-02T08:30:31.227Z"
   },
   {
    "duration": 4,
    "start_time": "2023-02-02T08:33:47.341Z"
   },
   {
    "duration": 46,
    "start_time": "2023-02-02T08:34:19.169Z"
   },
   {
    "duration": 22,
    "start_time": "2023-02-02T08:34:42.123Z"
   },
   {
    "duration": 20,
    "start_time": "2023-02-02T08:35:35.027Z"
   },
   {
    "duration": 28,
    "start_time": "2023-02-02T08:35:59.264Z"
   },
   {
    "duration": 19,
    "start_time": "2023-02-02T08:36:06.118Z"
   },
   {
    "duration": 20,
    "start_time": "2023-02-02T08:37:09.715Z"
   },
   {
    "duration": 19,
    "start_time": "2023-02-02T08:38:05.607Z"
   },
   {
    "duration": 22,
    "start_time": "2023-02-02T08:38:13.800Z"
   },
   {
    "duration": 18,
    "start_time": "2023-02-02T08:38:22.894Z"
   },
   {
    "duration": 85,
    "start_time": "2023-02-02T08:38:35.514Z"
   },
   {
    "duration": 25,
    "start_time": "2023-02-02T08:39:03.091Z"
   },
   {
    "duration": 20,
    "start_time": "2023-02-02T08:39:22.182Z"
   },
   {
    "duration": 22,
    "start_time": "2023-02-02T08:39:49.182Z"
   },
   {
    "duration": 17,
    "start_time": "2023-02-02T08:39:52.961Z"
   },
   {
    "duration": 18,
    "start_time": "2023-02-02T08:40:39.119Z"
   },
   {
    "duration": 19,
    "start_time": "2023-02-02T08:40:47.297Z"
   },
   {
    "duration": 18,
    "start_time": "2023-02-02T08:40:58.762Z"
   },
   {
    "duration": 19,
    "start_time": "2023-02-02T08:41:16.684Z"
   },
   {
    "duration": 17,
    "start_time": "2023-02-02T08:41:40.487Z"
   },
   {
    "duration": 21,
    "start_time": "2023-02-02T08:42:33.622Z"
   },
   {
    "duration": 7,
    "start_time": "2023-02-02T08:46:42.096Z"
   },
   {
    "duration": 7,
    "start_time": "2023-02-02T08:46:55.453Z"
   },
   {
    "duration": 47,
    "start_time": "2023-02-02T08:51:46.565Z"
   },
   {
    "duration": 16,
    "start_time": "2023-02-02T08:51:57.351Z"
   },
   {
    "duration": 12,
    "start_time": "2023-02-02T08:52:02.933Z"
   },
   {
    "duration": 21,
    "start_time": "2023-02-02T08:52:10.049Z"
   },
   {
    "duration": 8,
    "start_time": "2023-02-02T08:52:19.506Z"
   },
   {
    "duration": 150,
    "start_time": "2023-02-02T08:57:32.673Z"
   },
   {
    "duration": 9,
    "start_time": "2023-02-02T09:00:48.213Z"
   },
   {
    "duration": 10,
    "start_time": "2023-02-02T09:03:21.989Z"
   },
   {
    "duration": 5,
    "start_time": "2023-02-02T09:03:40.623Z"
   },
   {
    "duration": 9,
    "start_time": "2023-02-02T09:03:57.350Z"
   },
   {
    "duration": 29,
    "start_time": "2023-02-02T09:05:19.999Z"
   },
   {
    "duration": 39,
    "start_time": "2023-02-02T09:05:23.624Z"
   },
   {
    "duration": 36,
    "start_time": "2023-02-02T09:05:28.573Z"
   },
   {
    "duration": 39,
    "start_time": "2023-02-02T09:05:35.818Z"
   },
   {
    "duration": 48,
    "start_time": "2023-02-02T09:06:04.556Z"
   },
   {
    "duration": 46,
    "start_time": "2023-02-02T09:06:47.953Z"
   },
   {
    "duration": 46,
    "start_time": "2023-02-02T09:06:55.184Z"
   },
   {
    "duration": 49,
    "start_time": "2023-02-02T09:07:17.076Z"
   },
   {
    "duration": 1315,
    "start_time": "2023-02-02T09:27:21.100Z"
   },
   {
    "duration": 199,
    "start_time": "2023-02-02T09:27:31.291Z"
   },
   {
    "duration": 255,
    "start_time": "2023-02-02T09:27:56.358Z"
   },
   {
    "duration": 192,
    "start_time": "2023-02-02T09:28:21.579Z"
   },
   {
    "duration": 195,
    "start_time": "2023-02-02T09:28:52.356Z"
   },
   {
    "duration": 409,
    "start_time": "2023-02-02T09:28:58.506Z"
   },
   {
    "duration": 191,
    "start_time": "2023-02-02T09:30:18.389Z"
   },
   {
    "duration": 177,
    "start_time": "2023-02-02T09:32:17.633Z"
   },
   {
    "duration": 321,
    "start_time": "2023-02-02T09:34:24.559Z"
   },
   {
    "duration": 1478,
    "start_time": "2023-02-02T09:35:54.477Z"
   },
   {
    "duration": 192,
    "start_time": "2023-02-02T09:36:05.913Z"
   },
   {
    "duration": 196,
    "start_time": "2023-02-02T09:37:19.072Z"
   },
   {
    "duration": 181,
    "start_time": "2023-02-02T09:38:25.290Z"
   },
   {
    "duration": 168,
    "start_time": "2023-02-02T09:41:32.628Z"
   },
   {
    "duration": 188,
    "start_time": "2023-02-02T09:42:03.370Z"
   },
   {
    "duration": 142,
    "start_time": "2023-02-02T09:43:32.129Z"
   },
   {
    "duration": 6,
    "start_time": "2023-02-02T09:44:03.819Z"
   },
   {
    "duration": 156,
    "start_time": "2023-02-02T09:44:11.492Z"
   },
   {
    "duration": 130,
    "start_time": "2023-02-02T09:46:41.980Z"
   },
   {
    "duration": 6,
    "start_time": "2023-02-02T09:46:46.056Z"
   },
   {
    "duration": 7,
    "start_time": "2023-02-02T09:47:24.141Z"
   },
   {
    "duration": 6,
    "start_time": "2023-02-02T09:47:34.687Z"
   },
   {
    "duration": 7,
    "start_time": "2023-02-02T09:47:43.315Z"
   },
   {
    "duration": 219,
    "start_time": "2023-02-02T09:48:38.031Z"
   },
   {
    "duration": 490,
    "start_time": "2023-02-02T09:48:47.041Z"
   },
   {
    "duration": 24,
    "start_time": "2023-02-02T09:51:50.872Z"
   },
   {
    "duration": 46,
    "start_time": "2023-02-02T09:52:49.682Z"
   },
   {
    "duration": 472,
    "start_time": "2023-02-02T09:52:59.435Z"
   },
   {
    "duration": 224,
    "start_time": "2023-02-02T09:56:13.614Z"
   },
   {
    "duration": 598,
    "start_time": "2023-02-02T09:56:37.307Z"
   },
   {
    "duration": 560,
    "start_time": "2023-02-02T10:01:57.466Z"
   },
   {
    "duration": 17,
    "start_time": "2023-02-02T10:01:58.029Z"
   },
   {
    "duration": 2189,
    "start_time": "2023-02-02T10:01:58.048Z"
   },
   {
    "duration": 9,
    "start_time": "2023-02-02T10:02:00.239Z"
   },
   {
    "duration": 64,
    "start_time": "2023-02-02T10:02:00.250Z"
   },
   {
    "duration": 45,
    "start_time": "2023-02-02T10:02:00.316Z"
   },
   {
    "duration": 55,
    "start_time": "2023-02-02T10:02:00.362Z"
   },
   {
    "duration": 16,
    "start_time": "2023-02-02T10:02:00.419Z"
   },
   {
    "duration": 625,
    "start_time": "2023-02-02T10:02:00.437Z"
   },
   {
    "duration": 1734,
    "start_time": "2023-02-02T10:02:01.063Z"
   },
   {
    "duration": 169,
    "start_time": "2023-02-02T10:02:02.799Z"
   },
   {
    "duration": 155,
    "start_time": "2023-02-02T10:02:02.971Z"
   },
   {
    "duration": 186,
    "start_time": "2023-02-02T10:02:03.128Z"
   },
   {
    "duration": 176,
    "start_time": "2023-02-02T10:02:03.317Z"
   },
   {
    "duration": 206,
    "start_time": "2023-02-02T10:02:03.495Z"
   },
   {
    "duration": 204,
    "start_time": "2023-02-02T10:02:03.703Z"
   },
   {
    "duration": 293,
    "start_time": "2023-02-02T10:02:03.909Z"
   },
   {
    "duration": 251,
    "start_time": "2023-02-02T10:02:04.207Z"
   },
   {
    "duration": 218,
    "start_time": "2023-02-02T10:02:04.460Z"
   },
   {
    "duration": 15,
    "start_time": "2023-02-02T10:02:04.679Z"
   },
   {
    "duration": 51,
    "start_time": "2023-02-02T10:02:04.696Z"
   },
   {
    "duration": 18,
    "start_time": "2023-02-02T10:02:04.749Z"
   },
   {
    "duration": 191,
    "start_time": "2023-02-02T10:04:23.113Z"
   },
   {
    "duration": 181,
    "start_time": "2023-02-02T10:05:37.021Z"
   },
   {
    "duration": 229,
    "start_time": "2023-02-02T10:14:48.715Z"
   },
   {
    "duration": 93,
    "start_time": "2023-02-02T10:21:03.724Z"
   },
   {
    "duration": 263,
    "start_time": "2023-02-02T10:21:08.654Z"
   },
   {
    "duration": 248,
    "start_time": "2023-02-02T10:21:33.755Z"
   },
   {
    "duration": 7,
    "start_time": "2023-02-02T10:21:47.055Z"
   },
   {
    "duration": 740,
    "start_time": "2023-02-02T23:35:19.303Z"
   },
   {
    "duration": 13,
    "start_time": "2023-02-02T23:35:20.045Z"
   },
   {
    "duration": 2024,
    "start_time": "2023-02-02T23:35:20.060Z"
   },
   {
    "duration": 8,
    "start_time": "2023-02-02T23:35:22.087Z"
   },
   {
    "duration": 15,
    "start_time": "2023-02-02T23:35:22.097Z"
   },
   {
    "duration": 33,
    "start_time": "2023-02-02T23:35:22.114Z"
   },
   {
    "duration": 37,
    "start_time": "2023-02-02T23:35:22.149Z"
   },
   {
    "duration": 12,
    "start_time": "2023-02-02T23:35:22.188Z"
   },
   {
    "duration": 572,
    "start_time": "2023-02-02T23:35:22.202Z"
   },
   {
    "duration": 1353,
    "start_time": "2023-02-02T23:35:22.776Z"
   },
   {
    "duration": 107,
    "start_time": "2023-02-02T23:35:24.130Z"
   },
   {
    "duration": 126,
    "start_time": "2023-02-02T23:35:24.239Z"
   },
   {
    "duration": 144,
    "start_time": "2023-02-02T23:35:24.367Z"
   },
   {
    "duration": 155,
    "start_time": "2023-02-02T23:35:24.513Z"
   },
   {
    "duration": 168,
    "start_time": "2023-02-02T23:35:24.670Z"
   },
   {
    "duration": 190,
    "start_time": "2023-02-02T23:35:24.839Z"
   },
   {
    "duration": 165,
    "start_time": "2023-02-02T23:35:25.031Z"
   },
   {
    "duration": 192,
    "start_time": "2023-02-02T23:35:25.197Z"
   },
   {
    "duration": 174,
    "start_time": "2023-02-02T23:35:25.390Z"
   },
   {
    "duration": 175,
    "start_time": "2023-02-02T23:35:25.566Z"
   },
   {
    "duration": 174,
    "start_time": "2023-02-02T23:35:25.743Z"
   },
   {
    "duration": 177,
    "start_time": "2023-02-02T23:35:25.918Z"
   },
   {
    "duration": 7,
    "start_time": "2023-02-02T23:35:26.096Z"
   },
   {
    "duration": 55,
    "start_time": "2023-02-02T23:35:26.105Z"
   },
   {
    "duration": 17,
    "start_time": "2023-02-02T23:35:26.162Z"
   },
   {
    "duration": 5,
    "start_time": "2023-02-02T23:35:26.180Z"
   },
   {
    "duration": 15,
    "start_time": "2023-02-02T23:35:46.385Z"
   },
   {
    "duration": 171,
    "start_time": "2023-02-02T23:36:20.223Z"
   },
   {
    "duration": 108,
    "start_time": "2023-02-02T23:38:14.684Z"
   },
   {
    "duration": 1064,
    "start_time": "2023-02-02T23:38:59.519Z"
   },
   {
    "duration": 14,
    "start_time": "2023-02-02T23:39:33.372Z"
   },
   {
    "duration": 157,
    "start_time": "2023-02-02T23:39:53.659Z"
   },
   {
    "duration": 141,
    "start_time": "2023-02-02T23:40:34.834Z"
   },
   {
    "duration": 13,
    "start_time": "2023-02-02T23:40:34.977Z"
   },
   {
    "duration": 1817,
    "start_time": "2023-02-02T23:40:34.992Z"
   },
   {
    "duration": 18,
    "start_time": "2023-02-02T23:40:36.812Z"
   },
   {
    "duration": 17,
    "start_time": "2023-02-02T23:40:36.832Z"
   },
   {
    "duration": 30,
    "start_time": "2023-02-02T23:40:36.850Z"
   },
   {
    "duration": 57,
    "start_time": "2023-02-02T23:40:36.882Z"
   },
   {
    "duration": 106,
    "start_time": "2023-02-02T23:40:36.941Z"
   },
   {
    "duration": 723,
    "start_time": "2023-02-02T23:40:37.049Z"
   },
   {
    "duration": 1371,
    "start_time": "2023-02-02T23:40:37.774Z"
   },
   {
    "duration": 133,
    "start_time": "2023-02-02T23:40:39.146Z"
   },
   {
    "duration": 128,
    "start_time": "2023-02-02T23:40:39.281Z"
   },
   {
    "duration": 177,
    "start_time": "2023-02-02T23:40:39.411Z"
   },
   {
    "duration": 167,
    "start_time": "2023-02-02T23:40:39.589Z"
   },
   {
    "duration": 321,
    "start_time": "2023-02-02T23:40:42.973Z"
   },
   {
    "duration": 5,
    "start_time": "2023-02-02T23:49:08.449Z"
   },
   {
    "duration": 14,
    "start_time": "2023-02-02T23:49:15.520Z"
   },
   {
    "duration": 53,
    "start_time": "2023-02-02T23:51:33.341Z"
   },
   {
    "duration": 156,
    "start_time": "2023-02-02T23:51:52.343Z"
   },
   {
    "duration": 48,
    "start_time": "2023-02-03T17:27:59.643Z"
   },
   {
    "duration": 386,
    "start_time": "2023-02-03T17:43:32.256Z"
   },
   {
    "duration": 378,
    "start_time": "2023-02-03T17:43:33.363Z"
   },
   {
    "duration": 127,
    "start_time": "2023-02-03T17:43:54.621Z"
   },
   {
    "duration": 13,
    "start_time": "2023-02-03T17:44:02.998Z"
   },
   {
    "duration": 2265,
    "start_time": "2023-02-03T17:44:08.715Z"
   },
   {
    "duration": 476,
    "start_time": "2023-02-03T18:15:43.452Z"
   },
   {
    "duration": 455,
    "start_time": "2023-02-03T18:16:03.096Z"
   },
   {
    "duration": 50,
    "start_time": "2023-02-04T08:25:23.781Z"
   },
   {
    "duration": 424,
    "start_time": "2023-02-04T08:25:29.029Z"
   },
   {
    "duration": 362,
    "start_time": "2023-02-04T08:25:29.455Z"
   },
   {
    "duration": 15,
    "start_time": "2023-02-04T08:25:29.819Z"
   },
   {
    "duration": 2569,
    "start_time": "2023-02-04T08:25:29.836Z"
   },
   {
    "duration": 10,
    "start_time": "2023-02-04T08:25:32.408Z"
   },
   {
    "duration": 17,
    "start_time": "2023-02-04T08:25:32.420Z"
   },
   {
    "duration": 37,
    "start_time": "2023-02-04T08:25:32.438Z"
   },
   {
    "duration": 7,
    "start_time": "2023-02-04T08:25:32.476Z"
   },
   {
    "duration": 75,
    "start_time": "2023-02-04T08:25:32.484Z"
   },
   {
    "duration": 16,
    "start_time": "2023-02-04T08:25:32.561Z"
   },
   {
    "duration": 503,
    "start_time": "2023-02-04T08:25:32.578Z"
   },
   {
    "duration": 1778,
    "start_time": "2023-02-04T08:25:33.083Z"
   },
   {
    "duration": 143,
    "start_time": "2023-02-04T08:25:34.863Z"
   },
   {
    "duration": 165,
    "start_time": "2023-02-04T08:25:35.022Z"
   },
   {
    "duration": 180,
    "start_time": "2023-02-04T08:25:35.188Z"
   },
   {
    "duration": 221,
    "start_time": "2023-02-04T08:25:35.370Z"
   },
   {
    "duration": 248,
    "start_time": "2023-02-04T08:25:35.592Z"
   },
   {
    "duration": 236,
    "start_time": "2023-02-04T08:25:35.842Z"
   },
   {
    "duration": 186,
    "start_time": "2023-02-04T08:25:36.080Z"
   },
   {
    "duration": 230,
    "start_time": "2023-02-04T08:25:36.268Z"
   },
   {
    "duration": 221,
    "start_time": "2023-02-04T08:25:36.500Z"
   },
   {
    "duration": 229,
    "start_time": "2023-02-04T08:25:36.722Z"
   },
   {
    "duration": 325,
    "start_time": "2023-02-04T08:25:36.953Z"
   },
   {
    "duration": 216,
    "start_time": "2023-02-04T08:25:37.280Z"
   },
   {
    "duration": 8,
    "start_time": "2023-02-04T08:25:37.497Z"
   },
   {
    "duration": 68,
    "start_time": "2023-02-04T08:25:37.507Z"
   },
   {
    "duration": 73,
    "start_time": "2023-02-04T08:25:37.576Z"
   },
   {
    "duration": 23,
    "start_time": "2023-02-04T08:25:37.651Z"
   },
   {
    "duration": 7,
    "start_time": "2023-02-04T08:25:37.676Z"
   },
   {
    "duration": 6,
    "start_time": "2023-02-04T08:25:47.591Z"
   },
   {
    "duration": 5,
    "start_time": "2023-02-04T08:26:55.193Z"
   },
   {
    "duration": 42,
    "start_time": "2023-02-04T08:26:57.264Z"
   },
   {
    "duration": 5,
    "start_time": "2023-02-04T08:26:59.284Z"
   },
   {
    "duration": 42,
    "start_time": "2023-02-04T08:27:16.077Z"
   },
   {
    "duration": 386,
    "start_time": "2023-02-04T08:27:40.150Z"
   },
   {
    "duration": 122,
    "start_time": "2023-02-04T08:27:40.538Z"
   },
   {
    "duration": 16,
    "start_time": "2023-02-04T08:27:40.661Z"
   },
   {
    "duration": 2198,
    "start_time": "2023-02-04T08:27:40.679Z"
   },
   {
    "duration": 10,
    "start_time": "2023-02-04T08:27:42.880Z"
   },
   {
    "duration": 14,
    "start_time": "2023-02-04T08:27:42.892Z"
   },
   {
    "duration": 32,
    "start_time": "2023-02-04T08:27:42.908Z"
   },
   {
    "duration": 5,
    "start_time": "2023-02-04T08:27:42.942Z"
   },
   {
    "duration": 45,
    "start_time": "2023-02-04T08:27:42.948Z"
   },
   {
    "duration": 5,
    "start_time": "2023-02-04T08:27:42.995Z"
   },
   {
    "duration": 33,
    "start_time": "2023-02-04T08:27:43.002Z"
   },
   {
    "duration": 500,
    "start_time": "2023-02-04T08:27:43.037Z"
   },
   {
    "duration": 1611,
    "start_time": "2023-02-04T08:27:43.538Z"
   },
   {
    "duration": 243,
    "start_time": "2023-02-04T08:27:45.152Z"
   },
   {
    "duration": 142,
    "start_time": "2023-02-04T08:27:45.397Z"
   },
   {
    "duration": 168,
    "start_time": "2023-02-04T08:27:45.540Z"
   },
   {
    "duration": 160,
    "start_time": "2023-02-04T08:27:45.710Z"
   },
   {
    "duration": 208,
    "start_time": "2023-02-04T08:27:45.871Z"
   },
   {
    "duration": 223,
    "start_time": "2023-02-04T08:27:46.081Z"
   },
   {
    "duration": 214,
    "start_time": "2023-02-04T08:27:46.306Z"
   },
   {
    "duration": 228,
    "start_time": "2023-02-04T08:27:46.522Z"
   },
   {
    "duration": 220,
    "start_time": "2023-02-04T08:27:46.752Z"
   },
   {
    "duration": 224,
    "start_time": "2023-02-04T08:27:46.973Z"
   },
   {
    "duration": 209,
    "start_time": "2023-02-04T08:27:47.199Z"
   },
   {
    "duration": 283,
    "start_time": "2023-02-04T08:27:47.410Z"
   },
   {
    "duration": 8,
    "start_time": "2023-02-04T08:27:47.695Z"
   },
   {
    "duration": 68,
    "start_time": "2023-02-04T08:27:47.704Z"
   },
   {
    "duration": 58,
    "start_time": "2023-02-04T08:27:47.774Z"
   },
   {
    "duration": 23,
    "start_time": "2023-02-04T08:27:47.835Z"
   },
   {
    "duration": 7,
    "start_time": "2023-02-04T08:27:47.859Z"
   },
   {
    "duration": 145,
    "start_time": "2023-02-04T08:32:08.292Z"
   },
   {
    "duration": 61,
    "start_time": "2023-02-04T08:42:45.690Z"
   },
   {
    "duration": 29,
    "start_time": "2023-02-04T08:45:16.347Z"
   },
   {
    "duration": 25,
    "start_time": "2023-02-04T08:46:23.978Z"
   },
   {
    "duration": 6,
    "start_time": "2023-02-04T08:51:39.828Z"
   },
   {
    "duration": 4,
    "start_time": "2023-02-04T08:51:57.219Z"
   },
   {
    "duration": 5,
    "start_time": "2023-02-04T08:52:07.491Z"
   },
   {
    "duration": 4,
    "start_time": "2023-02-04T08:53:13.182Z"
   },
   {
    "duration": 2,
    "start_time": "2023-02-04T08:57:08.136Z"
   },
   {
    "duration": 120,
    "start_time": "2023-02-04T08:58:43.830Z"
   },
   {
    "duration": 201,
    "start_time": "2023-02-04T08:58:53.357Z"
   },
   {
    "duration": 105,
    "start_time": "2023-02-04T08:58:59.971Z"
   },
   {
    "duration": 169,
    "start_time": "2023-02-04T09:00:34.463Z"
   },
   {
    "duration": 130,
    "start_time": "2023-02-04T09:02:43.057Z"
   },
   {
    "duration": 119,
    "start_time": "2023-02-04T09:03:06.588Z"
   },
   {
    "duration": 113,
    "start_time": "2023-02-04T09:03:11.674Z"
   },
   {
    "duration": 126,
    "start_time": "2023-02-04T09:03:27.850Z"
   },
   {
    "duration": 222,
    "start_time": "2023-02-04T09:03:58.304Z"
   },
   {
    "duration": 133,
    "start_time": "2023-02-04T09:04:14.128Z"
   },
   {
    "duration": 170,
    "start_time": "2023-02-04T09:05:14.334Z"
   },
   {
    "duration": 151,
    "start_time": "2023-02-04T09:08:16.776Z"
   },
   {
    "duration": 138,
    "start_time": "2023-02-04T09:08:31.891Z"
   },
   {
    "duration": 128,
    "start_time": "2023-02-04T09:08:39.279Z"
   },
   {
    "duration": 148,
    "start_time": "2023-02-04T09:09:12.015Z"
   },
   {
    "duration": 189,
    "start_time": "2023-02-04T09:09:56.252Z"
   },
   {
    "duration": 463,
    "start_time": "2023-02-04T09:15:00.335Z"
   },
   {
    "duration": 500,
    "start_time": "2023-02-04T09:15:17.291Z"
   },
   {
    "duration": 548,
    "start_time": "2023-02-04T09:15:41.868Z"
   },
   {
    "duration": 695,
    "start_time": "2023-02-04T09:16:17.433Z"
   },
   {
    "duration": 222,
    "start_time": "2023-02-04T09:17:03.541Z"
   },
   {
    "duration": 258,
    "start_time": "2023-02-04T09:17:14.963Z"
   },
   {
    "duration": 15,
    "start_time": "2023-02-04T09:17:59.442Z"
   },
   {
    "duration": 183,
    "start_time": "2023-02-04T09:28:31.318Z"
   },
   {
    "duration": 255,
    "start_time": "2023-02-04T09:29:25.073Z"
   },
   {
    "duration": 175,
    "start_time": "2023-02-04T09:29:36.272Z"
   },
   {
    "duration": 171,
    "start_time": "2023-02-04T09:29:59.158Z"
   },
   {
    "duration": 179,
    "start_time": "2023-02-04T09:30:25.179Z"
   },
   {
    "duration": 5,
    "start_time": "2023-02-04T09:42:51.159Z"
   },
   {
    "duration": 12,
    "start_time": "2023-02-04T09:43:08.360Z"
   },
   {
    "duration": 9,
    "start_time": "2023-02-04T09:43:45.898Z"
   },
   {
    "duration": 669,
    "start_time": "2023-02-04T09:44:53.290Z"
   },
   {
    "duration": 125,
    "start_time": "2023-02-04T09:44:53.961Z"
   },
   {
    "duration": 15,
    "start_time": "2023-02-04T09:44:54.090Z"
   },
   {
    "duration": 2197,
    "start_time": "2023-02-04T09:44:54.107Z"
   },
   {
    "duration": 11,
    "start_time": "2023-02-04T09:44:56.307Z"
   },
   {
    "duration": 14,
    "start_time": "2023-02-04T09:44:56.320Z"
   },
   {
    "duration": 39,
    "start_time": "2023-02-04T09:44:56.336Z"
   },
   {
    "duration": 5,
    "start_time": "2023-02-04T09:44:56.377Z"
   },
   {
    "duration": 63,
    "start_time": "2023-02-04T09:44:56.383Z"
   },
   {
    "duration": 5,
    "start_time": "2023-02-04T09:44:56.448Z"
   },
   {
    "duration": 28,
    "start_time": "2023-02-04T09:44:56.455Z"
   },
   {
    "duration": 671,
    "start_time": "2023-02-04T09:44:56.485Z"
   },
   {
    "duration": 1562,
    "start_time": "2023-02-04T09:44:57.159Z"
   },
   {
    "duration": 260,
    "start_time": "2023-02-04T09:44:58.723Z"
   },
   {
    "duration": 164,
    "start_time": "2023-02-04T09:44:58.984Z"
   },
   {
    "duration": 187,
    "start_time": "2023-02-04T09:44:59.150Z"
   },
   {
    "duration": 183,
    "start_time": "2023-02-04T09:44:59.339Z"
   },
   {
    "duration": 5,
    "start_time": "2023-02-04T09:44:59.524Z"
   },
   {
    "duration": 218,
    "start_time": "2023-02-04T09:44:59.530Z"
   },
   {
    "duration": 230,
    "start_time": "2023-02-04T09:44:59.749Z"
   },
   {
    "duration": 204,
    "start_time": "2023-02-04T09:44:59.981Z"
   },
   {
    "duration": 240,
    "start_time": "2023-02-04T09:45:00.187Z"
   },
   {
    "duration": 235,
    "start_time": "2023-02-04T09:45:00.428Z"
   },
   {
    "duration": 227,
    "start_time": "2023-02-04T09:45:00.666Z"
   },
   {
    "duration": 225,
    "start_time": "2023-02-04T09:45:00.896Z"
   },
   {
    "duration": 305,
    "start_time": "2023-02-04T09:45:01.122Z"
   },
   {
    "duration": 9,
    "start_time": "2023-02-04T09:45:01.430Z"
   },
   {
    "duration": 65,
    "start_time": "2023-02-04T09:45:01.441Z"
   },
   {
    "duration": 84,
    "start_time": "2023-02-04T09:45:01.509Z"
   },
   {
    "duration": 0,
    "start_time": "2023-02-04T09:45:01.595Z"
   },
   {
    "duration": 6,
    "start_time": "2023-02-04T09:45:26.417Z"
   },
   {
    "duration": 6,
    "start_time": "2023-02-04T09:45:47.242Z"
   },
   {
    "duration": 5,
    "start_time": "2023-02-04T09:46:01.541Z"
   },
   {
    "duration": 51,
    "start_time": "2023-02-04T09:46:18.902Z"
   },
   {
    "duration": 46,
    "start_time": "2023-02-04T09:46:43.161Z"
   },
   {
    "duration": 21,
    "start_time": "2023-02-04T09:46:54.064Z"
   },
   {
    "duration": 21,
    "start_time": "2023-02-04T09:47:38.624Z"
   },
   {
    "duration": 19,
    "start_time": "2023-02-04T09:47:50.493Z"
   },
   {
    "duration": 154,
    "start_time": "2023-02-04T09:51:12.560Z"
   },
   {
    "duration": 149,
    "start_time": "2023-02-04T09:51:56.936Z"
   },
   {
    "duration": 21,
    "start_time": "2023-02-04T09:52:46.916Z"
   },
   {
    "duration": 140,
    "start_time": "2023-02-04T09:52:55.231Z"
   },
   {
    "duration": 124,
    "start_time": "2023-02-04T09:52:58.128Z"
   },
   {
    "duration": 139,
    "start_time": "2023-02-04T09:53:38.045Z"
   },
   {
    "duration": 140,
    "start_time": "2023-02-04T09:53:53.300Z"
   },
   {
    "duration": 165,
    "start_time": "2023-02-04T09:54:17.513Z"
   },
   {
    "duration": 164,
    "start_time": "2023-02-04T09:54:25.817Z"
   },
   {
    "duration": 149,
    "start_time": "2023-02-04T09:54:45.837Z"
   },
   {
    "duration": 159,
    "start_time": "2023-02-04T09:56:16.224Z"
   },
   {
    "duration": 7,
    "start_time": "2023-02-04T09:56:52.143Z"
   },
   {
    "duration": 668,
    "start_time": "2023-02-04T10:23:23.762Z"
   },
   {
    "duration": 152,
    "start_time": "2023-02-04T10:23:24.432Z"
   },
   {
    "duration": 39,
    "start_time": "2023-02-04T10:23:24.587Z"
   },
   {
    "duration": 2221,
    "start_time": "2023-02-04T10:23:24.628Z"
   },
   {
    "duration": 15,
    "start_time": "2023-02-04T10:23:26.852Z"
   },
   {
    "duration": 18,
    "start_time": "2023-02-04T10:23:26.869Z"
   },
   {
    "duration": 54,
    "start_time": "2023-02-04T10:23:26.889Z"
   },
   {
    "duration": 6,
    "start_time": "2023-02-04T10:23:26.945Z"
   },
   {
    "duration": 75,
    "start_time": "2023-02-04T10:23:26.953Z"
   },
   {
    "duration": 6,
    "start_time": "2023-02-04T10:23:27.030Z"
   },
   {
    "duration": 29,
    "start_time": "2023-02-04T10:23:27.037Z"
   },
   {
    "duration": 704,
    "start_time": "2023-02-04T10:23:27.068Z"
   },
   {
    "duration": 1714,
    "start_time": "2023-02-04T10:23:27.774Z"
   },
   {
    "duration": 304,
    "start_time": "2023-02-04T10:23:29.491Z"
   },
   {
    "duration": 173,
    "start_time": "2023-02-04T10:23:29.797Z"
   },
   {
    "duration": 225,
    "start_time": "2023-02-04T10:23:29.972Z"
   },
   {
    "duration": 211,
    "start_time": "2023-02-04T10:23:30.199Z"
   },
   {
    "duration": 5,
    "start_time": "2023-02-04T10:23:30.421Z"
   },
   {
    "duration": 250,
    "start_time": "2023-02-04T10:23:30.428Z"
   },
   {
    "duration": 247,
    "start_time": "2023-02-04T10:23:30.680Z"
   },
   {
    "duration": 220,
    "start_time": "2023-02-04T10:23:30.929Z"
   },
   {
    "duration": 252,
    "start_time": "2023-02-04T10:23:31.151Z"
   },
   {
    "duration": 253,
    "start_time": "2023-02-04T10:23:31.405Z"
   },
   {
    "duration": 237,
    "start_time": "2023-02-04T10:23:31.660Z"
   },
   {
    "duration": 237,
    "start_time": "2023-02-04T10:23:31.899Z"
   },
   {
    "duration": 327,
    "start_time": "2023-02-04T10:23:32.138Z"
   },
   {
    "duration": 11,
    "start_time": "2023-02-04T10:23:32.467Z"
   },
   {
    "duration": 79,
    "start_time": "2023-02-04T10:23:32.480Z"
   },
   {
    "duration": 21,
    "start_time": "2023-02-04T10:23:32.560Z"
   },
   {
    "duration": 192,
    "start_time": "2023-02-04T10:23:32.584Z"
   },
   {
    "duration": 7,
    "start_time": "2023-02-04T10:23:32.778Z"
   },
   {
    "duration": 643,
    "start_time": "2023-02-05T06:27:00.226Z"
   },
   {
    "duration": 184,
    "start_time": "2023-02-05T06:27:00.872Z"
   },
   {
    "duration": 20,
    "start_time": "2023-02-05T06:27:01.058Z"
   },
   {
    "duration": 2148,
    "start_time": "2023-02-05T06:27:01.081Z"
   },
   {
    "duration": 12,
    "start_time": "2023-02-05T06:27:03.230Z"
   },
   {
    "duration": 18,
    "start_time": "2023-02-05T06:27:03.244Z"
   },
   {
    "duration": 35,
    "start_time": "2023-02-05T06:27:03.263Z"
   },
   {
    "duration": 6,
    "start_time": "2023-02-05T06:27:03.299Z"
   },
   {
    "duration": 43,
    "start_time": "2023-02-05T06:27:03.307Z"
   },
   {
    "duration": 4,
    "start_time": "2023-02-05T06:27:03.353Z"
   },
   {
    "duration": 48,
    "start_time": "2023-02-05T06:27:03.359Z"
   },
   {
    "duration": 666,
    "start_time": "2023-02-05T06:27:10.327Z"
   },
   {
    "duration": 146,
    "start_time": "2023-02-05T06:27:23.390Z"
   },
   {
    "duration": 3,
    "start_time": "2023-02-05T06:27:47.464Z"
   },
   {
    "duration": 13,
    "start_time": "2023-02-05T06:27:52.264Z"
   },
   {
    "duration": 14,
    "start_time": "2023-02-05T06:28:08.652Z"
   },
   {
    "duration": 21,
    "start_time": "2023-02-05T06:28:17.701Z"
   },
   {
    "duration": 24,
    "start_time": "2023-02-05T06:28:36.131Z"
   },
   {
    "duration": 25,
    "start_time": "2023-02-05T06:28:56.357Z"
   },
   {
    "duration": 646,
    "start_time": "2023-02-05T07:08:35.465Z"
   },
   {
    "duration": 125,
    "start_time": "2023-02-05T07:08:36.113Z"
   },
   {
    "duration": 14,
    "start_time": "2023-02-05T07:08:36.239Z"
   },
   {
    "duration": 2090,
    "start_time": "2023-02-05T07:08:36.255Z"
   },
   {
    "duration": 9,
    "start_time": "2023-02-05T07:08:38.347Z"
   },
   {
    "duration": 13,
    "start_time": "2023-02-05T07:08:38.358Z"
   },
   {
    "duration": 37,
    "start_time": "2023-02-05T07:08:38.372Z"
   },
   {
    "duration": 11,
    "start_time": "2023-02-05T07:08:38.410Z"
   },
   {
    "duration": 41,
    "start_time": "2023-02-05T07:08:38.423Z"
   },
   {
    "duration": 5,
    "start_time": "2023-02-05T07:08:38.467Z"
   },
   {
    "duration": 49,
    "start_time": "2023-02-05T07:08:38.473Z"
   },
   {
    "duration": 24,
    "start_time": "2023-02-05T07:08:38.524Z"
   },
   {
    "duration": 698,
    "start_time": "2023-02-05T07:08:38.550Z"
   },
   {
    "duration": 1592,
    "start_time": "2023-02-05T07:08:39.250Z"
   },
   {
    "duration": 283,
    "start_time": "2023-02-05T07:08:40.844Z"
   },
   {
    "duration": 162,
    "start_time": "2023-02-05T07:08:41.129Z"
   },
   {
    "duration": 223,
    "start_time": "2023-02-05T07:08:41.293Z"
   },
   {
    "duration": 165,
    "start_time": "2023-02-05T07:08:41.518Z"
   },
   {
    "duration": 4,
    "start_time": "2023-02-05T07:08:41.685Z"
   },
   {
    "duration": 228,
    "start_time": "2023-02-05T07:08:41.690Z"
   },
   {
    "duration": 221,
    "start_time": "2023-02-05T07:08:41.920Z"
   },
   {
    "duration": 196,
    "start_time": "2023-02-05T07:08:42.142Z"
   },
   {
    "duration": 216,
    "start_time": "2023-02-05T07:08:42.339Z"
   },
   {
    "duration": 224,
    "start_time": "2023-02-05T07:08:42.557Z"
   },
   {
    "duration": 218,
    "start_time": "2023-02-05T07:08:42.783Z"
   },
   {
    "duration": 227,
    "start_time": "2023-02-05T07:08:43.004Z"
   },
   {
    "duration": 299,
    "start_time": "2023-02-05T07:08:43.233Z"
   },
   {
    "duration": 9,
    "start_time": "2023-02-05T07:08:43.535Z"
   },
   {
    "duration": 78,
    "start_time": "2023-02-05T07:08:43.546Z"
   },
   {
    "duration": 24,
    "start_time": "2023-02-05T07:08:43.626Z"
   },
   {
    "duration": 196,
    "start_time": "2023-02-05T07:08:43.651Z"
   },
   {
    "duration": 7,
    "start_time": "2023-02-05T07:08:43.848Z"
   },
   {
    "duration": 47,
    "start_time": "2023-02-05T10:10:09.775Z"
   },
   {
    "duration": 784,
    "start_time": "2023-02-05T10:10:15.486Z"
   },
   {
    "duration": 174,
    "start_time": "2023-02-05T10:10:16.272Z"
   },
   {
    "duration": 17,
    "start_time": "2023-02-05T10:10:16.447Z"
   },
   {
    "duration": 2207,
    "start_time": "2023-02-05T10:10:16.466Z"
   },
   {
    "duration": 10,
    "start_time": "2023-02-05T10:10:18.675Z"
   },
   {
    "duration": 16,
    "start_time": "2023-02-05T10:10:18.687Z"
   },
   {
    "duration": 34,
    "start_time": "2023-02-05T10:10:18.704Z"
   },
   {
    "duration": 5,
    "start_time": "2023-02-05T10:10:18.739Z"
   },
   {
    "duration": 62,
    "start_time": "2023-02-05T10:10:18.746Z"
   },
   {
    "duration": 6,
    "start_time": "2023-02-05T10:10:18.811Z"
   },
   {
    "duration": 24,
    "start_time": "2023-02-05T10:10:18.818Z"
   },
   {
    "duration": 26,
    "start_time": "2023-02-05T10:10:18.844Z"
   },
   {
    "duration": 668,
    "start_time": "2023-02-05T10:10:18.871Z"
   },
   {
    "duration": 1591,
    "start_time": "2023-02-05T10:10:19.541Z"
   },
   {
    "duration": 232,
    "start_time": "2023-02-05T10:10:21.134Z"
   },
   {
    "duration": 135,
    "start_time": "2023-02-05T10:10:21.368Z"
   },
   {
    "duration": 189,
    "start_time": "2023-02-05T10:10:21.504Z"
   },
   {
    "duration": 168,
    "start_time": "2023-02-05T10:10:21.698Z"
   },
   {
    "duration": 4,
    "start_time": "2023-02-05T10:10:21.867Z"
   },
   {
    "duration": 215,
    "start_time": "2023-02-05T10:10:21.873Z"
   },
   {
    "duration": 226,
    "start_time": "2023-02-05T10:10:22.090Z"
   },
   {
    "duration": 194,
    "start_time": "2023-02-05T10:10:22.318Z"
   },
   {
    "duration": 218,
    "start_time": "2023-02-05T10:10:22.514Z"
   },
   {
    "duration": 204,
    "start_time": "2023-02-05T10:10:22.734Z"
   },
   {
    "duration": 222,
    "start_time": "2023-02-05T10:10:22.940Z"
   },
   {
    "duration": 211,
    "start_time": "2023-02-05T10:10:23.164Z"
   },
   {
    "duration": 286,
    "start_time": "2023-02-05T10:10:23.376Z"
   },
   {
    "duration": 7,
    "start_time": "2023-02-05T10:10:23.665Z"
   },
   {
    "duration": 59,
    "start_time": "2023-02-05T10:10:23.674Z"
   },
   {
    "duration": 98,
    "start_time": "2023-02-05T10:10:23.734Z"
   },
   {
    "duration": 0,
    "start_time": "2023-02-05T10:10:23.833Z"
   },
   {
    "duration": 0,
    "start_time": "2023-02-05T10:10:23.834Z"
   },
   {
    "duration": 25,
    "start_time": "2023-02-05T10:10:45.329Z"
   },
   {
    "duration": 22,
    "start_time": "2023-02-05T10:11:21.273Z"
   },
   {
    "duration": 143,
    "start_time": "2023-02-05T10:11:27.589Z"
   },
   {
    "duration": 22,
    "start_time": "2023-02-05T10:12:19.808Z"
   },
   {
    "duration": 1480,
    "start_time": "2023-02-05T10:13:54.812Z"
   },
   {
    "duration": 1694,
    "start_time": "2023-02-05T10:14:01.617Z"
   },
   {
    "duration": 1725,
    "start_time": "2023-02-05T10:14:07.046Z"
   },
   {
    "duration": 1788,
    "start_time": "2023-02-05T10:14:11.695Z"
   },
   {
    "duration": 189,
    "start_time": "2023-02-05T10:16:47.644Z"
   },
   {
    "duration": 17,
    "start_time": "2023-02-05T10:17:02.192Z"
   },
   {
    "duration": 216,
    "start_time": "2023-02-05T10:18:11.860Z"
   },
   {
    "duration": 222,
    "start_time": "2023-02-05T10:18:23.836Z"
   },
   {
    "duration": 174,
    "start_time": "2023-02-05T10:18:48.550Z"
   },
   {
    "duration": 183,
    "start_time": "2023-02-05T10:21:05.761Z"
   },
   {
    "duration": 366,
    "start_time": "2023-02-05T10:21:13.848Z"
   },
   {
    "duration": 154,
    "start_time": "2023-02-05T10:22:45.870Z"
   },
   {
    "duration": 142,
    "start_time": "2023-02-05T10:23:04.739Z"
   },
   {
    "duration": 209,
    "start_time": "2023-02-05T10:23:19.890Z"
   },
   {
    "duration": 203,
    "start_time": "2023-02-05T10:23:25.950Z"
   },
   {
    "duration": 209,
    "start_time": "2023-02-05T10:23:33.776Z"
   },
   {
    "duration": 147,
    "start_time": "2023-02-05T10:23:37.106Z"
   },
   {
    "duration": 140,
    "start_time": "2023-02-05T10:23:49.536Z"
   },
   {
    "duration": 150,
    "start_time": "2023-02-05T10:24:10.677Z"
   },
   {
    "duration": 184,
    "start_time": "2023-02-05T10:24:20.854Z"
   },
   {
    "duration": 245,
    "start_time": "2023-02-05T10:24:36.205Z"
   },
   {
    "duration": 224,
    "start_time": "2023-02-05T10:24:54.550Z"
   },
   {
    "duration": 170,
    "start_time": "2023-02-05T10:27:17.193Z"
   },
   {
    "duration": 159,
    "start_time": "2023-02-05T10:29:45.385Z"
   },
   {
    "duration": 139,
    "start_time": "2023-02-05T10:30:49.890Z"
   },
   {
    "duration": 140,
    "start_time": "2023-02-05T10:31:58.528Z"
   },
   {
    "duration": 147,
    "start_time": "2023-02-05T10:33:19.860Z"
   },
   {
    "duration": 128,
    "start_time": "2023-02-05T10:33:33.228Z"
   },
   {
    "duration": 137,
    "start_time": "2023-02-05T10:34:32.793Z"
   },
   {
    "duration": 161,
    "start_time": "2023-02-05T10:35:41.095Z"
   },
   {
    "duration": 142,
    "start_time": "2023-02-05T10:38:49.673Z"
   },
   {
    "duration": 155,
    "start_time": "2023-02-05T10:40:21.322Z"
   },
   {
    "duration": 18,
    "start_time": "2023-02-05T10:42:51.808Z"
   },
   {
    "duration": 272,
    "start_time": "2023-02-05T10:43:56.448Z"
   },
   {
    "duration": 185,
    "start_time": "2023-02-05T10:45:04.482Z"
   },
   {
    "duration": 147,
    "start_time": "2023-02-05T10:45:15.256Z"
   },
   {
    "duration": 177,
    "start_time": "2023-02-05T10:45:37.727Z"
   },
   {
    "duration": 199,
    "start_time": "2023-02-05T10:46:17.384Z"
   },
   {
    "duration": 157,
    "start_time": "2023-02-05T10:46:41.704Z"
   },
   {
    "duration": 159,
    "start_time": "2023-02-05T10:47:06.070Z"
   },
   {
    "duration": 152,
    "start_time": "2023-02-05T10:47:25.911Z"
   },
   {
    "duration": 141,
    "start_time": "2023-02-05T10:47:36.915Z"
   },
   {
    "duration": 139,
    "start_time": "2023-02-05T10:48:00.737Z"
   },
   {
    "duration": 158,
    "start_time": "2023-02-05T10:48:33.188Z"
   },
   {
    "duration": 216,
    "start_time": "2023-02-05T10:48:56.911Z"
   },
   {
    "duration": 178,
    "start_time": "2023-02-05T10:49:27.697Z"
   },
   {
    "duration": 40,
    "start_time": "2023-02-05T10:54:13.745Z"
   },
   {
    "duration": 25,
    "start_time": "2023-02-05T10:54:17.909Z"
   },
   {
    "duration": 563,
    "start_time": "2023-02-05T10:54:22.213Z"
   },
   {
    "duration": 69,
    "start_time": "2023-02-05T10:58:21.477Z"
   },
   {
    "duration": 67,
    "start_time": "2023-02-05T10:58:30.364Z"
   },
   {
    "duration": 640,
    "start_time": "2023-02-05T10:58:44.113Z"
   },
   {
    "duration": 115,
    "start_time": "2023-02-05T10:58:44.755Z"
   },
   {
    "duration": 27,
    "start_time": "2023-02-05T10:58:44.872Z"
   },
   {
    "duration": 1923,
    "start_time": "2023-02-05T10:58:44.902Z"
   },
   {
    "duration": 9,
    "start_time": "2023-02-05T10:58:46.828Z"
   },
   {
    "duration": 15,
    "start_time": "2023-02-05T10:58:46.839Z"
   },
   {
    "duration": 32,
    "start_time": "2023-02-05T10:58:46.856Z"
   },
   {
    "duration": 11,
    "start_time": "2023-02-05T10:58:46.890Z"
   },
   {
    "duration": 42,
    "start_time": "2023-02-05T10:58:46.903Z"
   },
   {
    "duration": 6,
    "start_time": "2023-02-05T10:58:46.947Z"
   },
   {
    "duration": 140,
    "start_time": "2023-02-05T10:58:46.955Z"
   },
   {
    "duration": 0,
    "start_time": "2023-02-05T10:58:47.097Z"
   },
   {
    "duration": 0,
    "start_time": "2023-02-05T10:58:47.098Z"
   },
   {
    "duration": 0,
    "start_time": "2023-02-05T10:58:47.100Z"
   },
   {
    "duration": 0,
    "start_time": "2023-02-05T10:58:47.101Z"
   },
   {
    "duration": 0,
    "start_time": "2023-02-05T10:58:47.104Z"
   },
   {
    "duration": 0,
    "start_time": "2023-02-05T10:58:47.105Z"
   },
   {
    "duration": 0,
    "start_time": "2023-02-05T10:58:47.107Z"
   },
   {
    "duration": 0,
    "start_time": "2023-02-05T10:58:47.108Z"
   },
   {
    "duration": 0,
    "start_time": "2023-02-05T10:58:47.109Z"
   },
   {
    "duration": 0,
    "start_time": "2023-02-05T10:58:47.110Z"
   },
   {
    "duration": 0,
    "start_time": "2023-02-05T10:58:47.113Z"
   },
   {
    "duration": 0,
    "start_time": "2023-02-05T10:58:47.114Z"
   },
   {
    "duration": 0,
    "start_time": "2023-02-05T10:58:47.115Z"
   },
   {
    "duration": 0,
    "start_time": "2023-02-05T10:58:47.116Z"
   },
   {
    "duration": 0,
    "start_time": "2023-02-05T10:58:47.117Z"
   },
   {
    "duration": 0,
    "start_time": "2023-02-05T10:58:47.119Z"
   },
   {
    "duration": 0,
    "start_time": "2023-02-05T10:58:47.123Z"
   },
   {
    "duration": 0,
    "start_time": "2023-02-05T10:58:47.124Z"
   },
   {
    "duration": 0,
    "start_time": "2023-02-05T10:58:47.126Z"
   },
   {
    "duration": 0,
    "start_time": "2023-02-05T10:58:47.129Z"
   },
   {
    "duration": 0,
    "start_time": "2023-02-05T10:58:47.130Z"
   },
   {
    "duration": 0,
    "start_time": "2023-02-05T10:58:47.130Z"
   },
   {
    "duration": 0,
    "start_time": "2023-02-05T10:58:47.132Z"
   },
   {
    "duration": 0,
    "start_time": "2023-02-05T10:58:47.133Z"
   },
   {
    "duration": 0,
    "start_time": "2023-02-05T10:58:47.134Z"
   },
   {
    "duration": 0,
    "start_time": "2023-02-05T10:58:47.135Z"
   },
   {
    "duration": 0,
    "start_time": "2023-02-05T10:58:47.136Z"
   },
   {
    "duration": 0,
    "start_time": "2023-02-05T10:58:47.138Z"
   },
   {
    "duration": 0,
    "start_time": "2023-02-05T10:58:47.139Z"
   },
   {
    "duration": 0,
    "start_time": "2023-02-05T10:58:47.140Z"
   },
   {
    "duration": 1,
    "start_time": "2023-02-05T10:58:47.141Z"
   },
   {
    "duration": 135,
    "start_time": "2023-02-05T10:59:19.045Z"
   },
   {
    "duration": 162,
    "start_time": "2023-02-05T10:59:56.278Z"
   },
   {
    "duration": 586,
    "start_time": "2023-02-05T11:00:14.641Z"
   },
   {
    "duration": 103,
    "start_time": "2023-02-05T11:00:15.229Z"
   },
   {
    "duration": 15,
    "start_time": "2023-02-05T11:00:15.334Z"
   },
   {
    "duration": 2026,
    "start_time": "2023-02-05T11:00:15.351Z"
   },
   {
    "duration": 21,
    "start_time": "2023-02-05T11:00:17.380Z"
   },
   {
    "duration": 14,
    "start_time": "2023-02-05T11:00:17.403Z"
   },
   {
    "duration": 40,
    "start_time": "2023-02-05T11:00:17.419Z"
   },
   {
    "duration": 5,
    "start_time": "2023-02-05T11:00:17.461Z"
   },
   {
    "duration": 86,
    "start_time": "2023-02-05T11:00:17.468Z"
   },
   {
    "duration": 8,
    "start_time": "2023-02-05T11:00:17.556Z"
   },
   {
    "duration": 95,
    "start_time": "2023-02-05T11:00:17.566Z"
   },
   {
    "duration": 241,
    "start_time": "2023-02-05T11:00:17.663Z"
   },
   {
    "duration": 0,
    "start_time": "2023-02-05T11:00:17.907Z"
   },
   {
    "duration": 0,
    "start_time": "2023-02-05T11:00:17.909Z"
   },
   {
    "duration": 0,
    "start_time": "2023-02-05T11:00:17.911Z"
   },
   {
    "duration": 0,
    "start_time": "2023-02-05T11:00:17.912Z"
   },
   {
    "duration": 0,
    "start_time": "2023-02-05T11:00:17.914Z"
   },
   {
    "duration": 0,
    "start_time": "2023-02-05T11:00:17.915Z"
   },
   {
    "duration": 0,
    "start_time": "2023-02-05T11:00:17.917Z"
   },
   {
    "duration": 0,
    "start_time": "2023-02-05T11:00:17.919Z"
   },
   {
    "duration": 0,
    "start_time": "2023-02-05T11:00:17.921Z"
   },
   {
    "duration": 0,
    "start_time": "2023-02-05T11:00:17.922Z"
   },
   {
    "duration": 0,
    "start_time": "2023-02-05T11:00:17.923Z"
   },
   {
    "duration": 0,
    "start_time": "2023-02-05T11:00:17.925Z"
   },
   {
    "duration": 0,
    "start_time": "2023-02-05T11:00:17.927Z"
   },
   {
    "duration": 0,
    "start_time": "2023-02-05T11:00:17.928Z"
   },
   {
    "duration": 0,
    "start_time": "2023-02-05T11:00:17.929Z"
   },
   {
    "duration": 0,
    "start_time": "2023-02-05T11:00:17.931Z"
   },
   {
    "duration": 0,
    "start_time": "2023-02-05T11:00:17.932Z"
   },
   {
    "duration": 0,
    "start_time": "2023-02-05T11:00:17.934Z"
   },
   {
    "duration": 0,
    "start_time": "2023-02-05T11:00:17.936Z"
   },
   {
    "duration": 0,
    "start_time": "2023-02-05T11:00:17.937Z"
   },
   {
    "duration": 0,
    "start_time": "2023-02-05T11:00:17.938Z"
   },
   {
    "duration": 0,
    "start_time": "2023-02-05T11:00:17.940Z"
   },
   {
    "duration": 0,
    "start_time": "2023-02-05T11:00:17.940Z"
   },
   {
    "duration": 0,
    "start_time": "2023-02-05T11:00:17.942Z"
   },
   {
    "duration": 0,
    "start_time": "2023-02-05T11:00:17.943Z"
   },
   {
    "duration": 0,
    "start_time": "2023-02-05T11:00:18.000Z"
   },
   {
    "duration": 0,
    "start_time": "2023-02-05T11:00:18.001Z"
   },
   {
    "duration": 0,
    "start_time": "2023-02-05T11:00:18.003Z"
   },
   {
    "duration": 0,
    "start_time": "2023-02-05T11:00:18.004Z"
   },
   {
    "duration": 0,
    "start_time": "2023-02-05T11:00:18.006Z"
   },
   {
    "duration": 2,
    "start_time": "2023-02-05T11:00:42.944Z"
   },
   {
    "duration": 26,
    "start_time": "2023-02-05T11:00:46.424Z"
   },
   {
    "duration": 160,
    "start_time": "2023-02-05T11:01:54.124Z"
   },
   {
    "duration": 620,
    "start_time": "2023-02-05T11:02:00.658Z"
   },
   {
    "duration": 120,
    "start_time": "2023-02-05T11:02:01.281Z"
   },
   {
    "duration": 18,
    "start_time": "2023-02-05T11:02:01.403Z"
   },
   {
    "duration": 1995,
    "start_time": "2023-02-05T11:02:01.422Z"
   },
   {
    "duration": 9,
    "start_time": "2023-02-05T11:02:03.419Z"
   },
   {
    "duration": 17,
    "start_time": "2023-02-05T11:02:03.430Z"
   },
   {
    "duration": 35,
    "start_time": "2023-02-05T11:02:03.449Z"
   },
   {
    "duration": 6,
    "start_time": "2023-02-05T11:02:03.485Z"
   },
   {
    "duration": 43,
    "start_time": "2023-02-05T11:02:03.499Z"
   },
   {
    "duration": 5,
    "start_time": "2023-02-05T11:02:03.544Z"
   },
   {
    "duration": 80,
    "start_time": "2023-02-05T11:02:03.551Z"
   },
   {
    "duration": 3,
    "start_time": "2023-02-05T11:02:03.633Z"
   },
   {
    "duration": 32,
    "start_time": "2023-02-05T11:02:03.637Z"
   },
   {
    "duration": 213,
    "start_time": "2023-02-05T11:02:03.673Z"
   },
   {
    "duration": 185,
    "start_time": "2023-02-05T11:02:03.887Z"
   },
   {
    "duration": 174,
    "start_time": "2023-02-05T11:02:04.074Z"
   },
   {
    "duration": 158,
    "start_time": "2023-02-05T11:02:04.250Z"
   },
   {
    "duration": 169,
    "start_time": "2023-02-05T11:02:04.410Z"
   },
   {
    "duration": 285,
    "start_time": "2023-02-05T11:02:04.581Z"
   },
   {
    "duration": 152,
    "start_time": "2023-02-05T11:02:04.868Z"
   },
   {
    "duration": 152,
    "start_time": "2023-02-05T11:02:05.021Z"
   },
   {
    "duration": 155,
    "start_time": "2023-02-05T11:02:05.175Z"
   },
   {
    "duration": 149,
    "start_time": "2023-02-05T11:02:05.332Z"
   },
   {
    "duration": 144,
    "start_time": "2023-02-05T11:02:05.483Z"
   },
   {
    "duration": 195,
    "start_time": "2023-02-05T11:02:05.628Z"
   },
   {
    "duration": 0,
    "start_time": "2023-02-05T11:02:05.825Z"
   },
   {
    "duration": 0,
    "start_time": "2023-02-05T11:02:05.827Z"
   },
   {
    "duration": 0,
    "start_time": "2023-02-05T11:02:05.828Z"
   },
   {
    "duration": 0,
    "start_time": "2023-02-05T11:02:05.829Z"
   },
   {
    "duration": 0,
    "start_time": "2023-02-05T11:02:05.830Z"
   },
   {
    "duration": 0,
    "start_time": "2023-02-05T11:02:05.831Z"
   },
   {
    "duration": 0,
    "start_time": "2023-02-05T11:02:05.833Z"
   },
   {
    "duration": 0,
    "start_time": "2023-02-05T11:02:05.835Z"
   },
   {
    "duration": 0,
    "start_time": "2023-02-05T11:02:05.836Z"
   },
   {
    "duration": 0,
    "start_time": "2023-02-05T11:02:05.838Z"
   },
   {
    "duration": 1,
    "start_time": "2023-02-05T11:02:05.839Z"
   },
   {
    "duration": 0,
    "start_time": "2023-02-05T11:02:05.841Z"
   },
   {
    "duration": 0,
    "start_time": "2023-02-05T11:02:05.842Z"
   },
   {
    "duration": 0,
    "start_time": "2023-02-05T11:02:05.843Z"
   },
   {
    "duration": 0,
    "start_time": "2023-02-05T11:02:05.844Z"
   },
   {
    "duration": 0,
    "start_time": "2023-02-05T11:02:05.845Z"
   },
   {
    "duration": 0,
    "start_time": "2023-02-05T11:02:05.846Z"
   },
   {
    "duration": 183,
    "start_time": "2023-02-05T11:02:30.740Z"
   },
   {
    "duration": 635,
    "start_time": "2023-02-05T11:02:37.751Z"
   },
   {
    "duration": 105,
    "start_time": "2023-02-05T11:02:38.388Z"
   },
   {
    "duration": 15,
    "start_time": "2023-02-05T11:02:38.495Z"
   },
   {
    "duration": 1924,
    "start_time": "2023-02-05T11:02:38.513Z"
   },
   {
    "duration": 10,
    "start_time": "2023-02-05T11:02:40.438Z"
   },
   {
    "duration": 16,
    "start_time": "2023-02-05T11:02:40.449Z"
   },
   {
    "duration": 33,
    "start_time": "2023-02-05T11:02:40.466Z"
   },
   {
    "duration": 5,
    "start_time": "2023-02-05T11:02:40.500Z"
   },
   {
    "duration": 40,
    "start_time": "2023-02-05T11:02:40.507Z"
   },
   {
    "duration": 5,
    "start_time": "2023-02-05T11:02:40.549Z"
   },
   {
    "duration": 82,
    "start_time": "2023-02-05T11:02:40.556Z"
   },
   {
    "duration": 2,
    "start_time": "2023-02-05T11:02:40.640Z"
   },
   {
    "duration": 26,
    "start_time": "2023-02-05T11:02:40.644Z"
   },
   {
    "duration": 271,
    "start_time": "2023-02-05T11:02:40.672Z"
   },
   {
    "duration": 303,
    "start_time": "2023-02-05T11:02:40.998Z"
   },
   {
    "duration": 301,
    "start_time": "2023-02-05T11:02:41.303Z"
   },
   {
    "duration": 302,
    "start_time": "2023-02-05T11:02:41.606Z"
   },
   {
    "duration": 298,
    "start_time": "2023-02-05T11:02:41.910Z"
   },
   {
    "duration": 497,
    "start_time": "2023-02-05T11:02:42.209Z"
   },
   {
    "duration": 171,
    "start_time": "2023-02-05T11:02:42.709Z"
   },
   {
    "duration": 156,
    "start_time": "2023-02-05T11:02:42.881Z"
   },
   {
    "duration": 152,
    "start_time": "2023-02-05T11:02:43.039Z"
   },
   {
    "duration": 175,
    "start_time": "2023-02-05T11:02:43.193Z"
   },
   {
    "duration": 186,
    "start_time": "2023-02-05T11:02:43.370Z"
   },
   {
    "duration": 232,
    "start_time": "2023-02-05T11:02:43.559Z"
   },
   {
    "duration": 0,
    "start_time": "2023-02-05T11:02:43.799Z"
   },
   {
    "duration": 0,
    "start_time": "2023-02-05T11:02:43.802Z"
   },
   {
    "duration": 0,
    "start_time": "2023-02-05T11:02:43.803Z"
   },
   {
    "duration": 0,
    "start_time": "2023-02-05T11:02:43.805Z"
   },
   {
    "duration": 0,
    "start_time": "2023-02-05T11:02:43.806Z"
   },
   {
    "duration": 0,
    "start_time": "2023-02-05T11:02:43.807Z"
   },
   {
    "duration": 0,
    "start_time": "2023-02-05T11:02:43.808Z"
   },
   {
    "duration": 0,
    "start_time": "2023-02-05T11:02:43.810Z"
   },
   {
    "duration": 0,
    "start_time": "2023-02-05T11:02:43.811Z"
   },
   {
    "duration": 0,
    "start_time": "2023-02-05T11:02:43.812Z"
   },
   {
    "duration": 0,
    "start_time": "2023-02-05T11:02:43.813Z"
   },
   {
    "duration": 0,
    "start_time": "2023-02-05T11:02:43.814Z"
   },
   {
    "duration": 0,
    "start_time": "2023-02-05T11:02:43.815Z"
   },
   {
    "duration": 0,
    "start_time": "2023-02-05T11:02:43.816Z"
   },
   {
    "duration": 0,
    "start_time": "2023-02-05T11:02:43.817Z"
   },
   {
    "duration": 0,
    "start_time": "2023-02-05T11:02:43.818Z"
   },
   {
    "duration": 0,
    "start_time": "2023-02-05T11:02:43.819Z"
   },
   {
    "duration": 166,
    "start_time": "2023-02-05T11:03:04.894Z"
   },
   {
    "duration": 602,
    "start_time": "2023-02-05T11:03:09.841Z"
   },
   {
    "duration": 103,
    "start_time": "2023-02-05T11:03:10.445Z"
   },
   {
    "duration": 16,
    "start_time": "2023-02-05T11:03:10.550Z"
   },
   {
    "duration": 2485,
    "start_time": "2023-02-05T11:03:10.568Z"
   },
   {
    "duration": 45,
    "start_time": "2023-02-05T11:03:13.055Z"
   },
   {
    "duration": 12,
    "start_time": "2023-02-05T11:03:13.102Z"
   },
   {
    "duration": 90,
    "start_time": "2023-02-05T11:03:13.116Z"
   },
   {
    "duration": 6,
    "start_time": "2023-02-05T11:03:13.208Z"
   },
   {
    "duration": 112,
    "start_time": "2023-02-05T11:03:13.216Z"
   },
   {
    "duration": 5,
    "start_time": "2023-02-05T11:03:13.331Z"
   },
   {
    "duration": 167,
    "start_time": "2023-02-05T11:03:13.337Z"
   },
   {
    "duration": 3,
    "start_time": "2023-02-05T11:03:13.506Z"
   },
   {
    "duration": 838,
    "start_time": "2023-02-05T11:03:13.511Z"
   },
   {
    "duration": 202,
    "start_time": "2023-02-05T11:03:14.350Z"
   },
   {
    "duration": 159,
    "start_time": "2023-02-05T11:03:14.553Z"
   },
   {
    "duration": 168,
    "start_time": "2023-02-05T11:03:14.714Z"
   },
   {
    "duration": 175,
    "start_time": "2023-02-05T11:03:14.883Z"
   },
   {
    "duration": 160,
    "start_time": "2023-02-05T11:03:15.059Z"
   },
   {
    "duration": 252,
    "start_time": "2023-02-05T11:03:15.220Z"
   },
   {
    "duration": 158,
    "start_time": "2023-02-05T11:03:15.474Z"
   },
   {
    "duration": 153,
    "start_time": "2023-02-05T11:03:15.634Z"
   },
   {
    "duration": 162,
    "start_time": "2023-02-05T11:03:15.788Z"
   },
   {
    "duration": 139,
    "start_time": "2023-02-05T11:03:15.952Z"
   },
   {
    "duration": 170,
    "start_time": "2023-02-05T11:03:16.093Z"
   },
   {
    "duration": 148,
    "start_time": "2023-02-05T11:03:16.265Z"
   },
   {
    "duration": 157,
    "start_time": "2023-02-05T11:03:16.414Z"
   },
   {
    "duration": 185,
    "start_time": "2023-02-05T11:03:16.573Z"
   },
   {
    "duration": 190,
    "start_time": "2023-02-05T11:03:16.762Z"
   },
   {
    "duration": 18,
    "start_time": "2023-02-05T11:03:16.954Z"
   },
   {
    "duration": 257,
    "start_time": "2023-02-05T11:03:16.974Z"
   },
   {
    "duration": 305,
    "start_time": "2023-02-05T11:03:17.233Z"
   },
   {
    "duration": 225,
    "start_time": "2023-02-05T11:03:17.539Z"
   },
   {
    "duration": 233,
    "start_time": "2023-02-05T11:03:17.766Z"
   },
   {
    "duration": 236,
    "start_time": "2023-02-05T11:03:18.001Z"
   },
   {
    "duration": 226,
    "start_time": "2023-02-05T11:03:18.239Z"
   },
   {
    "duration": 221,
    "start_time": "2023-02-05T11:03:18.467Z"
   },
   {
    "duration": 218,
    "start_time": "2023-02-05T11:03:18.690Z"
   },
   {
    "duration": 7,
    "start_time": "2023-02-05T11:03:18.910Z"
   },
   {
    "duration": 52,
    "start_time": "2023-02-05T11:03:18.920Z"
   },
   {
    "duration": 41,
    "start_time": "2023-02-05T11:03:18.975Z"
   },
   {
    "duration": 162,
    "start_time": "2023-02-05T11:03:19.017Z"
   },
   {
    "duration": 28,
    "start_time": "2023-02-05T11:03:19.181Z"
   },
   {
    "duration": 66,
    "start_time": "2023-02-05T11:03:49.749Z"
   },
   {
    "duration": 78,
    "start_time": "2023-02-05T11:04:07.336Z"
   },
   {
    "duration": 667,
    "start_time": "2023-02-05T11:04:43.729Z"
   },
   {
    "duration": 125,
    "start_time": "2023-02-05T11:04:44.398Z"
   },
   {
    "duration": 17,
    "start_time": "2023-02-05T11:04:44.525Z"
   },
   {
    "duration": 2981,
    "start_time": "2023-02-05T11:04:44.544Z"
   },
   {
    "duration": 7,
    "start_time": "2023-02-05T11:04:47.528Z"
   },
   {
    "duration": 18,
    "start_time": "2023-02-05T11:04:47.537Z"
   },
   {
    "duration": 63,
    "start_time": "2023-02-05T11:04:47.556Z"
   },
   {
    "duration": 4,
    "start_time": "2023-02-05T11:04:47.621Z"
   },
   {
    "duration": 42,
    "start_time": "2023-02-05T11:04:47.627Z"
   },
   {
    "duration": 5,
    "start_time": "2023-02-05T11:04:47.671Z"
   },
   {
    "duration": 85,
    "start_time": "2023-02-05T11:04:47.678Z"
   },
   {
    "duration": 3,
    "start_time": "2023-02-05T11:04:47.765Z"
   },
   {
    "duration": 46,
    "start_time": "2023-02-05T11:04:47.770Z"
   },
   {
    "duration": 190,
    "start_time": "2023-02-05T11:04:47.820Z"
   },
   {
    "duration": 140,
    "start_time": "2023-02-05T11:04:48.011Z"
   },
   {
    "duration": 152,
    "start_time": "2023-02-05T11:04:48.152Z"
   },
   {
    "duration": 146,
    "start_time": "2023-02-05T11:04:48.306Z"
   },
   {
    "duration": 148,
    "start_time": "2023-02-05T11:04:48.453Z"
   },
   {
    "duration": 226,
    "start_time": "2023-02-05T11:04:48.603Z"
   },
   {
    "duration": 137,
    "start_time": "2023-02-05T11:04:48.830Z"
   },
   {
    "duration": 136,
    "start_time": "2023-02-05T11:04:48.969Z"
   },
   {
    "duration": 136,
    "start_time": "2023-02-05T11:04:49.106Z"
   },
   {
    "duration": 149,
    "start_time": "2023-02-05T11:04:49.244Z"
   },
   {
    "duration": 143,
    "start_time": "2023-02-05T11:04:49.395Z"
   },
   {
    "duration": 190,
    "start_time": "2023-02-05T11:04:49.540Z"
   },
   {
    "duration": 0,
    "start_time": "2023-02-05T11:04:49.732Z"
   },
   {
    "duration": 0,
    "start_time": "2023-02-05T11:04:49.733Z"
   },
   {
    "duration": 0,
    "start_time": "2023-02-05T11:04:49.734Z"
   },
   {
    "duration": 0,
    "start_time": "2023-02-05T11:04:49.735Z"
   },
   {
    "duration": 0,
    "start_time": "2023-02-05T11:04:49.736Z"
   },
   {
    "duration": 0,
    "start_time": "2023-02-05T11:04:49.737Z"
   },
   {
    "duration": 0,
    "start_time": "2023-02-05T11:04:49.738Z"
   },
   {
    "duration": 0,
    "start_time": "2023-02-05T11:04:49.739Z"
   },
   {
    "duration": 0,
    "start_time": "2023-02-05T11:04:49.740Z"
   },
   {
    "duration": 0,
    "start_time": "2023-02-05T11:04:49.741Z"
   },
   {
    "duration": 0,
    "start_time": "2023-02-05T11:04:49.742Z"
   },
   {
    "duration": 0,
    "start_time": "2023-02-05T11:04:49.743Z"
   },
   {
    "duration": 0,
    "start_time": "2023-02-05T11:04:49.744Z"
   },
   {
    "duration": 0,
    "start_time": "2023-02-05T11:04:49.745Z"
   },
   {
    "duration": 0,
    "start_time": "2023-02-05T11:04:49.746Z"
   },
   {
    "duration": 0,
    "start_time": "2023-02-05T11:04:49.747Z"
   },
   {
    "duration": 0,
    "start_time": "2023-02-05T11:04:49.748Z"
   },
   {
    "duration": 659,
    "start_time": "2023-02-05T11:05:08.175Z"
   },
   {
    "duration": 108,
    "start_time": "2023-02-05T11:05:08.836Z"
   },
   {
    "duration": 15,
    "start_time": "2023-02-05T11:05:08.946Z"
   },
   {
    "duration": 2387,
    "start_time": "2023-02-05T11:05:08.962Z"
   },
   {
    "duration": 50,
    "start_time": "2023-02-05T11:05:11.351Z"
   },
   {
    "duration": 17,
    "start_time": "2023-02-05T11:05:11.404Z"
   },
   {
    "duration": 85,
    "start_time": "2023-02-05T11:05:11.423Z"
   },
   {
    "duration": 7,
    "start_time": "2023-02-05T11:05:11.510Z"
   },
   {
    "duration": 99,
    "start_time": "2023-02-05T11:05:11.518Z"
   },
   {
    "duration": 6,
    "start_time": "2023-02-05T11:05:11.619Z"
   },
   {
    "duration": 123,
    "start_time": "2023-02-05T11:05:11.626Z"
   },
   {
    "duration": 2,
    "start_time": "2023-02-05T11:05:11.800Z"
   },
   {
    "duration": 1212,
    "start_time": "2023-02-05T11:05:11.804Z"
   },
   {
    "duration": 407,
    "start_time": "2023-02-05T11:05:13.017Z"
   },
   {
    "duration": 316,
    "start_time": "2023-02-05T11:05:13.425Z"
   },
   {
    "duration": 456,
    "start_time": "2023-02-05T11:05:13.743Z"
   },
   {
    "duration": 223,
    "start_time": "2023-02-05T11:05:14.201Z"
   },
   {
    "duration": 162,
    "start_time": "2023-02-05T11:05:14.426Z"
   },
   {
    "duration": 263,
    "start_time": "2023-02-05T11:05:14.590Z"
   },
   {
    "duration": 150,
    "start_time": "2023-02-05T11:05:14.855Z"
   },
   {
    "duration": 169,
    "start_time": "2023-02-05T11:05:15.006Z"
   },
   {
    "duration": 163,
    "start_time": "2023-02-05T11:05:15.176Z"
   },
   {
    "duration": 151,
    "start_time": "2023-02-05T11:05:15.341Z"
   },
   {
    "duration": 169,
    "start_time": "2023-02-05T11:05:15.493Z"
   },
   {
    "duration": 154,
    "start_time": "2023-02-05T11:05:15.664Z"
   },
   {
    "duration": 162,
    "start_time": "2023-02-05T11:05:15.820Z"
   },
   {
    "duration": 176,
    "start_time": "2023-02-05T11:05:15.983Z"
   },
   {
    "duration": 165,
    "start_time": "2023-02-05T11:05:16.162Z"
   },
   {
    "duration": 18,
    "start_time": "2023-02-05T11:05:16.329Z"
   },
   {
    "duration": 218,
    "start_time": "2023-02-05T11:05:16.349Z"
   },
   {
    "duration": 303,
    "start_time": "2023-02-05T11:05:16.569Z"
   },
   {
    "duration": 235,
    "start_time": "2023-02-05T11:05:16.874Z"
   },
   {
    "duration": 245,
    "start_time": "2023-02-05T11:05:17.112Z"
   },
   {
    "duration": 259,
    "start_time": "2023-02-05T11:05:17.358Z"
   },
   {
    "duration": 233,
    "start_time": "2023-02-05T11:05:17.619Z"
   },
   {
    "duration": 222,
    "start_time": "2023-02-05T11:05:17.855Z"
   },
   {
    "duration": 215,
    "start_time": "2023-02-05T11:05:18.078Z"
   },
   {
    "duration": 8,
    "start_time": "2023-02-05T11:05:18.295Z"
   },
   {
    "duration": 52,
    "start_time": "2023-02-05T11:05:18.304Z"
   },
   {
    "duration": 46,
    "start_time": "2023-02-05T11:05:18.358Z"
   },
   {
    "duration": 161,
    "start_time": "2023-02-05T11:05:18.406Z"
   },
   {
    "duration": 32,
    "start_time": "2023-02-05T11:05:18.569Z"
   },
   {
    "duration": 625,
    "start_time": "2023-02-05T11:05:37.623Z"
   },
   {
    "duration": 111,
    "start_time": "2023-02-05T11:05:38.250Z"
   },
   {
    "duration": 14,
    "start_time": "2023-02-05T11:05:38.363Z"
   },
   {
    "duration": 2930,
    "start_time": "2023-02-05T11:05:38.379Z"
   },
   {
    "duration": 9,
    "start_time": "2023-02-05T11:05:41.312Z"
   },
   {
    "duration": 23,
    "start_time": "2023-02-05T11:05:41.322Z"
   },
   {
    "duration": 35,
    "start_time": "2023-02-05T11:05:41.347Z"
   },
   {
    "duration": 4,
    "start_time": "2023-02-05T11:05:41.384Z"
   },
   {
    "duration": 39,
    "start_time": "2023-02-05T11:05:41.398Z"
   },
   {
    "duration": 5,
    "start_time": "2023-02-05T11:05:41.438Z"
   },
   {
    "duration": 87,
    "start_time": "2023-02-05T11:05:41.444Z"
   },
   {
    "duration": 3,
    "start_time": "2023-02-05T11:05:41.533Z"
   },
   {
    "duration": 393,
    "start_time": "2023-02-05T11:05:41.537Z"
   },
   {
    "duration": 188,
    "start_time": "2023-02-05T11:05:41.933Z"
   },
   {
    "duration": 172,
    "start_time": "2023-02-05T11:05:42.122Z"
   },
   {
    "duration": 169,
    "start_time": "2023-02-05T11:05:42.298Z"
   },
   {
    "duration": 160,
    "start_time": "2023-02-05T11:05:42.469Z"
   },
   {
    "duration": 156,
    "start_time": "2023-02-05T11:05:42.631Z"
   },
   {
    "duration": 255,
    "start_time": "2023-02-05T11:05:42.789Z"
   },
   {
    "duration": 180,
    "start_time": "2023-02-05T11:05:43.046Z"
   },
   {
    "duration": 214,
    "start_time": "2023-02-05T11:05:43.228Z"
   },
   {
    "duration": 225,
    "start_time": "2023-02-05T11:05:43.445Z"
   },
   {
    "duration": 200,
    "start_time": "2023-02-05T11:05:43.673Z"
   },
   {
    "duration": 221,
    "start_time": "2023-02-05T11:05:43.875Z"
   },
   {
    "duration": 176,
    "start_time": "2023-02-05T11:05:44.099Z"
   },
   {
    "duration": 181,
    "start_time": "2023-02-05T11:05:44.277Z"
   },
   {
    "duration": 219,
    "start_time": "2023-02-05T11:05:44.460Z"
   },
   {
    "duration": 198,
    "start_time": "2023-02-05T11:05:44.681Z"
   },
   {
    "duration": 25,
    "start_time": "2023-02-05T11:05:44.881Z"
   },
   {
    "duration": 224,
    "start_time": "2023-02-05T11:05:44.907Z"
   },
   {
    "duration": 296,
    "start_time": "2023-02-05T11:05:45.133Z"
   },
   {
    "duration": 197,
    "start_time": "2023-02-05T11:05:45.430Z"
   },
   {
    "duration": 193,
    "start_time": "2023-02-05T11:05:45.628Z"
   },
   {
    "duration": 201,
    "start_time": "2023-02-05T11:05:45.823Z"
   },
   {
    "duration": 190,
    "start_time": "2023-02-05T11:05:46.027Z"
   },
   {
    "duration": 183,
    "start_time": "2023-02-05T11:05:46.218Z"
   },
   {
    "duration": 177,
    "start_time": "2023-02-05T11:05:46.402Z"
   },
   {
    "duration": 18,
    "start_time": "2023-02-05T11:05:46.581Z"
   },
   {
    "duration": 45,
    "start_time": "2023-02-05T11:05:46.601Z"
   },
   {
    "duration": 21,
    "start_time": "2023-02-05T11:05:46.647Z"
   },
   {
    "duration": 165,
    "start_time": "2023-02-05T11:05:46.671Z"
   },
   {
    "duration": 17,
    "start_time": "2023-02-05T11:05:46.838Z"
   },
   {
    "duration": 45,
    "start_time": "2023-02-05T11:06:04.931Z"
   },
   {
    "duration": 38,
    "start_time": "2023-02-05T11:10:03.605Z"
   },
   {
    "duration": 32,
    "start_time": "2023-02-05T11:10:40.416Z"
   },
   {
    "duration": 226,
    "start_time": "2023-02-05T11:10:42.932Z"
   },
   {
    "duration": 604,
    "start_time": "2023-02-05T11:11:26.047Z"
   },
   {
    "duration": 116,
    "start_time": "2023-02-05T11:11:26.654Z"
   },
   {
    "duration": 17,
    "start_time": "2023-02-05T11:11:26.772Z"
   },
   {
    "duration": 2023,
    "start_time": "2023-02-05T11:11:26.798Z"
   },
   {
    "duration": 11,
    "start_time": "2023-02-05T11:11:28.824Z"
   },
   {
    "duration": 15,
    "start_time": "2023-02-05T11:11:28.837Z"
   },
   {
    "duration": 42,
    "start_time": "2023-02-05T11:11:28.854Z"
   },
   {
    "duration": 6,
    "start_time": "2023-02-05T11:11:28.897Z"
   },
   {
    "duration": 61,
    "start_time": "2023-02-05T11:11:28.904Z"
   },
   {
    "duration": 5,
    "start_time": "2023-02-05T11:11:28.968Z"
   },
   {
    "duration": 57,
    "start_time": "2023-02-05T11:11:28.975Z"
   },
   {
    "duration": 627,
    "start_time": "2023-02-05T11:11:29.034Z"
   },
   {
    "duration": 207,
    "start_time": "2023-02-05T11:11:29.663Z"
   },
   {
    "duration": 151,
    "start_time": "2023-02-05T11:11:29.872Z"
   },
   {
    "duration": 160,
    "start_time": "2023-02-05T11:11:30.025Z"
   },
   {
    "duration": 162,
    "start_time": "2023-02-05T11:11:30.187Z"
   },
   {
    "duration": 169,
    "start_time": "2023-02-05T11:11:30.351Z"
   },
   {
    "duration": 266,
    "start_time": "2023-02-05T11:11:30.522Z"
   },
   {
    "duration": 156,
    "start_time": "2023-02-05T11:11:30.789Z"
   },
   {
    "duration": 173,
    "start_time": "2023-02-05T11:11:30.947Z"
   },
   {
    "duration": 156,
    "start_time": "2023-02-05T11:11:31.121Z"
   },
   {
    "duration": 144,
    "start_time": "2023-02-05T11:11:31.279Z"
   },
   {
    "duration": 165,
    "start_time": "2023-02-05T11:11:31.424Z"
   },
   {
    "duration": 148,
    "start_time": "2023-02-05T11:11:31.592Z"
   },
   {
    "duration": 257,
    "start_time": "2023-02-05T11:11:31.742Z"
   },
   {
    "duration": 343,
    "start_time": "2023-02-05T11:11:32.002Z"
   },
   {
    "duration": 325,
    "start_time": "2023-02-05T11:11:32.398Z"
   },
   {
    "duration": 17,
    "start_time": "2023-02-05T11:11:32.727Z"
   },
   {
    "duration": 424,
    "start_time": "2023-02-05T11:11:32.800Z"
   },
   {
    "duration": 529,
    "start_time": "2023-02-05T11:11:33.226Z"
   },
   {
    "duration": 214,
    "start_time": "2023-02-05T11:11:33.757Z"
   },
   {
    "duration": 76,
    "start_time": "2023-02-05T11:11:33.973Z"
   },
   {
    "duration": 249,
    "start_time": "2023-02-05T11:11:34.050Z"
   },
   {
    "duration": 214,
    "start_time": "2023-02-05T11:11:34.300Z"
   },
   {
    "duration": 216,
    "start_time": "2023-02-05T11:11:34.516Z"
   },
   {
    "duration": 211,
    "start_time": "2023-02-05T11:11:34.734Z"
   },
   {
    "duration": 8,
    "start_time": "2023-02-05T11:11:34.947Z"
   },
   {
    "duration": 73,
    "start_time": "2023-02-05T11:11:34.957Z"
   },
   {
    "duration": 31,
    "start_time": "2023-02-05T11:11:35.032Z"
   },
   {
    "duration": 159,
    "start_time": "2023-02-05T11:11:35.065Z"
   },
   {
    "duration": 20,
    "start_time": "2023-02-05T11:11:35.226Z"
   },
   {
    "duration": 14,
    "start_time": "2023-02-05T11:12:30.901Z"
   },
   {
    "duration": 150,
    "start_time": "2023-02-05T11:13:15.227Z"
   },
   {
    "duration": 146,
    "start_time": "2023-02-05T11:13:58.009Z"
   },
   {
    "duration": 157,
    "start_time": "2023-02-05T11:14:11.991Z"
   },
   {
    "duration": 194,
    "start_time": "2023-02-05T11:15:37.516Z"
   },
   {
    "duration": 262,
    "start_time": "2023-02-05T11:16:10.342Z"
   },
   {
    "duration": 177,
    "start_time": "2023-02-05T11:16:38.321Z"
   },
   {
    "duration": 156,
    "start_time": "2023-02-05T11:17:31.446Z"
   },
   {
    "duration": 159,
    "start_time": "2023-02-05T11:19:05.442Z"
   },
   {
    "duration": 148,
    "start_time": "2023-02-05T11:20:48.075Z"
   },
   {
    "duration": 681,
    "start_time": "2023-02-06T07:45:36.178Z"
   },
   {
    "duration": 161,
    "start_time": "2023-02-06T07:45:36.861Z"
   },
   {
    "duration": 16,
    "start_time": "2023-02-06T07:45:37.023Z"
   },
   {
    "duration": 1918,
    "start_time": "2023-02-06T07:45:37.041Z"
   },
   {
    "duration": 9,
    "start_time": "2023-02-06T07:45:38.961Z"
   },
   {
    "duration": 25,
    "start_time": "2023-02-06T07:45:38.971Z"
   },
   {
    "duration": 37,
    "start_time": "2023-02-06T07:45:38.998Z"
   },
   {
    "duration": 6,
    "start_time": "2023-02-06T07:45:39.036Z"
   },
   {
    "duration": 66,
    "start_time": "2023-02-06T07:45:39.044Z"
   },
   {
    "duration": 5,
    "start_time": "2023-02-06T07:45:39.114Z"
   },
   {
    "duration": 72,
    "start_time": "2023-02-06T07:45:54.687Z"
   },
   {
    "duration": 54,
    "start_time": "2023-02-06T07:46:00.096Z"
   },
   {
    "duration": 4,
    "start_time": "2023-02-06T07:46:02.025Z"
   },
   {
    "duration": 3,
    "start_time": "2023-02-06T07:46:37.211Z"
   },
   {
    "duration": 112,
    "start_time": "2023-02-06T07:46:37.215Z"
   },
   {
    "duration": 14,
    "start_time": "2023-02-06T07:46:37.329Z"
   },
   {
    "duration": 1858,
    "start_time": "2023-02-06T07:46:37.344Z"
   },
   {
    "duration": 9,
    "start_time": "2023-02-06T07:46:39.204Z"
   },
   {
    "duration": 18,
    "start_time": "2023-02-06T07:46:39.215Z"
   },
   {
    "duration": 29,
    "start_time": "2023-02-06T07:46:39.234Z"
   },
   {
    "duration": 5,
    "start_time": "2023-02-06T07:46:39.264Z"
   },
   {
    "duration": 62,
    "start_time": "2023-02-06T07:46:39.271Z"
   },
   {
    "duration": 5,
    "start_time": "2023-02-06T07:46:39.335Z"
   },
   {
    "duration": 54,
    "start_time": "2023-02-06T07:46:39.342Z"
   },
   {
    "duration": 4,
    "start_time": "2023-02-06T07:46:40.457Z"
   },
   {
    "duration": 5,
    "start_time": "2023-02-06T07:48:30.022Z"
   }
  ],
  "kernelspec": {
   "display_name": "Python 3 (ipykernel)",
   "language": "python",
   "name": "python3"
  },
  "language_info": {
   "codemirror_mode": {
    "name": "ipython",
    "version": 3
   },
   "file_extension": ".py",
   "mimetype": "text/x-python",
   "name": "python",
   "nbconvert_exporter": "python",
   "pygments_lexer": "ipython3",
   "version": "3.9.5"
  },
  "toc": {
   "base_numbering": 1,
   "nav_menu": {},
   "number_sections": true,
   "sideBar": true,
   "skip_h1_title": true,
   "title_cell": "Table of Contents",
   "title_sidebar": "Contents",
   "toc_cell": false,
   "toc_position": {},
   "toc_section_display": true,
   "toc_window_display": true
  }
 },
 "nbformat": 4,
 "nbformat_minor": 2
}
