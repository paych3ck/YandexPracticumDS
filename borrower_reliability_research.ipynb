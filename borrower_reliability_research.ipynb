{
 "cells": [
  {
   "cell_type": "markdown",
   "id": "3f70f2c8",
   "metadata": {
    "deletable": false,
    "editable": false,
    "id": "c81daeeb"
   },
   "source": [
    "# Исследование надежности заемщиков\n"
   ]
  },
  {
   "cell_type": "markdown",
   "id": "33ce9d4c",
   "metadata": {
    "deletable": false,
    "editable": false,
    "id": "827c20bf"
   },
   "source": [
    "Заказчик — кредитный отдел банка. \n",
    "\n",
    "Нужно разобраться, влияет ли семейное положение и количество детей клиента на факт погашения кредита в срок. Входные данные от банка — статистика о платёжеспособности клиентов.\n",
    "Результаты исследования будут учтены при построении модели кредитного скоринга — специальной системы, которая оценивает способность потенциального заёмщика вернуть кредит банку.\n",
    "\n",
    "\n",
    "Описание данных\n",
    "children — количество детей в семье\n",
    "days_employed — общий трудовой стаж в днях\n",
    "dob_years — возраст клиента в годах\n",
    "education — уровень образования клиента\n",
    "education_id — идентификатор уровня образования\n",
    "family_status — семейное положение\n",
    "family_status_id — идентификатор семейного положения\n",
    "gender — пол клиента\n",
    "income_type — тип занятости\n",
    "debt — имел ли задолженность по возврату кредитов\n",
    "total_income — ежемесячный доход\n",
    "purpose — цель получения кредита\n"
   ]
  },
  {
   "cell_type": "markdown",
   "id": "2b5d629f",
   "metadata": {
    "deletable": false,
    "editable": false,
    "id": "744d7639"
   },
   "source": [
    "## Откройте таблицу и изучите общую информацию о данных"
   ]
  },
  {
   "cell_type": "code",
   "execution_count": 1,
   "id": "0899970e",
   "metadata": {
    "deletable": false,
    "id": "7bcf75c9"
   },
   "outputs": [],
   "source": [
    "import pandas as pd\n",
    "\n",
    "data = pd.read_csv('/datasets/data.csv')"
   ]
  },
  {
   "cell_type": "code",
   "execution_count": 2,
   "id": "0ff48e58",
   "metadata": {
    "deletable": false,
    "id": "2a7cab99",
    "outputId": "1a8f3ef2-d323-4ec2-ddf7-89670b5944c4"
   },
   "outputs": [
    {
     "data": {
      "text/html": [
       "<div>\n",
       "<style scoped>\n",
       "    .dataframe tbody tr th:only-of-type {\n",
       "        vertical-align: middle;\n",
       "    }\n",
       "\n",
       "    .dataframe tbody tr th {\n",
       "        vertical-align: top;\n",
       "    }\n",
       "\n",
       "    .dataframe thead th {\n",
       "        text-align: right;\n",
       "    }\n",
       "</style>\n",
       "<table border=\"1\" class=\"dataframe\">\n",
       "  <thead>\n",
       "    <tr style=\"text-align: right;\">\n",
       "      <th></th>\n",
       "      <th>children</th>\n",
       "      <th>days_employed</th>\n",
       "      <th>dob_years</th>\n",
       "      <th>education</th>\n",
       "      <th>education_id</th>\n",
       "      <th>family_status</th>\n",
       "      <th>family_status_id</th>\n",
       "      <th>gender</th>\n",
       "      <th>income_type</th>\n",
       "      <th>debt</th>\n",
       "      <th>total_income</th>\n",
       "      <th>purpose</th>\n",
       "    </tr>\n",
       "  </thead>\n",
       "  <tbody>\n",
       "    <tr>\n",
       "      <th>0</th>\n",
       "      <td>1</td>\n",
       "      <td>-8437.673028</td>\n",
       "      <td>42</td>\n",
       "      <td>высшее</td>\n",
       "      <td>0</td>\n",
       "      <td>женат / замужем</td>\n",
       "      <td>0</td>\n",
       "      <td>F</td>\n",
       "      <td>сотрудник</td>\n",
       "      <td>0</td>\n",
       "      <td>253875.639453</td>\n",
       "      <td>покупка жилья</td>\n",
       "    </tr>\n",
       "    <tr>\n",
       "      <th>1</th>\n",
       "      <td>1</td>\n",
       "      <td>-4024.803754</td>\n",
       "      <td>36</td>\n",
       "      <td>среднее</td>\n",
       "      <td>1</td>\n",
       "      <td>женат / замужем</td>\n",
       "      <td>0</td>\n",
       "      <td>F</td>\n",
       "      <td>сотрудник</td>\n",
       "      <td>0</td>\n",
       "      <td>112080.014102</td>\n",
       "      <td>приобретение автомобиля</td>\n",
       "    </tr>\n",
       "    <tr>\n",
       "      <th>2</th>\n",
       "      <td>0</td>\n",
       "      <td>-5623.422610</td>\n",
       "      <td>33</td>\n",
       "      <td>Среднее</td>\n",
       "      <td>1</td>\n",
       "      <td>женат / замужем</td>\n",
       "      <td>0</td>\n",
       "      <td>M</td>\n",
       "      <td>сотрудник</td>\n",
       "      <td>0</td>\n",
       "      <td>145885.952297</td>\n",
       "      <td>покупка жилья</td>\n",
       "    </tr>\n",
       "    <tr>\n",
       "      <th>3</th>\n",
       "      <td>3</td>\n",
       "      <td>-4124.747207</td>\n",
       "      <td>32</td>\n",
       "      <td>среднее</td>\n",
       "      <td>1</td>\n",
       "      <td>женат / замужем</td>\n",
       "      <td>0</td>\n",
       "      <td>M</td>\n",
       "      <td>сотрудник</td>\n",
       "      <td>0</td>\n",
       "      <td>267628.550329</td>\n",
       "      <td>дополнительное образование</td>\n",
       "    </tr>\n",
       "    <tr>\n",
       "      <th>4</th>\n",
       "      <td>0</td>\n",
       "      <td>340266.072047</td>\n",
       "      <td>53</td>\n",
       "      <td>среднее</td>\n",
       "      <td>1</td>\n",
       "      <td>гражданский брак</td>\n",
       "      <td>1</td>\n",
       "      <td>F</td>\n",
       "      <td>пенсионер</td>\n",
       "      <td>0</td>\n",
       "      <td>158616.077870</td>\n",
       "      <td>сыграть свадьбу</td>\n",
       "    </tr>\n",
       "    <tr>\n",
       "      <th>5</th>\n",
       "      <td>0</td>\n",
       "      <td>-926.185831</td>\n",
       "      <td>27</td>\n",
       "      <td>высшее</td>\n",
       "      <td>0</td>\n",
       "      <td>гражданский брак</td>\n",
       "      <td>1</td>\n",
       "      <td>M</td>\n",
       "      <td>компаньон</td>\n",
       "      <td>0</td>\n",
       "      <td>255763.565419</td>\n",
       "      <td>покупка жилья</td>\n",
       "    </tr>\n",
       "    <tr>\n",
       "      <th>6</th>\n",
       "      <td>0</td>\n",
       "      <td>-2879.202052</td>\n",
       "      <td>43</td>\n",
       "      <td>высшее</td>\n",
       "      <td>0</td>\n",
       "      <td>женат / замужем</td>\n",
       "      <td>0</td>\n",
       "      <td>F</td>\n",
       "      <td>компаньон</td>\n",
       "      <td>0</td>\n",
       "      <td>240525.971920</td>\n",
       "      <td>операции с жильем</td>\n",
       "    </tr>\n",
       "    <tr>\n",
       "      <th>7</th>\n",
       "      <td>0</td>\n",
       "      <td>-152.779569</td>\n",
       "      <td>50</td>\n",
       "      <td>СРЕДНЕЕ</td>\n",
       "      <td>1</td>\n",
       "      <td>женат / замужем</td>\n",
       "      <td>0</td>\n",
       "      <td>M</td>\n",
       "      <td>сотрудник</td>\n",
       "      <td>0</td>\n",
       "      <td>135823.934197</td>\n",
       "      <td>образование</td>\n",
       "    </tr>\n",
       "    <tr>\n",
       "      <th>8</th>\n",
       "      <td>2</td>\n",
       "      <td>-6929.865299</td>\n",
       "      <td>35</td>\n",
       "      <td>ВЫСШЕЕ</td>\n",
       "      <td>0</td>\n",
       "      <td>гражданский брак</td>\n",
       "      <td>1</td>\n",
       "      <td>F</td>\n",
       "      <td>сотрудник</td>\n",
       "      <td>0</td>\n",
       "      <td>95856.832424</td>\n",
       "      <td>на проведение свадьбы</td>\n",
       "    </tr>\n",
       "    <tr>\n",
       "      <th>9</th>\n",
       "      <td>0</td>\n",
       "      <td>-2188.756445</td>\n",
       "      <td>41</td>\n",
       "      <td>среднее</td>\n",
       "      <td>1</td>\n",
       "      <td>женат / замужем</td>\n",
       "      <td>0</td>\n",
       "      <td>M</td>\n",
       "      <td>сотрудник</td>\n",
       "      <td>0</td>\n",
       "      <td>144425.938277</td>\n",
       "      <td>покупка жилья для семьи</td>\n",
       "    </tr>\n",
       "    <tr>\n",
       "      <th>10</th>\n",
       "      <td>2</td>\n",
       "      <td>-4171.483647</td>\n",
       "      <td>36</td>\n",
       "      <td>высшее</td>\n",
       "      <td>0</td>\n",
       "      <td>женат / замужем</td>\n",
       "      <td>0</td>\n",
       "      <td>M</td>\n",
       "      <td>компаньон</td>\n",
       "      <td>0</td>\n",
       "      <td>113943.491460</td>\n",
       "      <td>покупка недвижимости</td>\n",
       "    </tr>\n",
       "    <tr>\n",
       "      <th>11</th>\n",
       "      <td>0</td>\n",
       "      <td>-792.701887</td>\n",
       "      <td>40</td>\n",
       "      <td>среднее</td>\n",
       "      <td>1</td>\n",
       "      <td>женат / замужем</td>\n",
       "      <td>0</td>\n",
       "      <td>F</td>\n",
       "      <td>сотрудник</td>\n",
       "      <td>0</td>\n",
       "      <td>77069.234271</td>\n",
       "      <td>покупка коммерческой недвижимости</td>\n",
       "    </tr>\n",
       "    <tr>\n",
       "      <th>12</th>\n",
       "      <td>0</td>\n",
       "      <td>NaN</td>\n",
       "      <td>65</td>\n",
       "      <td>среднее</td>\n",
       "      <td>1</td>\n",
       "      <td>гражданский брак</td>\n",
       "      <td>1</td>\n",
       "      <td>M</td>\n",
       "      <td>пенсионер</td>\n",
       "      <td>0</td>\n",
       "      <td>NaN</td>\n",
       "      <td>сыграть свадьбу</td>\n",
       "    </tr>\n",
       "    <tr>\n",
       "      <th>13</th>\n",
       "      <td>0</td>\n",
       "      <td>-1846.641941</td>\n",
       "      <td>54</td>\n",
       "      <td>неоконченное высшее</td>\n",
       "      <td>2</td>\n",
       "      <td>женат / замужем</td>\n",
       "      <td>0</td>\n",
       "      <td>F</td>\n",
       "      <td>сотрудник</td>\n",
       "      <td>0</td>\n",
       "      <td>130458.228857</td>\n",
       "      <td>приобретение автомобиля</td>\n",
       "    </tr>\n",
       "    <tr>\n",
       "      <th>14</th>\n",
       "      <td>0</td>\n",
       "      <td>-1844.956182</td>\n",
       "      <td>56</td>\n",
       "      <td>высшее</td>\n",
       "      <td>0</td>\n",
       "      <td>гражданский брак</td>\n",
       "      <td>1</td>\n",
       "      <td>F</td>\n",
       "      <td>компаньон</td>\n",
       "      <td>1</td>\n",
       "      <td>165127.911772</td>\n",
       "      <td>покупка жилой недвижимости</td>\n",
       "    </tr>\n",
       "    <tr>\n",
       "      <th>15</th>\n",
       "      <td>1</td>\n",
       "      <td>-972.364419</td>\n",
       "      <td>26</td>\n",
       "      <td>среднее</td>\n",
       "      <td>1</td>\n",
       "      <td>женат / замужем</td>\n",
       "      <td>0</td>\n",
       "      <td>F</td>\n",
       "      <td>сотрудник</td>\n",
       "      <td>0</td>\n",
       "      <td>116820.904450</td>\n",
       "      <td>строительство собственной недвижимости</td>\n",
       "    </tr>\n",
       "    <tr>\n",
       "      <th>16</th>\n",
       "      <td>0</td>\n",
       "      <td>-1719.934226</td>\n",
       "      <td>35</td>\n",
       "      <td>среднее</td>\n",
       "      <td>1</td>\n",
       "      <td>женат / замужем</td>\n",
       "      <td>0</td>\n",
       "      <td>F</td>\n",
       "      <td>сотрудник</td>\n",
       "      <td>0</td>\n",
       "      <td>289202.704229</td>\n",
       "      <td>недвижимость</td>\n",
       "    </tr>\n",
       "    <tr>\n",
       "      <th>17</th>\n",
       "      <td>0</td>\n",
       "      <td>-2369.999720</td>\n",
       "      <td>33</td>\n",
       "      <td>высшее</td>\n",
       "      <td>0</td>\n",
       "      <td>гражданский брак</td>\n",
       "      <td>1</td>\n",
       "      <td>M</td>\n",
       "      <td>сотрудник</td>\n",
       "      <td>0</td>\n",
       "      <td>90410.586745</td>\n",
       "      <td>строительство недвижимости</td>\n",
       "    </tr>\n",
       "    <tr>\n",
       "      <th>18</th>\n",
       "      <td>0</td>\n",
       "      <td>400281.136913</td>\n",
       "      <td>53</td>\n",
       "      <td>среднее</td>\n",
       "      <td>1</td>\n",
       "      <td>вдовец / вдова</td>\n",
       "      <td>2</td>\n",
       "      <td>F</td>\n",
       "      <td>пенсионер</td>\n",
       "      <td>0</td>\n",
       "      <td>56823.777243</td>\n",
       "      <td>на покупку подержанного автомобиля</td>\n",
       "    </tr>\n",
       "    <tr>\n",
       "      <th>19</th>\n",
       "      <td>0</td>\n",
       "      <td>-10038.818549</td>\n",
       "      <td>48</td>\n",
       "      <td>СРЕДНЕЕ</td>\n",
       "      <td>1</td>\n",
       "      <td>в разводе</td>\n",
       "      <td>3</td>\n",
       "      <td>F</td>\n",
       "      <td>сотрудник</td>\n",
       "      <td>0</td>\n",
       "      <td>242831.107982</td>\n",
       "      <td>на покупку своего автомобиля</td>\n",
       "    </tr>\n",
       "  </tbody>\n",
       "</table>\n",
       "</div>"
      ],
      "text/plain": [
       "    children  days_employed  dob_years            education  education_id  \\\n",
       "0          1   -8437.673028         42               высшее             0   \n",
       "1          1   -4024.803754         36              среднее             1   \n",
       "2          0   -5623.422610         33              Среднее             1   \n",
       "3          3   -4124.747207         32              среднее             1   \n",
       "4          0  340266.072047         53              среднее             1   \n",
       "5          0    -926.185831         27               высшее             0   \n",
       "6          0   -2879.202052         43               высшее             0   \n",
       "7          0    -152.779569         50              СРЕДНЕЕ             1   \n",
       "8          2   -6929.865299         35               ВЫСШЕЕ             0   \n",
       "9          0   -2188.756445         41              среднее             1   \n",
       "10         2   -4171.483647         36               высшее             0   \n",
       "11         0    -792.701887         40              среднее             1   \n",
       "12         0            NaN         65              среднее             1   \n",
       "13         0   -1846.641941         54  неоконченное высшее             2   \n",
       "14         0   -1844.956182         56               высшее             0   \n",
       "15         1    -972.364419         26              среднее             1   \n",
       "16         0   -1719.934226         35              среднее             1   \n",
       "17         0   -2369.999720         33               высшее             0   \n",
       "18         0  400281.136913         53              среднее             1   \n",
       "19         0  -10038.818549         48              СРЕДНЕЕ             1   \n",
       "\n",
       "       family_status  family_status_id gender income_type  debt  \\\n",
       "0    женат / замужем                 0      F   сотрудник     0   \n",
       "1    женат / замужем                 0      F   сотрудник     0   \n",
       "2    женат / замужем                 0      M   сотрудник     0   \n",
       "3    женат / замужем                 0      M   сотрудник     0   \n",
       "4   гражданский брак                 1      F   пенсионер     0   \n",
       "5   гражданский брак                 1      M   компаньон     0   \n",
       "6    женат / замужем                 0      F   компаньон     0   \n",
       "7    женат / замужем                 0      M   сотрудник     0   \n",
       "8   гражданский брак                 1      F   сотрудник     0   \n",
       "9    женат / замужем                 0      M   сотрудник     0   \n",
       "10   женат / замужем                 0      M   компаньон     0   \n",
       "11   женат / замужем                 0      F   сотрудник     0   \n",
       "12  гражданский брак                 1      M   пенсионер     0   \n",
       "13   женат / замужем                 0      F   сотрудник     0   \n",
       "14  гражданский брак                 1      F   компаньон     1   \n",
       "15   женат / замужем                 0      F   сотрудник     0   \n",
       "16   женат / замужем                 0      F   сотрудник     0   \n",
       "17  гражданский брак                 1      M   сотрудник     0   \n",
       "18    вдовец / вдова                 2      F   пенсионер     0   \n",
       "19         в разводе                 3      F   сотрудник     0   \n",
       "\n",
       "     total_income                                 purpose  \n",
       "0   253875.639453                           покупка жилья  \n",
       "1   112080.014102                 приобретение автомобиля  \n",
       "2   145885.952297                           покупка жилья  \n",
       "3   267628.550329              дополнительное образование  \n",
       "4   158616.077870                         сыграть свадьбу  \n",
       "5   255763.565419                           покупка жилья  \n",
       "6   240525.971920                       операции с жильем  \n",
       "7   135823.934197                             образование  \n",
       "8    95856.832424                   на проведение свадьбы  \n",
       "9   144425.938277                 покупка жилья для семьи  \n",
       "10  113943.491460                    покупка недвижимости  \n",
       "11   77069.234271       покупка коммерческой недвижимости  \n",
       "12            NaN                         сыграть свадьбу  \n",
       "13  130458.228857                 приобретение автомобиля  \n",
       "14  165127.911772              покупка жилой недвижимости  \n",
       "15  116820.904450  строительство собственной недвижимости  \n",
       "16  289202.704229                            недвижимость  \n",
       "17   90410.586745              строительство недвижимости  \n",
       "18   56823.777243      на покупку подержанного автомобиля  \n",
       "19  242831.107982            на покупку своего автомобиля  "
      ]
     },
     "execution_count": 2,
     "metadata": {},
     "output_type": "execute_result"
    }
   ],
   "source": [
    "data.head(20)"
   ]
  },
  {
   "cell_type": "code",
   "execution_count": 3,
   "id": "f3edde1b",
   "metadata": {
    "deletable": false,
    "id": "2b757bca",
    "outputId": "15376089-8dad-46c9-b520-c05248d43158"
   },
   "outputs": [
    {
     "name": "stdout",
     "output_type": "stream",
     "text": [
      "<class 'pandas.core.frame.DataFrame'>\n",
      "RangeIndex: 21525 entries, 0 to 21524\n",
      "Data columns (total 12 columns):\n",
      " #   Column            Non-Null Count  Dtype  \n",
      "---  ------            --------------  -----  \n",
      " 0   children          21525 non-null  int64  \n",
      " 1   days_employed     19351 non-null  float64\n",
      " 2   dob_years         21525 non-null  int64  \n",
      " 3   education         21525 non-null  object \n",
      " 4   education_id      21525 non-null  int64  \n",
      " 5   family_status     21525 non-null  object \n",
      " 6   family_status_id  21525 non-null  int64  \n",
      " 7   gender            21525 non-null  object \n",
      " 8   income_type       21525 non-null  object \n",
      " 9   debt              21525 non-null  int64  \n",
      " 10  total_income      19351 non-null  float64\n",
      " 11  purpose           21525 non-null  object \n",
      "dtypes: float64(2), int64(5), object(5)\n",
      "memory usage: 2.0+ MB\n"
     ]
    }
   ],
   "source": [
    "data.info()"
   ]
  },
  {
   "cell_type": "markdown",
   "id": "4fdbb2e2",
   "metadata": {
    "deletable": false,
    "editable": false,
    "id": "333ec665"
   },
   "source": [
    "## Предобработка данных"
   ]
  },
  {
   "cell_type": "markdown",
   "id": "befc4255",
   "metadata": {
    "deletable": false,
    "editable": false,
    "id": "02d92d53"
   },
   "source": [
    "### Удаление пропусков"
   ]
  },
  {
   "cell_type": "markdown",
   "id": "da22a582",
   "metadata": {
    "deletable": false,
    "editable": false,
    "id": "cd84967c"
   },
   "source": [
    "Количество пропущенных значений для каждого столбца."
   ]
  },
  {
   "cell_type": "code",
   "execution_count": 4,
   "id": "1111a7e6",
   "metadata": {
    "deletable": false,
    "id": "7f9b2309",
    "outputId": "81f4d817-781c-465c-ed15-91ce4446810d"
   },
   "outputs": [
    {
     "data": {
      "text/plain": [
       "children               0\n",
       "days_employed       2174\n",
       "dob_years              0\n",
       "education              0\n",
       "education_id           0\n",
       "family_status          0\n",
       "family_status_id       0\n",
       "gender                 0\n",
       "income_type            0\n",
       "debt                   0\n",
       "total_income        2174\n",
       "purpose                0\n",
       "dtype: int64"
      ]
     },
     "execution_count": 4,
     "metadata": {},
     "output_type": "execute_result"
    }
   ],
   "source": [
    "data.isna().sum()"
   ]
  },
  {
   "cell_type": "markdown",
   "id": "70339a6a",
   "metadata": {
    "deletable": false,
    "editable": false,
    "id": "db86e27b"
   },
   "source": [
    "В двух столбцах есть пропущенные значения. Один из них — `days_employed`. Пропуски в этом столбце вы обработаете на следующем этапе. Другой столбец с пропущенными значениями — `total_income` — хранит данные о доходах. На сумму дохода сильнее всего влияет тип занятости, поэтому заполнить пропуски в этом столбце нужно медианным значением по каждому типу из столбца `income_type`. Например, у человека с типом занятости `сотрудник` пропуск в столбце `total_income` должен быть заполнен медианным доходом среди всех записей с тем же типом."
   ]
  },
  {
   "cell_type": "code",
   "execution_count": 5,
   "id": "573bbda4",
   "metadata": {
    "deletable": false,
    "id": "42006a93"
   },
   "outputs": [],
   "source": [
    "for t in data['income_type'].unique():\n",
    "    data.loc[(data['income_type'] == t) & (data['total_income'].isna()), 'total_income'] = \\\n",
    "    data.loc[(data['income_type'] == t), 'total_income'].median()"
   ]
  },
  {
   "cell_type": "markdown",
   "id": "c69eb563",
   "metadata": {
    "deletable": false,
    "editable": false,
    "id": "89da5ece"
   },
   "source": [
    "### Обработка аномальных значений"
   ]
  },
  {
   "cell_type": "markdown",
   "id": "9c541822",
   "metadata": {
    "deletable": false,
    "editable": false,
    "id": "57964554"
   },
   "source": [
    "Удаляем аномалии в столбце days_emploeyd, путем применения функции abs напрямую к столбцу."
   ]
  },
  {
   "cell_type": "code",
   "execution_count": 6,
   "id": "a0d305e4",
   "metadata": {
    "deletable": false,
    "id": "f6f055bf"
   },
   "outputs": [],
   "source": [
    "data['days_employed'] = data['days_employed'].abs()"
   ]
  },
  {
   "cell_type": "markdown",
   "id": "e7fca3bf",
   "metadata": {
    "deletable": false,
    "editable": false,
    "id": "6107dd2f"
   },
   "source": [
    "Для каждого типа занятости выведем медианное значение трудового стажа `days_employed` в днях."
   ]
  },
  {
   "cell_type": "code",
   "execution_count": 7,
   "id": "be7b8ced",
   "metadata": {
    "deletable": false,
    "id": "85a5faf6",
    "outputId": "801ef80e-522b-4668-f34e-565af7432bcf"
   },
   "outputs": [
    {
     "data": {
      "text/plain": [
       "income_type\n",
       "безработный        366413.652744\n",
       "в декрете            3296.759962\n",
       "госслужащий          2689.368353\n",
       "компаньон            1547.382223\n",
       "пенсионер          365213.306266\n",
       "предприниматель       520.848083\n",
       "сотрудник            1574.202821\n",
       "студент               578.751554\n",
       "Name: days_employed, dtype: float64"
      ]
     },
     "execution_count": 7,
     "metadata": {},
     "output_type": "execute_result"
    }
   ],
   "source": [
    "data.groupby('income_type')['days_employed'].agg('median')"
   ]
  },
  {
   "cell_type": "markdown",
   "id": "14354faf",
   "metadata": {
    "deletable": false,
    "editable": false,
    "id": "38d1a030"
   },
   "source": [
    "У двух типов (безработные и пенсионеры) получатся аномально большие значения."
   ]
  },
  {
   "cell_type": "markdown",
   "id": "ef57c3b8",
   "metadata": {
    "deletable": false,
    "editable": false,
    "id": "d8a9f147"
   },
   "source": [
    "**Задание 8. Выведите перечень уникальных значений столбца `children`.**"
   ]
  },
  {
   "cell_type": "code",
   "execution_count": 8,
   "id": "fbcc4500",
   "metadata": {
    "deletable": false,
    "id": "ef5056eb",
    "outputId": "6975b15c-7f95-4697-d16d-a0c79b657b03"
   },
   "outputs": [
    {
     "data": {
      "text/plain": [
       "array([ 1,  0,  3,  2, -1,  4, 20,  5])"
      ]
     },
     "execution_count": 8,
     "metadata": {},
     "output_type": "execute_result"
    }
   ],
   "source": [
    "data['children'].unique()"
   ]
  },
  {
   "cell_type": "markdown",
   "id": "b095ec65",
   "metadata": {
    "deletable": false,
    "editable": false,
    "id": "40b9ebf2"
   },
   "source": [
    "**Задание 9. В столбце `children` есть два аномальных значения. Удалите строки, в которых встречаются такие аномальные значения из датафрейма `data`.**"
   ]
  },
  {
   "cell_type": "code",
   "execution_count": 9,
   "id": "6d0e84ff",
   "metadata": {
    "deletable": false,
    "id": "3ff9801d"
   },
   "outputs": [],
   "source": [
    "data = data[(data['children'] != -1) & (data['children'] != 20)]"
   ]
  },
  {
   "cell_type": "markdown",
   "id": "e2d9a14f",
   "metadata": {
    "deletable": false,
    "editable": false,
    "id": "bbc4d0ce"
   },
   "source": [
    "**Задание 10. Ещё раз выведите перечень уникальных значений столбца `children`, чтобы убедиться, что артефакты удалены.**"
   ]
  },
  {
   "cell_type": "code",
   "execution_count": 10,
   "id": "5f28a923",
   "metadata": {
    "deletable": false,
    "id": "ad4fa8b7",
    "outputId": "b2097101-d49d-44d9-901b-32a65c9463d1"
   },
   "outputs": [
    {
     "data": {
      "text/plain": [
       "array([1, 0, 3, 2, 4, 5])"
      ]
     },
     "execution_count": 10,
     "metadata": {},
     "output_type": "execute_result"
    }
   ],
   "source": [
    "data['children'].unique()"
   ]
  },
  {
   "cell_type": "markdown",
   "id": "03bf7851",
   "metadata": {
    "deletable": false,
    "editable": false,
    "id": "75440b63"
   },
   "source": [
    "### Удаление пропусков (продолжение)"
   ]
  },
  {
   "cell_type": "markdown",
   "id": "a6d4b364",
   "metadata": {
    "deletable": false,
    "editable": false,
    "id": "f4ea573f"
   },
   "source": [
    "**Задание 11. Заполните пропуски в столбце `days_employed` медианными значениями по каждого типа занятости `income_type`.**"
   ]
  },
  {
   "cell_type": "code",
   "execution_count": 11,
   "id": "f53d505b",
   "metadata": {
    "deletable": false,
    "id": "af6b1a7e"
   },
   "outputs": [],
   "source": [
    "for t in data['income_type'].unique():\n",
    "    data.loc[(data['income_type'] == t) & (data['days_employed'].isna()), 'days_employed'] = \\\n",
    "    data.loc[(data['income_type'] == t), 'days_employed'].median()"
   ]
  },
  {
   "cell_type": "markdown",
   "id": "2cba172a",
   "metadata": {
    "deletable": false,
    "editable": false,
    "id": "2753f40d"
   },
   "source": [
    "**Задание 12. Убедитесь, что все пропуски заполнены. Проверьте себя и ещё раз выведите количество пропущенных значений для каждого столбца с помощью двух методов.**"
   ]
  },
  {
   "cell_type": "code",
   "execution_count": 12,
   "id": "bed4d544",
   "metadata": {
    "deletable": false,
    "id": "55f78bc2",
    "outputId": "8da1e4e1-358e-4e87-98c9-f261bce0a7b2"
   },
   "outputs": [
    {
     "data": {
      "text/plain": [
       "children            0\n",
       "days_employed       0\n",
       "dob_years           0\n",
       "education           0\n",
       "education_id        0\n",
       "family_status       0\n",
       "family_status_id    0\n",
       "gender              0\n",
       "income_type         0\n",
       "debt                0\n",
       "total_income        0\n",
       "purpose             0\n",
       "dtype: int64"
      ]
     },
     "execution_count": 12,
     "metadata": {},
     "output_type": "execute_result"
    }
   ],
   "source": [
    "data.isna().sum()"
   ]
  },
  {
   "cell_type": "markdown",
   "id": "c73e365a",
   "metadata": {
    "deletable": false,
    "editable": false,
    "id": "ddc81e43"
   },
   "source": [
    "### Изменение типов данных"
   ]
  },
  {
   "cell_type": "markdown",
   "id": "08848b66",
   "metadata": {
    "deletable": false,
    "editable": false,
    "id": "42d19d24"
   },
   "source": [
    "**Задание 13. Замените вещественный тип данных в столбце `total_income` на целочисленный с помощью метода `astype()`.**"
   ]
  },
  {
   "cell_type": "code",
   "execution_count": 13,
   "id": "45228c25",
   "metadata": {
    "deletable": false,
    "id": "920b65ad"
   },
   "outputs": [],
   "source": [
    "data['total_income'] = data['total_income'].astype(int)"
   ]
  },
  {
   "cell_type": "markdown",
   "id": "1ae478c3",
   "metadata": {
    "deletable": false,
    "editable": false,
    "id": "80c420ba"
   },
   "source": [
    "### Обработка дубликатов"
   ]
  },
  {
   "cell_type": "markdown",
   "id": "d4314e57",
   "metadata": {
    "deletable": false,
    "editable": false
   },
   "source": [
    "**Задание 14. Обработайте неявные дубликаты в столбце `education`. В этом столбце есть одни и те же значения, но записанные по-разному: с использованием заглавных и строчных букв. Приведите их к нижнему регистру. Проверьте остальные столбцы.**"
   ]
  },
  {
   "cell_type": "code",
   "execution_count": 14,
   "id": "71de3032",
   "metadata": {
    "deletable": false
   },
   "outputs": [],
   "source": [
    "data['education'] = data['education'].str.lower()"
   ]
  },
  {
   "cell_type": "markdown",
   "id": "f2f59d19",
   "metadata": {
    "deletable": false,
    "editable": false,
    "id": "dc587695"
   },
   "source": [
    "**Задание 15. Выведите на экран количество строк-дубликатов в данных. Если такие строки присутствуют, удалите их.**"
   ]
  },
  {
   "cell_type": "code",
   "execution_count": 15,
   "id": "1d62c05c",
   "metadata": {
    "deletable": false,
    "id": "3ee445e4",
    "outputId": "9684deba-1934-42d1-99e1-cda61740f822"
   },
   "outputs": [
    {
     "data": {
      "text/plain": [
       "71"
      ]
     },
     "execution_count": 15,
     "metadata": {},
     "output_type": "execute_result"
    }
   ],
   "source": [
    "data.duplicated().sum()"
   ]
  },
  {
   "cell_type": "code",
   "execution_count": 16,
   "id": "9b576d98",
   "metadata": {
    "deletable": false,
    "id": "8575fe05"
   },
   "outputs": [],
   "source": [
    "data = data.drop_duplicates()"
   ]
  },
  {
   "cell_type": "markdown",
   "id": "85b578bd",
   "metadata": {
    "deletable": false,
    "editable": false,
    "id": "9904cf55"
   },
   "source": [
    "### Категоризация данных"
   ]
  },
  {
   "cell_type": "markdown",
   "id": "f284ae06",
   "metadata": {
    "deletable": false,
    "editable": false,
    "id": "72fcc8a2"
   },
   "source": [
    "**Задание 16. На основании диапазонов, указанных ниже, создайте в датафрейме `data` столбец `total_income_category` с категориями:**\n",
    "\n",
    "- 0–30000 — `'E'`;\n",
    "- 30001–50000 — `'D'`;\n",
    "- 50001–200000 — `'C'`;\n",
    "- 200001–1000000 — `'B'`;\n",
    "- 1000001 и выше — `'A'`.\n",
    "\n",
    "\n",
    "**Например, кредитополучателю с доходом 25000 нужно назначить категорию `'E'`, а клиенту, получающему 235000, — `'B'`. Используйте собственную функцию с именем `categorize_income()` и метод `apply()`.**"
   ]
  },
  {
   "cell_type": "code",
   "execution_count": 17,
   "id": "74d16e18",
   "metadata": {
    "deletable": false,
    "id": "e1771346"
   },
   "outputs": [],
   "source": [
    "def categorize_income(income):\n",
    "    try:\n",
    "        if 0 <= income <= 30000:\n",
    "            return 'E'\n",
    "\n",
    "        elif 30001 <= income <= 50000:\n",
    "            return 'D'\n",
    "\n",
    "        elif 50001 <= income <= 200000:\n",
    "            return 'C'\n",
    "\n",
    "        elif 200001 <= income <= 1000000:\n",
    "            return 'B'\n",
    "\n",
    "        elif income >= 1000001:\n",
    "            return 'A'\n",
    "            \n",
    "    except:\n",
    "        pass"
   ]
  },
  {
   "cell_type": "code",
   "execution_count": 18,
   "id": "bfb604fe",
   "metadata": {
    "deletable": false,
    "id": "d5f3586d"
   },
   "outputs": [],
   "source": [
    "data['total_income_category'] = data['total_income'].apply(categorize_income)"
   ]
  },
  {
   "cell_type": "markdown",
   "id": "737f1274",
   "metadata": {
    "deletable": false,
    "editable": false,
    "id": "dde49b5c"
   },
   "source": [
    "Перечень уникальных целей взятия кредита из столбца `purpose`."
   ]
  },
  {
   "cell_type": "code",
   "execution_count": 19,
   "id": "f89e8832",
   "metadata": {
    "deletable": false,
    "id": "f67ce9b3",
    "outputId": "673c12d9-7d7e-4ae0-9812-c622c89dd244"
   },
   "outputs": [
    {
     "data": {
      "text/plain": [
       "array(['покупка жилья', 'приобретение автомобиля',\n",
       "       'дополнительное образование', 'сыграть свадьбу',\n",
       "       'операции с жильем', 'образование', 'на проведение свадьбы',\n",
       "       'покупка жилья для семьи', 'покупка недвижимости',\n",
       "       'покупка коммерческой недвижимости', 'покупка жилой недвижимости',\n",
       "       'строительство собственной недвижимости', 'недвижимость',\n",
       "       'строительство недвижимости', 'на покупку подержанного автомобиля',\n",
       "       'на покупку своего автомобиля',\n",
       "       'операции с коммерческой недвижимостью',\n",
       "       'строительство жилой недвижимости', 'жилье',\n",
       "       'операции со своей недвижимостью', 'автомобили',\n",
       "       'заняться образованием', 'сделка с подержанным автомобилем',\n",
       "       'получение образования', 'автомобиль', 'свадьба',\n",
       "       'получение дополнительного образования', 'покупка своего жилья',\n",
       "       'операции с недвижимостью', 'получение высшего образования',\n",
       "       'свой автомобиль', 'сделка с автомобилем',\n",
       "       'профильное образование', 'высшее образование',\n",
       "       'покупка жилья для сдачи', 'на покупку автомобиля', 'ремонт жилью',\n",
       "       'заняться высшим образованием'], dtype=object)"
      ]
     },
     "execution_count": 19,
     "metadata": {},
     "output_type": "execute_result"
    }
   ],
   "source": [
    "data['purpose'].unique()"
   ]
  },
  {
   "cell_type": "markdown",
   "id": "0fe830f9",
   "metadata": {
    "deletable": false,
    "editable": false,
    "id": "85d0aef0"
   },
   "source": [
    "**Задание 18. Создайте функцию, которая на основании данных из столбца `purpose` сформирует новый столбец `purpose_category`, в который войдут следующие категории:**\n",
    "\n",
    "- `'операции с автомобилем'`,\n",
    "- `'операции с недвижимостью'`,\n",
    "- `'проведение свадьбы'`,\n",
    "- `'получение образования'`.\n",
    "\n",
    "**Например, если в столбце `purpose` находится подстрока `'на покупку автомобиля'`, то в столбце `purpose_category` должна появиться строка `'операции с автомобилем'`.**\n",
    "\n",
    "**Используйте собственную функцию с именем `categorize_purpose()` и метод `apply()`. Изучите данные в столбце `purpose` и определите, какие подстроки помогут вам правильно определить категорию.**"
   ]
  },
  {
   "cell_type": "code",
   "execution_count": 20,
   "id": "b42452af",
   "metadata": {
    "deletable": false,
    "id": "e149fab4"
   },
   "outputs": [],
   "source": [
    "def categorize_purpose(row):\n",
    "    try:\n",
    "        if 'автом' in row:\n",
    "            return 'операции с автомобилем'\n",
    "        elif 'жил' in row or 'недвиж' in row:\n",
    "            return 'операции с недвижимостью'\n",
    "        elif 'свад' in row:\n",
    "            return 'проведение свадьбы'\n",
    "        elif 'образов' in row:\n",
    "            return 'получение образования'\n",
    "    except:\n",
    "        return 'нет категории'"
   ]
  },
  {
   "cell_type": "code",
   "execution_count": 21,
   "id": "e7ab8f81",
   "metadata": {
    "deletable": false,
    "id": "bf36e69b"
   },
   "outputs": [
    {
     "name": "stdout",
     "output_type": "stream",
     "text": [
      "       children  days_employed  dob_years education  education_id  \\\n",
      "0             1    8437.673028         42    высшее             0   \n",
      "1             1    4024.803754         36   среднее             1   \n",
      "2             0    5623.422610         33   среднее             1   \n",
      "3             3    4124.747207         32   среднее             1   \n",
      "4             0  340266.072047         53   среднее             1   \n",
      "...         ...            ...        ...       ...           ...   \n",
      "21520         1    4529.316663         43   среднее             1   \n",
      "21521         0  343937.404131         67   среднее             1   \n",
      "21522         1    2113.346888         38   среднее             1   \n",
      "21523         3    3112.481705         38   среднее             1   \n",
      "21524         2    1984.507589         40   среднее             1   \n",
      "\n",
      "          family_status  family_status_id gender income_type  debt  \\\n",
      "0       женат / замужем                 0      F   сотрудник     0   \n",
      "1       женат / замужем                 0      F   сотрудник     0   \n",
      "2       женат / замужем                 0      M   сотрудник     0   \n",
      "3       женат / замужем                 0      M   сотрудник     0   \n",
      "4      гражданский брак                 1      F   пенсионер     0   \n",
      "...                 ...               ...    ...         ...   ...   \n",
      "21520  гражданский брак                 1      F   компаньон     0   \n",
      "21521   женат / замужем                 0      F   пенсионер     0   \n",
      "21522  гражданский брак                 1      M   сотрудник     1   \n",
      "21523   женат / замужем                 0      M   сотрудник     1   \n",
      "21524   женат / замужем                 0      F   сотрудник     0   \n",
      "\n",
      "       total_income                       purpose total_income_category  \\\n",
      "0            253875                 покупка жилья                     B   \n",
      "1            112080       приобретение автомобиля                     C   \n",
      "2            145885                 покупка жилья                     C   \n",
      "3            267628    дополнительное образование                     B   \n",
      "4            158616               сыграть свадьбу                     C   \n",
      "...             ...                           ...                   ...   \n",
      "21520        224791             операции с жильем                     B   \n",
      "21521        155999          сделка с автомобилем                     C   \n",
      "21522         89672                  недвижимость                     C   \n",
      "21523        244093  на покупку своего автомобиля                     B   \n",
      "21524         82047         на покупку автомобиля                     C   \n",
      "\n",
      "               purpose_category  \n",
      "0      операции с недвижимостью  \n",
      "1        операции с автомобилем  \n",
      "2      операции с недвижимостью  \n",
      "3         получение образования  \n",
      "4            проведение свадьбы  \n",
      "...                         ...  \n",
      "21520  операции с недвижимостью  \n",
      "21521    операции с автомобилем  \n",
      "21522  операции с недвижимостью  \n",
      "21523    операции с автомобилем  \n",
      "21524    операции с автомобилем  \n",
      "\n",
      "[21331 rows x 14 columns]\n"
     ]
    }
   ],
   "source": [
    "data['purpose_category'] = data['purpose'].apply(categorize_purpose)\n",
    "print(data)"
   ]
  },
  {
   "cell_type": "markdown",
   "id": "e6783d2c",
   "metadata": {
    "deletable": false,
    "editable": false,
    "id": "09b242bf"
   },
   "source": [
    "### Шаг 3. Исследуйте данные и ответьте на вопросы"
   ]
  },
  {
   "cell_type": "markdown",
   "id": "fa01d045",
   "metadata": {
    "deletable": false,
    "editable": false,
    "id": "c5d66278"
   },
   "source": [
    "#### 3.1 Есть ли зависимость между количеством детей и возвратом кредита в срок?"
   ]
  },
  {
   "cell_type": "code",
   "execution_count": 66,
   "id": "175ffbd1",
   "metadata": {
    "deletable": false,
    "id": "2cacfc4a"
   },
   "outputs": [
    {
     "name": "stdout",
     "output_type": "stream",
     "text": [
      "   childrens  all_borrowers  debts_borrowers  debts_part\n",
      "0          0          14091             1063        7.54\n",
      "1          1           4808              444        9.23\n",
      "2          2           2052              194        9.45\n",
      "3          3            330               27        8.18\n",
      "4          4             41                4        9.76\n",
      "5          5              9                0        0.00\n"
     ]
    }
   ],
   "source": [
    "debts = data.groupby('children')['debt'].sum().sort_values(ascending=False)\n",
    "all_borrowers = []\n",
    "childrens = []\n",
    "debts_borrowers = []\n",
    "debts_part = []\n",
    "\n",
    "for ch in range(6):\n",
    "    borrowers = len(data[data['children'] == ch])\n",
    "    all_borrowers.append(borrowers)\n",
    "    childrens.append(ch)\n",
    "    debts_borrowers.append(debts[ch])\n",
    "    debts_part.append(round(debts[ch] / borrowers * 100, 2))\n",
    "    \n",
    "borrowers_ch = pd.DataFrame({\n",
    "    'childrens': childrens,\n",
    "    'all_borrowers': all_borrowers,\n",
    "    'debts_borrowers': debts_borrowers,\n",
    "    'debts_part': debts_part\n",
    "})\n",
    "\n",
    "print(borrowers_ch)"
   ]
  },
  {
   "cell_type": "markdown",
   "id": "daf096f5",
   "metadata": {
    "deletable": false,
    "id": "3a6b99ec"
   },
   "source": [
    "**Вывод:** кардинальная разница видна только в случае заемщика с пятью детьми в семье, при этом стоит учитывать, что выборка маленькая - таких заемщиков всего 9 человек. При взгляде на абсолютные величины видно, что чем больше детей, тем меньше заемщиков-должников. Стоит обратить внимание на относительные значения - становится понятно, что разница небольшая. Таким образом, можно сказать, что зависимость между количеством детей и возвратом кредита в срок отсутствует."
   ]
  },
  {
   "cell_type": "markdown",
   "id": "9afdf30b",
   "metadata": {
    "deletable": false,
    "editable": false,
    "id": "97be82ca"
   },
   "source": [
    "#### 3.2 Есть ли зависимость между семейным положением и возвратом кредита в срок?"
   ]
  },
  {
   "cell_type": "code",
   "execution_count": 67,
   "id": "9513abf6",
   "metadata": {
    "deletable": false,
    "id": "dc3f7ee8"
   },
   "outputs": [
    {
     "name": "stdout",
     "output_type": "stream",
     "text": [
      "           family_status  all_borrowers  debts_borrowers  debts_part\n",
      "0        женат / замужем          12261              927        7.56\n",
      "1       гражданский брак           4134              385        9.31\n",
      "2  Не женат / не замужем           2796              273        9.76\n",
      "3              в разводе           1189               84        7.06\n",
      "4         вдовец / вдова            951               63        6.62\n"
     ]
    }
   ],
   "source": [
    "families_debt = data.groupby('family_status')['debt'].sum().sort_values(ascending=False)\n",
    "\n",
    "all_borrowers = []\n",
    "statuses = ['женат / замужем', 'гражданский брак', 'Не женат / не замужем', 'в разводе', 'вдовец / вдова']\n",
    "debts_borrowers = []\n",
    "debts_part = []\n",
    "\n",
    "for ind, fs in enumerate(statuses):\n",
    "    borrowers = len(data[data['family_status'] == fs])\n",
    "    all_borrowers.append(borrowers)\n",
    "    debts_borrowers.append(families_debt[fs])\n",
    "    debts_part.append(round(families_debt[ind] / borrowers * 100, 2))\n",
    "    \n",
    "borrowers_fs = pd.DataFrame({\n",
    "    'family_status': statuses,\n",
    "    'all_borrowers': all_borrowers,\n",
    "    'debts_borrowers': debts_borrowers,\n",
    "    'debts_part': debts_part\n",
    "})\n",
    "\n",
    "print(borrowers_fs)"
   ]
  },
  {
   "cell_type": "markdown",
   "id": "ac79061b",
   "metadata": {
    "deletable": false,
    "id": "1cef7837"
   },
   "source": [
    "**Вывод:** зависимость между семейным положением и возвратом кредита в срок наблюдается. Чаще кредит в срок возвращают вдовы / вдовцы, реже - не женатые / не замужем."
   ]
  },
  {
   "cell_type": "markdown",
   "id": "7b8a0c4d",
   "metadata": {
    "deletable": false,
    "editable": false,
    "id": "1e8b2fca"
   },
   "source": [
    "#### 3.3 Есть ли зависимость между уровнем дохода и возвратом кредита в срок?"
   ]
  },
  {
   "cell_type": "code",
   "execution_count": 70,
   "id": "b124e04b",
   "metadata": {
    "deletable": false,
    "id": "cd7e3720"
   },
   "outputs": [
    {
     "name": "stdout",
     "output_type": "stream",
     "text": [
      "  category  all_borrowers  debts_borrowers  debts_part\n",
      "0        C          15921             1353        8.50\n",
      "1        B           5014              354        7.06\n",
      "2        D            349               21        6.02\n",
      "3        A             25                2        8.00\n",
      "4        E             22                2        9.09\n"
     ]
    }
   ],
   "source": [
    "categories_debt = data.groupby('total_income_category')['debt'].sum().sort_values(ascending=False)\n",
    "categories = ['C', 'B', 'D', 'A', 'E']\n",
    "all_borrowers = []\n",
    "debts_borrowers = []\n",
    "debts_part = []\n",
    "\n",
    "for ind, cat in enumerate(categories):\n",
    "    borrowers = len(data[data['total_income_category'] == cat])\n",
    "    all_borrowers.append(borrowers)\n",
    "    debts_borrowers.append(categories_debt[cat])\n",
    "    debts_part.append(round(categories_debt[ind] / borrowers * 100, 2))\n",
    "    \n",
    "borrowers_cat = pd.DataFrame({\n",
    "    'category': categories,\n",
    "    'all_borrowers': all_borrowers,\n",
    "    'debts_borrowers': debts_borrowers,\n",
    "    'debts_part': debts_part\n",
    "})\n",
    "\n",
    "print(borrowers_cat)"
   ]
  },
  {
   "cell_type": "markdown",
   "id": "def2ec8d",
   "metadata": {
    "deletable": false,
    "id": "e8593def"
   },
   "source": [
    "**Вывод:** разный уровень дохода действительно влияет на возврат кредита в срок. Люди, категория доходов которых равна 'E' (0 - 30000) реже всех возвращают кредит в срок. При этом чаще всего кредит в срок возвращают заемщики с категорией доходов 'D' (30001–50000) Вместе с тем, важно обратить внимание, что выборка крайне несбалансировнная - заемщиков с категорией доходов 'C' - 15921, а с категорией 'B' уже всего лишь 5014."
   ]
  },
  {
   "cell_type": "markdown",
   "id": "a35f6d28",
   "metadata": {
    "deletable": false,
    "editable": false,
    "id": "99ecbd1f"
   },
   "source": [
    "#### 3.4 Как разные цели кредита влияют на его возврат в срок?"
   ]
  },
  {
   "cell_type": "code",
   "execution_count": 71,
   "id": "9bc323a5",
   "metadata": {
    "deletable": false,
    "id": "2b687290"
   },
   "outputs": [
    {
     "name": "stdout",
     "output_type": "stream",
     "text": [
      "                   purposes  all_borrowers  debts_borrowers  debts_part\n",
      "0  операции с недвижимостью          10751              780        7.26\n",
      "1    операции с автомобилем           4279              400        9.35\n",
      "2     получение образования           3988              369        9.25\n",
      "3        проведение свадьбы           2313              183        7.91\n"
     ]
    }
   ],
   "source": [
    "purposes_debt = data.groupby('purpose_category')['debt'].sum().sort_values(ascending=False)\n",
    "purposes = ['операции с недвижимостью', 'операции с автомобилем', 'получение образования', 'проведение свадьбы']\n",
    "all_borrowers = []\n",
    "debts_borrowers = []\n",
    "debts_part = []\n",
    "\n",
    "for ind, purp in enumerate(purposes):\n",
    "    borrowers = len(data[data['purpose_category'] == purp])\n",
    "    all_borrowers.append(borrowers)\n",
    "    debts_borrowers.append(purposes_debt[purp])\n",
    "    debts_part.append(round(purposes_debt[ind] / borrowers * 100, 2))\n",
    "    \n",
    "borrowers_purp = pd.DataFrame({\n",
    "    'purposes': purposes,\n",
    "    'all_borrowers': all_borrowers,\n",
    "    'debts_borrowers': debts_borrowers,\n",
    "    'debts_part': debts_part\n",
    "})\n",
    "\n",
    "print(borrowers_purp)"
   ]
  },
  {
   "cell_type": "markdown",
   "id": "318eeea8",
   "metadata": {
    "deletable": false,
    "id": "b4bb2ce6"
   },
   "source": [
    "**Вывод:** чаще всего кредит в срок возвращают люди, которые брали его с целью проведения свадьбы. Реже всего - заемщики, проводящие операции с автомобилем."
   ]
  },
  {
   "cell_type": "markdown",
   "id": "94e4d602",
   "metadata": {
    "deletable": false,
    "editable": false,
    "id": "09c3ac4c"
   },
   "source": [
    "#### 3.5 Приведите возможные причины появления пропусков в исходных данных."
   ]
  },
  {
   "cell_type": "markdown",
   "id": "388612c9",
   "metadata": {
    "deletable": false,
    "id": "9da2ceda"
   },
   "source": [
    "*Ответ:* можно выделить две причины появления пропусков: зависящие от человека, и зависящие от программного обеспечения. Например, в таблице есть строки с пустыми значениям 'total_income'. Возможно, работник банка при оформлении кредита не ввел эти данные в заявку (человеческий фактор). Или, например, строки, где значение 'days_employed' (трудовой стаж в днях) идет с минусом в начале. Скорее всего, произошла какая-то ошибка при выгрузке данных."
   ]
  },
  {
   "cell_type": "markdown",
   "id": "a7e1338b",
   "metadata": {
    "deletable": false,
    "editable": false,
    "id": "7b0487d6"
   },
   "source": [
    "#### 3.6 Объясните, почему заполнить пропуски медианным значением — лучшее решение для количественных переменных."
   ]
  },
  {
   "cell_type": "markdown",
   "id": "52a3ea41",
   "metadata": {
    "deletable": false,
    "id": "7ecf2b8e"
   },
   "source": [
    "*Ответ:* в случае количественных переменных, лучше использовать медианное значение, потому что в данных могут быть слишком большие или слишком маленькие значения, которые по итогу сместят среднее значение."
   ]
  },
  {
   "cell_type": "markdown",
   "id": "71d87dde",
   "metadata": {
    "deletable": false,
    "editable": false,
    "id": "6db5255a"
   },
   "source": [
    "### Шаг 4: общий вывод."
   ]
  },
  {
   "cell_type": "markdown",
   "id": "0ef0561d",
   "metadata": {
    "deletable": false,
    "id": "bad65432"
   },
   "source": [
    "В ходе работы был проведен анализ таблицы с информацией о заемщиках, были удалены пропуски и обработаны аномальные значения. Также была воспроизведена категория данных - созданы два новых столбца с категориями доходов и категориями целей взятия кредитов. Какие выводы можно сделать: во первых, точно нет никакой зависимости между количеством детей и возвратом кредита в срок. Также важно уточнить, что заемщик с пятью детьми не является надежным, из-за нулевого процента должников (учитываем, что таких заемщиков всего девять). Наблюдается связь между семейным положением и возвратом кредита вовремя: чащего всего в срок возвращают вдовы / вдовцы, реже всего - не женатые / не замужем. Разный уровень дохода действительно влияет на возврат кредита в срок. Так, люди с категорией доходов 'E' реже всего возвращают кредит в срок, в то время как люди с категорией доходов 'D' - наоборот, чаще. Важно помнить про цели взятия кредита: чаще вовремя возвращают кредит, взятый с целью проведения свадьбы, реже - проводящие операции с автомобилем."
   ]
  }
 ],
 "metadata": {
  "ExecuteTimeLog": [
   {
    "duration": 476,
    "start_time": "2023-01-12T16:19:08.815Z"
   },
   {
    "duration": 20,
    "start_time": "2023-01-12T16:19:09.293Z"
   },
   {
    "duration": 31,
    "start_time": "2023-01-12T16:19:09.314Z"
   },
   {
    "duration": 9,
    "start_time": "2023-01-12T16:19:09.347Z"
   },
   {
    "duration": 42,
    "start_time": "2023-01-12T16:19:09.357Z"
   },
   {
    "duration": 4,
    "start_time": "2023-01-12T16:19:09.401Z"
   },
   {
    "duration": 9,
    "start_time": "2023-01-12T16:19:09.407Z"
   },
   {
    "duration": 4,
    "start_time": "2023-01-12T16:19:09.418Z"
   },
   {
    "duration": 8,
    "start_time": "2023-01-12T16:19:09.423Z"
   },
   {
    "duration": 5,
    "start_time": "2023-01-12T16:19:09.435Z"
   },
   {
    "duration": 42,
    "start_time": "2023-01-12T16:19:09.442Z"
   },
   {
    "duration": 9,
    "start_time": "2023-01-12T16:19:09.486Z"
   },
   {
    "duration": 3,
    "start_time": "2023-01-12T16:19:09.497Z"
   },
   {
    "duration": 26,
    "start_time": "2023-01-12T16:19:09.502Z"
   },
   {
    "duration": 17,
    "start_time": "2023-01-12T16:19:09.530Z"
   },
   {
    "duration": 15,
    "start_time": "2023-01-12T16:19:09.548Z"
   },
   {
    "duration": 4,
    "start_time": "2023-01-12T16:19:09.564Z"
   },
   {
    "duration": 34,
    "start_time": "2023-01-12T16:19:09.569Z"
   },
   {
    "duration": 7,
    "start_time": "2023-01-12T16:19:09.604Z"
   },
   {
    "duration": 11,
    "start_time": "2023-01-12T16:19:09.612Z"
   },
   {
    "duration": 19,
    "start_time": "2023-01-12T16:19:09.625Z"
   },
   {
    "duration": 2,
    "start_time": "2023-01-12T16:19:09.646Z"
   },
   {
    "duration": 5,
    "start_time": "2023-01-12T16:19:09.650Z"
   },
   {
    "duration": 4,
    "start_time": "2023-01-12T16:19:09.656Z"
   },
   {
    "duration": 4,
    "start_time": "2023-01-12T16:19:09.662Z"
   },
   {
    "duration": 3,
    "start_time": "2023-01-12T16:21:32.395Z"
   },
   {
    "duration": 7,
    "start_time": "2023-01-12T16:21:55.508Z"
   },
   {
    "duration": 61,
    "start_time": "2023-01-12T16:22:40.664Z"
   },
   {
    "duration": 7,
    "start_time": "2023-01-12T16:22:57.628Z"
   },
   {
    "duration": 10,
    "start_time": "2023-01-12T16:23:02.153Z"
   },
   {
    "duration": 462,
    "start_time": "2023-01-12T16:23:07.924Z"
   },
   {
    "duration": 19,
    "start_time": "2023-01-12T16:23:08.388Z"
   },
   {
    "duration": 23,
    "start_time": "2023-01-12T16:23:08.409Z"
   },
   {
    "duration": 14,
    "start_time": "2023-01-12T16:23:08.433Z"
   },
   {
    "duration": 39,
    "start_time": "2023-01-12T16:23:08.449Z"
   },
   {
    "duration": 4,
    "start_time": "2023-01-12T16:23:08.489Z"
   },
   {
    "duration": 14,
    "start_time": "2023-01-12T16:23:08.494Z"
   },
   {
    "duration": 12,
    "start_time": "2023-01-12T16:23:08.509Z"
   },
   {
    "duration": 7,
    "start_time": "2023-01-12T16:23:08.523Z"
   },
   {
    "duration": 5,
    "start_time": "2023-01-12T16:23:08.531Z"
   },
   {
    "duration": 33,
    "start_time": "2023-01-12T16:23:08.537Z"
   },
   {
    "duration": 23,
    "start_time": "2023-01-12T16:23:08.572Z"
   },
   {
    "duration": 5,
    "start_time": "2023-01-12T16:23:08.597Z"
   },
   {
    "duration": 24,
    "start_time": "2023-01-12T16:23:08.605Z"
   },
   {
    "duration": 24,
    "start_time": "2023-01-12T16:23:08.631Z"
   },
   {
    "duration": 17,
    "start_time": "2023-01-12T16:23:08.657Z"
   },
   {
    "duration": 3,
    "start_time": "2023-01-12T16:23:08.676Z"
   },
   {
    "duration": 16,
    "start_time": "2023-01-12T16:23:08.681Z"
   },
   {
    "duration": 23,
    "start_time": "2023-01-12T16:23:08.698Z"
   },
   {
    "duration": 3,
    "start_time": "2023-01-12T16:23:08.723Z"
   },
   {
    "duration": 23,
    "start_time": "2023-01-12T16:23:08.728Z"
   },
   {
    "duration": 3,
    "start_time": "2023-01-12T16:23:08.752Z"
   },
   {
    "duration": 8,
    "start_time": "2023-01-12T16:23:08.757Z"
   },
   {
    "duration": 12,
    "start_time": "2023-01-12T16:23:08.766Z"
   },
   {
    "duration": 5,
    "start_time": "2023-01-12T16:23:08.780Z"
   },
   {
    "duration": 13,
    "start_time": "2023-01-12T16:24:40.719Z"
   },
   {
    "duration": 10,
    "start_time": "2023-01-12T16:24:55.695Z"
   },
   {
    "duration": 5,
    "start_time": "2023-01-12T16:25:06.379Z"
   },
   {
    "duration": 7,
    "start_time": "2023-01-12T16:26:35.904Z"
   },
   {
    "duration": 7,
    "start_time": "2023-01-12T16:27:25.509Z"
   },
   {
    "duration": 7,
    "start_time": "2023-01-12T16:27:49.822Z"
   },
   {
    "duration": 7,
    "start_time": "2023-01-12T16:27:58.926Z"
   },
   {
    "duration": 8,
    "start_time": "2023-01-12T16:41:37.201Z"
   },
   {
    "duration": 9,
    "start_time": "2023-01-12T16:47:57.977Z"
   },
   {
    "duration": 13,
    "start_time": "2023-01-12T16:48:15.617Z"
   },
   {
    "duration": 15,
    "start_time": "2023-01-12T16:48:46.633Z"
   },
   {
    "duration": 15,
    "start_time": "2023-01-12T16:50:44.162Z"
   },
   {
    "duration": 75,
    "start_time": "2023-01-12T20:24:45.847Z"
   },
   {
    "duration": 40,
    "start_time": "2023-01-12T20:25:50.557Z"
   },
   {
    "duration": 498,
    "start_time": "2023-01-12T20:26:00.940Z"
   },
   {
    "duration": 22,
    "start_time": "2023-01-12T20:26:01.440Z"
   },
   {
    "duration": 36,
    "start_time": "2023-01-12T20:26:01.464Z"
   },
   {
    "duration": 48,
    "start_time": "2023-01-12T20:26:01.502Z"
   },
   {
    "duration": 47,
    "start_time": "2023-01-12T20:26:01.552Z"
   },
   {
    "duration": 55,
    "start_time": "2023-01-12T20:26:01.601Z"
   },
   {
    "duration": 26,
    "start_time": "2023-01-12T20:26:01.658Z"
   },
   {
    "duration": 30,
    "start_time": "2023-01-12T20:26:01.686Z"
   },
   {
    "duration": 57,
    "start_time": "2023-01-12T20:26:01.717Z"
   },
   {
    "duration": 47,
    "start_time": "2023-01-12T20:26:01.775Z"
   },
   {
    "duration": 78,
    "start_time": "2023-01-12T20:26:01.824Z"
   },
   {
    "duration": 10,
    "start_time": "2023-01-12T20:26:01.904Z"
   },
   {
    "duration": 46,
    "start_time": "2023-01-12T20:26:01.916Z"
   },
   {
    "duration": 27,
    "start_time": "2023-01-12T20:26:01.964Z"
   },
   {
    "duration": 59,
    "start_time": "2023-01-12T20:26:01.992Z"
   },
   {
    "duration": 48,
    "start_time": "2023-01-12T20:26:02.052Z"
   },
   {
    "duration": 3,
    "start_time": "2023-01-12T20:26:02.102Z"
   },
   {
    "duration": 23,
    "start_time": "2023-01-12T20:26:02.107Z"
   },
   {
    "duration": 14,
    "start_time": "2023-01-12T20:26:02.132Z"
   },
   {
    "duration": 7,
    "start_time": "2023-01-12T20:26:02.147Z"
   },
   {
    "duration": 23,
    "start_time": "2023-01-12T20:26:02.155Z"
   },
   {
    "duration": 21,
    "start_time": "2023-01-12T20:26:02.179Z"
   },
   {
    "duration": 8,
    "start_time": "2023-01-12T20:26:02.202Z"
   },
   {
    "duration": 24,
    "start_time": "2023-01-12T20:26:02.212Z"
   },
   {
    "duration": 6,
    "start_time": "2023-01-12T20:26:02.238Z"
   },
   {
    "duration": 4,
    "start_time": "2023-01-12T20:28:16.309Z"
   },
   {
    "duration": 82,
    "start_time": "2023-01-12T20:28:24.187Z"
   },
   {
    "duration": 14,
    "start_time": "2023-01-12T20:28:38.332Z"
   },
   {
    "duration": 14,
    "start_time": "2023-01-12T20:28:48.174Z"
   },
   {
    "duration": 15,
    "start_time": "2023-01-12T20:28:52.006Z"
   },
   {
    "duration": 15,
    "start_time": "2023-01-12T20:29:28.485Z"
   },
   {
    "duration": 15,
    "start_time": "2023-01-12T20:30:22.498Z"
   },
   {
    "duration": 16,
    "start_time": "2023-01-12T20:30:28.890Z"
   },
   {
    "duration": 15,
    "start_time": "2023-01-12T20:31:52.659Z"
   },
   {
    "duration": 15,
    "start_time": "2023-01-12T20:32:01.238Z"
   },
   {
    "duration": 15,
    "start_time": "2023-01-12T20:33:07.743Z"
   },
   {
    "duration": 18,
    "start_time": "2023-01-12T20:33:13.851Z"
   },
   {
    "duration": 24,
    "start_time": "2023-01-12T20:33:25.010Z"
   },
   {
    "duration": 16,
    "start_time": "2023-01-12T20:33:34.360Z"
   },
   {
    "duration": 16,
    "start_time": "2023-01-12T20:33:49.465Z"
   },
   {
    "duration": 4,
    "start_time": "2023-01-12T20:40:46.911Z"
   },
   {
    "duration": 16,
    "start_time": "2023-01-12T20:40:51.686Z"
   },
   {
    "duration": 3,
    "start_time": "2023-01-12T20:41:56.849Z"
   },
   {
    "duration": 9,
    "start_time": "2023-01-12T20:42:04.625Z"
   },
   {
    "duration": 8,
    "start_time": "2023-01-12T20:42:15.891Z"
   },
   {
    "duration": 11,
    "start_time": "2023-01-12T20:42:22.383Z"
   },
   {
    "duration": 21,
    "start_time": "2023-01-12T20:43:35.886Z"
   },
   {
    "duration": 8,
    "start_time": "2023-01-12T20:44:59.309Z"
   },
   {
    "duration": 11,
    "start_time": "2023-01-12T20:45:30.546Z"
   },
   {
    "duration": 8,
    "start_time": "2023-01-12T20:45:36.996Z"
   },
   {
    "duration": 11,
    "start_time": "2023-01-12T20:45:54.040Z"
   },
   {
    "duration": 11,
    "start_time": "2023-01-12T20:54:46.932Z"
   },
   {
    "duration": 19,
    "start_time": "2023-01-12T20:54:59.618Z"
   },
   {
    "duration": 18,
    "start_time": "2023-01-12T20:55:03.359Z"
   },
   {
    "duration": 24,
    "start_time": "2023-01-12T20:55:25.619Z"
   },
   {
    "duration": 51,
    "start_time": "2023-01-14T12:39:44.983Z"
   },
   {
    "duration": 590,
    "start_time": "2023-01-14T12:39:53.969Z"
   },
   {
    "duration": 31,
    "start_time": "2023-01-14T12:39:54.562Z"
   },
   {
    "duration": 16,
    "start_time": "2023-01-14T12:39:54.594Z"
   },
   {
    "duration": 20,
    "start_time": "2023-01-14T12:39:54.612Z"
   },
   {
    "duration": 50,
    "start_time": "2023-01-14T12:39:54.651Z"
   },
   {
    "duration": 4,
    "start_time": "2023-01-14T12:39:54.702Z"
   },
   {
    "duration": 25,
    "start_time": "2023-01-14T12:39:54.708Z"
   },
   {
    "duration": 5,
    "start_time": "2023-01-14T12:39:54.735Z"
   },
   {
    "duration": 14,
    "start_time": "2023-01-14T12:39:54.742Z"
   },
   {
    "duration": 14,
    "start_time": "2023-01-14T12:39:54.758Z"
   },
   {
    "duration": 39,
    "start_time": "2023-01-14T12:39:54.775Z"
   },
   {
    "duration": 11,
    "start_time": "2023-01-14T12:39:54.815Z"
   },
   {
    "duration": 26,
    "start_time": "2023-01-14T12:39:54.827Z"
   },
   {
    "duration": 15,
    "start_time": "2023-01-14T12:39:54.857Z"
   },
   {
    "duration": 25,
    "start_time": "2023-01-14T12:39:54.874Z"
   },
   {
    "duration": 19,
    "start_time": "2023-01-14T12:39:54.901Z"
   },
   {
    "duration": 4,
    "start_time": "2023-01-14T12:39:54.921Z"
   },
   {
    "duration": 40,
    "start_time": "2023-01-14T12:39:54.926Z"
   },
   {
    "duration": 36,
    "start_time": "2023-01-14T12:39:54.968Z"
   },
   {
    "duration": 17,
    "start_time": "2023-01-14T12:39:55.006Z"
   },
   {
    "duration": 65,
    "start_time": "2023-01-14T12:39:55.025Z"
   },
   {
    "duration": 27,
    "start_time": "2023-01-14T12:39:55.092Z"
   },
   {
    "duration": 25,
    "start_time": "2023-01-14T12:39:55.121Z"
   },
   {
    "duration": 16,
    "start_time": "2023-01-14T12:39:55.148Z"
   },
   {
    "duration": 31,
    "start_time": "2023-01-14T12:39:55.167Z"
   },
   {
    "duration": 7,
    "start_time": "2023-01-14T12:41:11.127Z"
   },
   {
    "duration": 22,
    "start_time": "2023-01-14T12:46:15.813Z"
   },
   {
    "duration": 23,
    "start_time": "2023-01-14T12:46:20.118Z"
   },
   {
    "duration": 22,
    "start_time": "2023-01-14T12:47:02.874Z"
   },
   {
    "duration": 29,
    "start_time": "2023-01-14T12:47:12.042Z"
   },
   {
    "duration": 83,
    "start_time": "2023-01-14T12:48:39.300Z"
   },
   {
    "duration": 23,
    "start_time": "2023-01-14T12:48:48.879Z"
   },
   {
    "duration": 12,
    "start_time": "2023-01-14T12:52:48.115Z"
   },
   {
    "duration": 29,
    "start_time": "2023-01-14T12:55:33.602Z"
   },
   {
    "duration": 65,
    "start_time": "2023-01-15T10:44:58.799Z"
   },
   {
    "duration": 538,
    "start_time": "2023-01-15T10:45:04.252Z"
   },
   {
    "duration": 25,
    "start_time": "2023-01-15T10:45:04.792Z"
   },
   {
    "duration": 16,
    "start_time": "2023-01-15T10:45:04.819Z"
   },
   {
    "duration": 10,
    "start_time": "2023-01-15T10:45:04.838Z"
   },
   {
    "duration": 35,
    "start_time": "2023-01-15T10:45:04.851Z"
   },
   {
    "duration": 4,
    "start_time": "2023-01-15T10:45:04.888Z"
   },
   {
    "duration": 12,
    "start_time": "2023-01-15T10:45:04.893Z"
   },
   {
    "duration": 4,
    "start_time": "2023-01-15T10:45:04.937Z"
   },
   {
    "duration": 15,
    "start_time": "2023-01-15T10:45:04.943Z"
   },
   {
    "duration": 5,
    "start_time": "2023-01-15T10:45:04.960Z"
   },
   {
    "duration": 39,
    "start_time": "2023-01-15T10:45:04.966Z"
   },
   {
    "duration": 37,
    "start_time": "2023-01-15T10:45:05.006Z"
   },
   {
    "duration": 7,
    "start_time": "2023-01-15T10:45:05.045Z"
   },
   {
    "duration": 20,
    "start_time": "2023-01-15T10:45:05.055Z"
   },
   {
    "duration": 25,
    "start_time": "2023-01-15T10:45:05.078Z"
   },
   {
    "duration": 46,
    "start_time": "2023-01-15T10:45:05.105Z"
   },
   {
    "duration": 5,
    "start_time": "2023-01-15T10:45:05.154Z"
   },
   {
    "duration": 25,
    "start_time": "2023-01-15T10:45:05.160Z"
   },
   {
    "duration": 8,
    "start_time": "2023-01-15T10:45:05.188Z"
   },
   {
    "duration": 5,
    "start_time": "2023-01-15T10:45:05.198Z"
   },
   {
    "duration": 51,
    "start_time": "2023-01-15T10:45:05.204Z"
   },
   {
    "duration": 6,
    "start_time": "2023-01-15T10:45:05.257Z"
   },
   {
    "duration": 39,
    "start_time": "2023-01-15T10:45:05.265Z"
   },
   {
    "duration": 47,
    "start_time": "2023-01-15T10:45:05.306Z"
   },
   {
    "duration": 20,
    "start_time": "2023-01-15T10:45:05.354Z"
   },
   {
    "duration": 7,
    "start_time": "2023-01-15T10:45:14.096Z"
   },
   {
    "duration": 8,
    "start_time": "2023-01-15T10:49:17.129Z"
   },
   {
    "duration": 7,
    "start_time": "2023-01-15T10:49:33.029Z"
   },
   {
    "duration": 8,
    "start_time": "2023-01-15T10:50:03.471Z"
   },
   {
    "duration": 8,
    "start_time": "2023-01-15T10:50:12.851Z"
   },
   {
    "duration": 10,
    "start_time": "2023-01-15T10:50:20.474Z"
   },
   {
    "duration": 9,
    "start_time": "2023-01-15T10:50:54.570Z"
   },
   {
    "duration": 71,
    "start_time": "2023-01-15T10:52:00.793Z"
   },
   {
    "duration": 1298,
    "start_time": "2023-01-15T10:52:09.859Z"
   },
   {
    "duration": 9,
    "start_time": "2023-01-15T10:53:06.669Z"
   },
   {
    "duration": 1130,
    "start_time": "2023-01-15T10:53:45.370Z"
   },
   {
    "duration": 8,
    "start_time": "2023-01-15T10:53:54.229Z"
   },
   {
    "duration": 10,
    "start_time": "2023-01-15T10:56:24.516Z"
   },
   {
    "duration": 1318,
    "start_time": "2023-01-15T10:56:34.979Z"
   },
   {
    "duration": 1154,
    "start_time": "2023-01-15T10:56:44.721Z"
   },
   {
    "duration": 1113,
    "start_time": "2023-01-15T10:56:49.207Z"
   },
   {
    "duration": 9,
    "start_time": "2023-01-15T10:57:23.165Z"
   },
   {
    "duration": 7,
    "start_time": "2023-01-15T10:57:36.052Z"
   },
   {
    "duration": 16,
    "start_time": "2023-01-15T10:58:28.609Z"
   },
   {
    "duration": 71,
    "start_time": "2023-01-15T10:58:44.534Z"
   },
   {
    "duration": 4,
    "start_time": "2023-01-15T10:58:50.058Z"
   },
   {
    "duration": 23,
    "start_time": "2023-01-15T10:59:06.058Z"
   },
   {
    "duration": 6,
    "start_time": "2023-01-15T10:59:17.271Z"
   },
   {
    "duration": 24,
    "start_time": "2023-01-15T11:01:28.464Z"
   },
   {
    "duration": 9,
    "start_time": "2023-01-15T11:01:42.297Z"
   },
   {
    "duration": 9,
    "start_time": "2023-01-15T11:02:30.716Z"
   },
   {
    "duration": 8,
    "start_time": "2023-01-15T11:02:39.513Z"
   },
   {
    "duration": 9,
    "start_time": "2023-01-15T11:02:51.982Z"
   },
   {
    "duration": 10,
    "start_time": "2023-01-15T11:03:05.272Z"
   },
   {
    "duration": 9,
    "start_time": "2023-01-15T11:03:10.986Z"
   },
   {
    "duration": 72,
    "start_time": "2023-01-15T11:05:43.935Z"
   },
   {
    "duration": 14,
    "start_time": "2023-01-15T11:05:58.115Z"
   },
   {
    "duration": 101,
    "start_time": "2023-01-15T11:10:48.865Z"
   },
   {
    "duration": 13,
    "start_time": "2023-01-15T11:10:58.149Z"
   },
   {
    "duration": 17,
    "start_time": "2023-01-15T11:13:49.700Z"
   },
   {
    "duration": 15,
    "start_time": "2023-01-15T11:13:56.858Z"
   },
   {
    "duration": 19,
    "start_time": "2023-01-15T11:15:41.639Z"
   },
   {
    "duration": 16,
    "start_time": "2023-01-15T11:18:37.646Z"
   },
   {
    "duration": 18,
    "start_time": "2023-01-15T11:19:34.774Z"
   },
   {
    "duration": 20,
    "start_time": "2023-01-15T11:20:18.936Z"
   },
   {
    "duration": 24,
    "start_time": "2023-01-15T11:21:59.230Z"
   },
   {
    "duration": 30,
    "start_time": "2023-01-15T11:27:09.072Z"
   },
   {
    "duration": 15,
    "start_time": "2023-01-15T11:31:30.345Z"
   },
   {
    "duration": 15,
    "start_time": "2023-01-15T11:31:34.708Z"
   },
   {
    "duration": 27,
    "start_time": "2023-01-15T11:31:39.020Z"
   },
   {
    "duration": 28,
    "start_time": "2023-01-15T11:33:28.862Z"
   }
  ],
  "colab": {
   "name": "dpp_template_part2.ipynb",
   "provenance": []
  },
  "kernelspec": {
   "display_name": "Python 3 (ipykernel)",
   "language": "python",
   "name": "python3"
  },
  "language_info": {
   "codemirror_mode": {
    "name": "ipython",
    "version": 3
   },
   "file_extension": ".py",
   "mimetype": "text/x-python",
   "name": "python",
   "nbconvert_exporter": "python",
   "pygments_lexer": "ipython3",
   "version": "3.9.5"
  },
  "toc": {
   "base_numbering": 1,
   "nav_menu": {},
   "number_sections": true,
   "sideBar": true,
   "skip_h1_title": true,
   "title_cell": "Table of Contents",
   "title_sidebar": "Contents",
   "toc_cell": false,
   "toc_position": {},
   "toc_section_display": true,
   "toc_window_display": false
  }
 },
 "nbformat": 4,
 "nbformat_minor": 5
}
