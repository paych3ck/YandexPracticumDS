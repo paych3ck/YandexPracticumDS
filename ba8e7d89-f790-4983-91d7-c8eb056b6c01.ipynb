{
 "cells": [
  {
   "cell_type": "markdown",
   "metadata": {},
   "source": [
    "<img src=\"http://s3.amazonaws.com/pix.iemoji.com/images/emoji/apple/ios-12/256/waving-hand.png\" align=left width=44, heigth=44>\n",
    "<div class=\"alert alert-info\">\n",
    "<b> Комментарий ревьюера</b>\n",
    "\n",
    "\n",
    "Привет, Андрей! Давай знакомиться! Меня зовут Дмитрий Махортов, и я буду проверять твой проект. Сразу предлагаю общение на «ты» 🙂, но если тебе это не комфортно, то дай знать, и мы перейдем на «вы». \n",
    "\n",
    "Моя основная цель — не указать на совершенные тобою ошибки, а поделиться своим опытом и помочь тебе погрузиться в увлекательный мир работы с данными и вырасти в крепкого профи. Это отдаленная цель. А ближайшая - сделать твою работу еще лучше )).\n",
    "   \n",
    "    \n",
    "Все ключевые этапы в работе выполнены, и я вижу что с проектом ты справшяешься. Есть моменты, которые нужно доработать, но я уверен, у тебя все получится.\n",
    "        \n",
    "Расскажу как обычно проходит проверка:    \n",
    "Бывают моменты, которые требуют пристального внимания. Комментарии по ним выделены <span style='background-color:#F7B3A4'> красным цветом </span> и обозначены значком 🛑. После их доработки проект будет принят.  🙂\n",
    " \n",
    "<span style='background-color:#B7EBA7'> Зеленым цветом </span> и значком ✅ отмечены удачные и элегантные решения, на которые можно опираться в будущих проектах. Или советы «со звездочкой», которые помогут тебе в будущем.\n",
    "\n",
    "<span style='background-color:#F9EDA6'>Жёлтым цветом </span> и значком ⚠️ выделено то, что в следующий раз можно сделать по-другому. Ты можешь учесть эти комментарии при выполнении будущих заданий или доработать проект сейчас (однако это не обязательно).\n",
    "\n",
    "Давай работать над проектом в диалоге: **если ты что-то меняешь в проекте по моим рекомендациям — пиши об этом**. Выбери для своих комментариев какой-то заметный цвет, так мне будет легче отследить изменения. Пожалуйста, **не перемещай, не изменяй и не удаляй мои комментарии**. Всё это поможет выполнить повторную проверку твоего проекта оперативнее. \n",
    "</div>"
   ]
  },
  {
   "cell_type": "markdown",
   "metadata": {},
   "source": [
    "<div class=\"alert\" style=\"background-color:#ead7f7;color:#8737bf\">\n",
    "    <font size=\"3\"><b>образец комментария студента</b></font>\n",
    "   \n",
    "Можешь использовать этот комментарий. Просто удали этот текст и вместо него напиши свой 🙂\n",
    "\n",
    "</div>"
   ]
  },
  {
   "cell_type": "markdown",
   "metadata": {
    "toc": true
   },
   "source": [
    "<h1>Содержание<span class=\"tocSkip\"></span></h1>\n",
    "<div class=\"toc\"><ul class=\"toc-item\"><li><span><a href=\"#Подготовка\" data-toc-modified-id=\"Подготовка-1\"><span class=\"toc-item-num\">1&nbsp;&nbsp;</span>Подготовка</a></span></li><li><span><a href=\"#Обучение\" data-toc-modified-id=\"Обучение-2\"><span class=\"toc-item-num\">2&nbsp;&nbsp;</span>Обучение</a></span></li><li><span><a href=\"#Выводы\" data-toc-modified-id=\"Выводы-3\"><span class=\"toc-item-num\">3&nbsp;&nbsp;</span>Выводы</a></span></li><li><span><a href=\"#Чек-лист-проверки\" data-toc-modified-id=\"Чек-лист-проверки-4\"><span class=\"toc-item-num\">4&nbsp;&nbsp;</span>Чек-лист проверки</a></span></li></ul></div>"
   ]
  },
  {
   "cell_type": "markdown",
   "metadata": {},
   "source": [
    "# Проект для «Викишоп»"
   ]
  },
  {
   "cell_type": "markdown",
   "metadata": {},
   "source": [
    "Интернет-магазин «Викишоп» запускает новый сервис. Теперь пользователи могут редактировать и дополнять описания товаров, как в вики-сообществах. То есть клиенты предлагают свои правки и комментируют изменения других. Магазину нужен инструмент, который будет искать токсичные комментарии и отправлять их на модерацию. \n",
    "\n",
    "Обучите модель классифицировать комментарии на позитивные и негативные. В вашем распоряжении набор данных с разметкой о токсичности правок.\n",
    "\n",
    "Постройте модель со значением метрики качества *F1* не меньше 0.75. \n",
    "\n",
    "1. Загрузка и подготовка данных.\n",
    "2. Обучение разных моделей. \n",
    "3. Выводы.\n",
    "\n",
    "**Описание данных**\n",
    "\n",
    "Данные находятся в файле `toxic_comments.csv`. Столбец *text* в нём содержит текст комментария, а *toxic* — целевой признак."
   ]
  },
  {
   "cell_type": "markdown",
   "metadata": {},
   "source": [
    "## Подготовка"
   ]
  },
  {
   "cell_type": "code",
   "execution_count": 1,
   "metadata": {},
   "outputs": [],
   "source": [
    "import pandas as pd\n",
    "from tqdm.notebook import tqdm\n",
    "import re\n",
    "import spacy\n",
    "from sklearn.naive_bayes import MultinomialNB\n",
    "from sklearn.model_selection import GridSearchCV, train_test_split, cross_val_score\n",
    "from sklearn.metrics import f1_score\n",
    "from sklearn.linear_model import LogisticRegression\n",
    "from sklearn.feature_extraction.text import TfidfVectorizer"
   ]
  },
  {
   "cell_type": "markdown",
   "metadata": {},
   "source": [
    "<img src=\"https://emojigraph.org/media/apple/check-mark-button_2705.png\" align=left width=33, heigth=33>\n",
    "<div class=\"alert alert-success\">\n",
    "Отлично, все нужные библиотеки импортированы в начале ноутбука.Это хорошая практика.</div>"
   ]
  },
  {
   "cell_type": "code",
   "execution_count": 2,
   "metadata": {
    "scrolled": true
   },
   "outputs": [
    {
     "data": {
      "text/html": [
       "<div>\n",
       "<style scoped>\n",
       "    .dataframe tbody tr th:only-of-type {\n",
       "        vertical-align: middle;\n",
       "    }\n",
       "\n",
       "    .dataframe tbody tr th {\n",
       "        vertical-align: top;\n",
       "    }\n",
       "\n",
       "    .dataframe thead th {\n",
       "        text-align: right;\n",
       "    }\n",
       "</style>\n",
       "<table border=\"1\" class=\"dataframe\">\n",
       "  <thead>\n",
       "    <tr style=\"text-align: right;\">\n",
       "      <th></th>\n",
       "      <th>Unnamed: 0</th>\n",
       "      <th>text</th>\n",
       "      <th>toxic</th>\n",
       "    </tr>\n",
       "  </thead>\n",
       "  <tbody>\n",
       "    <tr>\n",
       "      <th>0</th>\n",
       "      <td>0</td>\n",
       "      <td>Explanation\\nWhy the edits made under my usern...</td>\n",
       "      <td>0</td>\n",
       "    </tr>\n",
       "    <tr>\n",
       "      <th>1</th>\n",
       "      <td>1</td>\n",
       "      <td>D'aww! He matches this background colour I'm s...</td>\n",
       "      <td>0</td>\n",
       "    </tr>\n",
       "    <tr>\n",
       "      <th>2</th>\n",
       "      <td>2</td>\n",
       "      <td>Hey man, I'm really not trying to edit war. It...</td>\n",
       "      <td>0</td>\n",
       "    </tr>\n",
       "    <tr>\n",
       "      <th>3</th>\n",
       "      <td>3</td>\n",
       "      <td>\"\\nMore\\nI can't make any real suggestions on ...</td>\n",
       "      <td>0</td>\n",
       "    </tr>\n",
       "    <tr>\n",
       "      <th>4</th>\n",
       "      <td>4</td>\n",
       "      <td>You, sir, are my hero. Any chance you remember...</td>\n",
       "      <td>0</td>\n",
       "    </tr>\n",
       "  </tbody>\n",
       "</table>\n",
       "</div>"
      ],
      "text/plain": [
       "   Unnamed: 0                                               text  toxic\n",
       "0           0  Explanation\\nWhy the edits made under my usern...      0\n",
       "1           1  D'aww! He matches this background colour I'm s...      0\n",
       "2           2  Hey man, I'm really not trying to edit war. It...      0\n",
       "3           3  \"\\nMore\\nI can't make any real suggestions on ...      0\n",
       "4           4  You, sir, are my hero. Any chance you remember...      0"
      ]
     },
     "execution_count": 2,
     "metadata": {},
     "output_type": "execute_result"
    }
   ],
   "source": [
    "data = pd.read_csv('/datasets/toxic_comments.csv')\n",
    "data.head()"
   ]
  },
  {
   "cell_type": "markdown",
   "metadata": {},
   "source": [
    "<img src=\"https://upload.wikimedia.org/wikipedia/commons/thumb/8/81/Stop_sign.png/240px-Stop_sign.png\" align=left width=35, heigth=35>\n",
    "<div class=\"alert alert-danger\">\n",
    "Кажется, работа над проектов велась локально и пути к файлам не были изменены на общедоступные. Стоит писать код таким образом, что бы он запускался и в jupiter hub, и локально без внесения дополнительных правок. Этого можно добиться многими способами. Например, использовать конструкцию ``try-except`` — для путей файлов: ``try`` — пути на локальном компьютере, ``except``  пути на сервере. Или применить библиотеку ``os``:\n",
    "\n",
    "    import os\n",
    "\n",
    "    pth1 = '/folder_1/data.csv'\n",
    "    pth2 = '/folder_2/data.csv'\n",
    "    \n",
    "    if os.path.exists(pth1):\n",
    "        query_1 = pd.read_csv(pth1)\n",
    "    elif os.path.exists(pth2):\n",
    "        query_1 = pd.read_csv(pth2)\n",
    "    else:\n",
    "        print('Something is wrong)"
   ]
  },
  {
   "cell_type": "markdown",
   "metadata": {},
   "source": [
    "<img src=\"https://emojigraph.org/media/apple/check-mark-button_2705.png\" align=left width=33, heigth=33>\n",
    "<div class=\"alert alert-success\">\n",
    "<b>v2</b> исправлено </div>"
   ]
  },
  {
   "cell_type": "code",
   "execution_count": 3,
   "metadata": {},
   "outputs": [
    {
     "name": "stdout",
     "output_type": "stream",
     "text": [
      "<class 'pandas.core.frame.DataFrame'>\n",
      "RangeIndex: 159292 entries, 0 to 159291\n",
      "Data columns (total 3 columns):\n",
      " #   Column      Non-Null Count   Dtype \n",
      "---  ------      --------------   ----- \n",
      " 0   Unnamed: 0  159292 non-null  int64 \n",
      " 1   text        159292 non-null  object\n",
      " 2   toxic       159292 non-null  int64 \n",
      "dtypes: int64(2), object(1)\n",
      "memory usage: 3.6+ MB\n"
     ]
    }
   ],
   "source": [
    "data.info()"
   ]
  },
  {
   "cell_type": "code",
   "execution_count": 4,
   "metadata": {},
   "outputs": [
    {
     "data": {
      "text/plain": [
       "Unnamed: 0    0\n",
       "text          0\n",
       "toxic         0\n",
       "dtype: int64"
      ]
     },
     "execution_count": 4,
     "metadata": {},
     "output_type": "execute_result"
    }
   ],
   "source": [
    "data.isnull().sum()"
   ]
  },
  {
   "cell_type": "markdown",
   "metadata": {},
   "source": [
    "<img src=\"https://emojigraph.org/media/apple/check-mark-button_2705.png\" align=left width=33, heigth=33>\n",
    "<div class=\"alert alert-success\">\n",
    "Данные загружены и исследованы.</div>"
   ]
  },
  {
   "cell_type": "code",
   "execution_count": 5,
   "metadata": {
    "scrolled": true
   },
   "outputs": [
    {
     "data": {
      "text/plain": [
       "0    143106\n",
       "1     16186\n",
       "Name: toxic, dtype: int64"
      ]
     },
     "execution_count": 5,
     "metadata": {},
     "output_type": "execute_result"
    }
   ],
   "source": [
    "data['toxic'].value_counts()"
   ]
  },
  {
   "cell_type": "markdown",
   "metadata": {},
   "source": [
    "Проверка баланса классов."
   ]
  },
  {
   "cell_type": "code",
   "execution_count": 6,
   "metadata": {},
   "outputs": [
    {
     "data": {
      "text/plain": [
       "0    0.898388\n",
       "1    0.101612\n",
       "Name: toxic, dtype: float64"
      ]
     },
     "execution_count": 6,
     "metadata": {},
     "output_type": "execute_result"
    }
   ],
   "source": [
    "data['toxic'].value_counts(normalize=True)"
   ]
  },
  {
   "cell_type": "markdown",
   "metadata": {},
   "source": [
    "<img src=\"https://emojigraph.org/media/apple/check-mark-button_2705.png\" align=left width=33, heigth=33>\n",
    "<div class=\"alert alert-success\">\n",
    "Молодец, исследован баланс классов. Это важная информация для задачи классификации.</div>"
   ]
  },
  {
   "cell_type": "markdown",
   "metadata": {},
   "source": [
    "Явный дисбаланс классов."
   ]
  },
  {
   "cell_type": "markdown",
   "metadata": {},
   "source": [
    "## Обучение"
   ]
  },
  {
   "cell_type": "code",
   "execution_count": 7,
   "metadata": {},
   "outputs": [],
   "source": [
    "def clean_text(text):\n",
    "    cleaned = re.sub(r'[^А-Яа-яA-Za-z]', ' ', text).lower()\n",
    "    return cleaned\n",
    "\n",
    "#w_tokenizer = nltk.tokenize.WhitespaceTokenizer()\n",
    "#lemmatizer = nltk.stem.WordNetLemmatizer()\n",
    "load_model = spacy.load('en_core_web_sm', disable = ['parser','ner'])\n",
    "\n",
    "def lemmatize_and_clean(text):\n",
    "    cleaned_text = clean_text(text)\n",
    "    doc = load_model(cleaned_text)\n",
    "    #return ' '.join([lemmatizer.lemmatize(w) for w in w_tokenizer.tokenize(cleaned_text)])\n",
    "    return ' '.join([token.lemma_ for token in doc])"
   ]
  },
  {
   "cell_type": "markdown",
   "metadata": {},
   "source": [
    "<img src=\"https://upload.wikimedia.org/wikipedia/commons/b/ba/Warning_sign_4.0.png\" align=left width=44, heigth=33>\n",
    "<div class=\"alert alert-warning\">\n",
    "Стоит отфильтровать также тексты, написанные кирилицей, оставить только латинские буквы\n",
    "\n",
    "</div>"
   ]
  },
  {
   "cell_type": "markdown",
   "metadata": {},
   "source": [
    "<img src=\"https://emojigraph.org/media/apple/check-mark-button_2705.png\" align=left width=33, heigth=33>\n",
    "<div class=\"alert alert-success\">\n",
    " 👍 \n",
    "\n",
    "Текст очищен, но я советую при чистке оставить символ ' (апостроф), он играет важную роль в английском языке.\n",
    "</div>"
   ]
  },
  {
   "cell_type": "markdown",
   "metadata": {},
   "source": [
    "<img src=\"https://upload.wikimedia.org/wikipedia/commons/thumb/8/81/Stop_sign.png/240px-Stop_sign.png\" align=left width=35, heigth=35>\n",
    "<div class=\"alert alert-danger\">\n",
    "Молодец, что используешь лемматизатор WordNetLemmatizer. Но в данном случае он отработал не очень хорошо, и если присмотреться к тексту это хорошо видно. Например, в четвертой строке видим глагол are, но его начальная форма - be. Аналогично в нулевой строке есть глагол made, а его начальная форма make. \n",
    "    \n",
    "Как правило, совершаются следующие ошибки:\n",
    "    \n",
    " - Лемматизация должна производиться по одному слову, а не весь комментарий целиком\n",
    " - Слова должны быть приведены к нижнему регистру\n",
    " - Кроме самого слова в лемматизатор нужно передать дополнительную информацию о части речи слова (POS тег). \n",
    "    \n",
    "    \n",
    "    \n",
    "Ты можешь доработать подход с WordNetLemmatizer или использовать spaCy, там все отрабатывает \"из коробки\". Можешь посмотреть вот эту статью.  \n",
    "\n",
    "\n",
    "https://webdevblog.ru/podhody-lemmatizacii-s-primerami-v-python/\n",
    "    \n",
    "Хочу обратить твое внимание, что код из вышеуказанной статьи выполняется несколько дольше, чем оптимизированный, вот из этого топика\n",
    "    \n",
    "https://stackoverflow.com/questions/50992974/nltk-wordnetlemmatizer-not-lemmatizing-as-expected    \n",
    "    \n",
    "    \n",
    "    \n",
    "Совет - старайся сразу проверять  результаты лемматизации. Например, для предложения\n",
    "    \n",
    "    sentence = \"The striped bats are hanging on their feet for best\"\n",
    "    \n",
    "После лемматизации должен получиться вот такой результат\n",
    "    \n",
    "    \"the strip bat be hang on their foot for best\"    \n",
    "</div>"
   ]
  },
  {
   "cell_type": "markdown",
   "metadata": {},
   "source": [
    "<img src=\"https://emojigraph.org/media/apple/check-mark-button_2705.png\" align=left width=33, heigth=33>\n",
    "<div class=\"alert alert-success\">\n",
    "<b>v2</b> исправлено, использована библиотека spaCy </div>"
   ]
  },
  {
   "cell_type": "markdown",
   "metadata": {},
   "source": [
    "<img src=\"https://upload.wikimedia.org/wikipedia/commons/b/ba/Warning_sign_4.0.png\" align=left width=44, heigth=33>\n",
    "<div class=\"alert alert-warning\">\n",
    "\n",
    "Правильная лемматизация длится долго... Минут 20-30, в зависимости от мощности компьютера. Гораздо комфортнее видеть прогресс выполнения этой длительной операции, чем сидеть и гадать \"а не зависла ли она\", \"закончит только к утру или через 30 секунд\"? Можно воспользоваться прогресс -баром от tqdm.\n",
    "    \n",
    "     \n",
    "    from tqdm.notebook import tqdm\n",
    "    tqdm.pandas()\n",
    "\n",
    "    data['lemm_text'] = data['text'].progress_apply(lemmafunction)\n",
    "    \n",
    "    \n",
    "    \n",
    "    \n",
    "</div>\n",
    "\n"
   ]
  },
  {
   "cell_type": "code",
   "execution_count": 8,
   "metadata": {},
   "outputs": [
    {
     "data": {
      "application/vnd.jupyter.widget-view+json": {
       "model_id": "c24630eec29249009055333d50256f66",
       "version_major": 2,
       "version_minor": 0
      },
      "text/plain": [
       "  0%|          | 0/159292 [00:00<?, ?it/s]"
      ]
     },
     "metadata": {},
     "output_type": "display_data"
    },
    {
     "data": {
      "text/html": [
       "<div>\n",
       "<style scoped>\n",
       "    .dataframe tbody tr th:only-of-type {\n",
       "        vertical-align: middle;\n",
       "    }\n",
       "\n",
       "    .dataframe tbody tr th {\n",
       "        vertical-align: top;\n",
       "    }\n",
       "\n",
       "    .dataframe thead th {\n",
       "        text-align: right;\n",
       "    }\n",
       "</style>\n",
       "<table border=\"1\" class=\"dataframe\">\n",
       "  <thead>\n",
       "    <tr style=\"text-align: right;\">\n",
       "      <th></th>\n",
       "      <th>Unnamed: 0</th>\n",
       "      <th>text</th>\n",
       "      <th>toxic</th>\n",
       "      <th>lemmatized_text</th>\n",
       "    </tr>\n",
       "  </thead>\n",
       "  <tbody>\n",
       "    <tr>\n",
       "      <th>0</th>\n",
       "      <td>0</td>\n",
       "      <td>Explanation\\nWhy the edits made under my usern...</td>\n",
       "      <td>0</td>\n",
       "      <td>explanation why the edit make under my usernam...</td>\n",
       "    </tr>\n",
       "    <tr>\n",
       "      <th>1</th>\n",
       "      <td>1</td>\n",
       "      <td>D'aww! He matches this background colour I'm s...</td>\n",
       "      <td>0</td>\n",
       "      <td>d aww   he match this background colour I m se...</td>\n",
       "    </tr>\n",
       "    <tr>\n",
       "      <th>2</th>\n",
       "      <td>2</td>\n",
       "      <td>Hey man, I'm really not trying to edit war. It...</td>\n",
       "      <td>0</td>\n",
       "      <td>hey man   I m really not try to edit war   it ...</td>\n",
       "    </tr>\n",
       "    <tr>\n",
       "      <th>3</th>\n",
       "      <td>3</td>\n",
       "      <td>\"\\nMore\\nI can't make any real suggestions on ...</td>\n",
       "      <td>0</td>\n",
       "      <td>more I can t make any real suggestion on im...</td>\n",
       "    </tr>\n",
       "    <tr>\n",
       "      <th>4</th>\n",
       "      <td>4</td>\n",
       "      <td>You, sir, are my hero. Any chance you remember...</td>\n",
       "      <td>0</td>\n",
       "      <td>you   sir   be my hero   any chance you rememb...</td>\n",
       "    </tr>\n",
       "  </tbody>\n",
       "</table>\n",
       "</div>"
      ],
      "text/plain": [
       "   Unnamed: 0                                               text  toxic  \\\n",
       "0           0  Explanation\\nWhy the edits made under my usern...      0   \n",
       "1           1  D'aww! He matches this background colour I'm s...      0   \n",
       "2           2  Hey man, I'm really not trying to edit war. It...      0   \n",
       "3           3  \"\\nMore\\nI can't make any real suggestions on ...      0   \n",
       "4           4  You, sir, are my hero. Any chance you remember...      0   \n",
       "\n",
       "                                     lemmatized_text  \n",
       "0  explanation why the edit make under my usernam...  \n",
       "1  d aww   he match this background colour I m se...  \n",
       "2  hey man   I m really not try to edit war   it ...  \n",
       "3     more I can t make any real suggestion on im...  \n",
       "4  you   sir   be my hero   any chance you rememb...  "
      ]
     },
     "execution_count": 8,
     "metadata": {},
     "output_type": "execute_result"
    }
   ],
   "source": [
    "tqdm.pandas()\n",
    "data['lemmatized_text'] = data['text'].progress_map(lemmatize_and_clean)\n",
    "features_train, features_test, target_train, target_test = train_test_split(data['lemmatized_text'], data['toxic'], test_size=0.1)\n",
    "data.head()"
   ]
  },
  {
   "cell_type": "markdown",
   "metadata": {},
   "source": [
    "<img src=\"https://emojigraph.org/media/apple/check-mark-button_2705.png\" align=left width=33, heigth=33>\n",
    "<div class=\"alert alert-success\">\n",
    "    \n",
    "Данные разделены на выборки. Но я бы посоветовал тебе изменить пропорции и выделить на тест 10%. Причина простая - модели, которые мы обучаем чувствительны к объему обучающих данных. Чем больше слов они увидят в процессе обучения, и оценят их вклад в \"токсичность\", тем лучше будут модели. А для корректного тестирования и 10% данных вполне достаточно, учитывая немаленький размер датасета.\n",
    "\n",
    "</div>"
   ]
  },
  {
   "cell_type": "markdown",
   "metadata": {},
   "source": [
    "<img src=\"https://upload.wikimedia.org/wikipedia/commons/b/ba/Warning_sign_4.0.png\" align=left width=44, heigth=33>\n",
    "<div class=\"alert alert-warning\">\n",
    "Старайся не делать такие длинные строки. Стандарт PEP8 регулирует длину строки 79 символов. Придерживаться такого очень сложно, но лучше хотя-бы вмещать в экран, чтобы не приходилось использовать scroll.\n",
    "    \n",
    "    \n",
    "А еще  если сомневаешься, как отформатировать правильно - всегда можно найти какой-нибудь оналйн-форматтер, например этот\n",
    "    \n",
    "  https://extendsclass.com/python-formatter.html\n",
    "    \n",
    "    \n",
    "В качестве дополнительного развития могу порекомендоваь книгу \"PYTHON  чистый код для продолжающих\", Эл Свейгарт    \n",
    "    \n",
    "   \n",
    "    \n",
    "    \n",
    "</div>"
   ]
  },
  {
   "cell_type": "markdown",
   "metadata": {},
   "source": [
    "Преобразование текста в векторы признаков"
   ]
  },
  {
   "cell_type": "code",
   "execution_count": 9,
   "metadata": {},
   "outputs": [],
   "source": [
    "vectorizer = TfidfVectorizer()\n",
    "\n",
    "X_train_vectorized = vectorizer.fit_transform(features_train)\n",
    "X_test_vectorized = vectorizer.transform(features_test)"
   ]
  },
  {
   "cell_type": "markdown",
   "metadata": {},
   "source": [
    "<img src=\"https://emojigraph.org/media/apple/check-mark-button_2705.png\" align=left width=33, heigth=33>\n",
    "<div class=\"alert alert-success\">\n",
    "👍 Молодец, получены признаки из текстов с помощью TF-IDF. И совершенно верно векторайзер вначале обучен на обучающем наборе и затем применен к тестовому</div>"
   ]
  },
  {
   "cell_type": "markdown",
   "metadata": {},
   "source": [
    "**LogisticRegression**"
   ]
  },
  {
   "cell_type": "code",
   "execution_count": 10,
   "metadata": {},
   "outputs": [
    {
     "name": "stderr",
     "output_type": "stream",
     "text": [
      "/opt/conda/lib/python3.9/site-packages/sklearn/linear_model/_logistic.py:763: ConvergenceWarning: lbfgs failed to converge (status=1):\n",
      "STOP: TOTAL NO. of ITERATIONS REACHED LIMIT.\n",
      "\n",
      "Increase the number of iterations (max_iter) or scale the data as shown in:\n",
      "    https://scikit-learn.org/stable/modules/preprocessing.html\n",
      "Please also refer to the documentation for alternative solver options:\n",
      "    https://scikit-learn.org/stable/modules/linear_model.html#logistic-regression\n",
      "  n_iter_i = _check_optimize_result(\n",
      "/opt/conda/lib/python3.9/site-packages/sklearn/linear_model/_logistic.py:763: ConvergenceWarning: lbfgs failed to converge (status=1):\n",
      "STOP: TOTAL NO. of ITERATIONS REACHED LIMIT.\n",
      "\n",
      "Increase the number of iterations (max_iter) or scale the data as shown in:\n",
      "    https://scikit-learn.org/stable/modules/preprocessing.html\n",
      "Please also refer to the documentation for alternative solver options:\n",
      "    https://scikit-learn.org/stable/modules/linear_model.html#logistic-regression\n",
      "  n_iter_i = _check_optimize_result(\n",
      "/opt/conda/lib/python3.9/site-packages/sklearn/linear_model/_logistic.py:763: ConvergenceWarning: lbfgs failed to converge (status=1):\n",
      "STOP: TOTAL NO. of ITERATIONS REACHED LIMIT.\n",
      "\n",
      "Increase the number of iterations (max_iter) or scale the data as shown in:\n",
      "    https://scikit-learn.org/stable/modules/preprocessing.html\n",
      "Please also refer to the documentation for alternative solver options:\n",
      "    https://scikit-learn.org/stable/modules/linear_model.html#logistic-regression\n",
      "  n_iter_i = _check_optimize_result(\n",
      "/opt/conda/lib/python3.9/site-packages/sklearn/linear_model/_logistic.py:763: ConvergenceWarning: lbfgs failed to converge (status=1):\n",
      "STOP: TOTAL NO. of ITERATIONS REACHED LIMIT.\n",
      "\n",
      "Increase the number of iterations (max_iter) or scale the data as shown in:\n",
      "    https://scikit-learn.org/stable/modules/preprocessing.html\n",
      "Please also refer to the documentation for alternative solver options:\n",
      "    https://scikit-learn.org/stable/modules/linear_model.html#logistic-regression\n",
      "  n_iter_i = _check_optimize_result(\n"
     ]
    },
    {
     "name": "stdout",
     "output_type": "stream",
     "text": [
      "F1 score: 0.7726993006684721\n"
     ]
    },
    {
     "name": "stderr",
     "output_type": "stream",
     "text": [
      "/opt/conda/lib/python3.9/site-packages/sklearn/linear_model/_logistic.py:763: ConvergenceWarning: lbfgs failed to converge (status=1):\n",
      "STOP: TOTAL NO. of ITERATIONS REACHED LIMIT.\n",
      "\n",
      "Increase the number of iterations (max_iter) or scale the data as shown in:\n",
      "    https://scikit-learn.org/stable/modules/preprocessing.html\n",
      "Please also refer to the documentation for alternative solver options:\n",
      "    https://scikit-learn.org/stable/modules/linear_model.html#logistic-regression\n",
      "  n_iter_i = _check_optimize_result(\n"
     ]
    }
   ],
   "source": [
    "model = LogisticRegression(C=10, class_weight='balanced')\n",
    "\n",
    "scores_list = cross_val_score(estimator=model, \n",
    "                              X=X_train_vectorized, \n",
    "                              y=target_train, \n",
    "                              cv=5,  \n",
    "                              scoring=\"f1\")\n",
    "\n",
    "val_score = scores_list.mean()\n",
    "print(\"F1 score:\", val_score)"
   ]
  },
  {
   "cell_type": "markdown",
   "metadata": {},
   "source": [
    "<img src=\"https://upload.wikimedia.org/wikipedia/commons/thumb/8/81/Stop_sign.png/240px-Stop_sign.png\" align=left width=35, heigth=35>\n",
    "<div class=\"alert alert-danger\">\n",
    "Не стоит раньше времени подглядывать в тестовую выборку. Вначале обучим все модели и выберем лучшую по оценкам на крос-валидации и только потом протестируем лучшую модель.</div>"
   ]
  },
  {
   "cell_type": "markdown",
   "metadata": {},
   "source": [
    "<img src=\"https://emojigraph.org/media/apple/check-mark-button_2705.png\" align=left width=33, heigth=33>\n",
    "<div class=\"alert alert-success\">\n",
    "<b>v2</b> исправлено </div>"
   ]
  },
  {
   "cell_type": "markdown",
   "metadata": {},
   "source": [
    "<img src=\"https://emojigraph.org/media/apple/check-mark-button_2705.png\" align=left width=33, heigth=33>\n",
    "<div class=\"alert alert-success\">\n",
    " Совет: линейные модели очень хорошо работают с признаками, полученными из текстов. С помощью TF-IDF мы получили очень длинные разряженные вектора. И действительно, они очень длинные (длина около 140 000), при этом очень мало значений отличаются от нуля. Так вот, линейные модели гораздо лучше деревьев справляются с такими признаками. Но есть один секрет. Нужно  немного ослабить регуляризацию у логистической регрессии, и сделать это можно подобрав гиперпараметр С (чем он больше тем слабее регуляризация). Оптимальное значение стоит поискать в диапазоне 5-15. </div>"
   ]
  },
  {
   "cell_type": "markdown",
   "metadata": {},
   "source": [
    "**MultinomialNB**"
   ]
  },
  {
   "cell_type": "code",
   "execution_count": 11,
   "metadata": {},
   "outputs": [
    {
     "name": "stdout",
     "output_type": "stream",
     "text": [
      "F1 Score: 0.6227892632303382\n",
      "Лучшие параметры: {'alpha': 0.1, 'fit_prior': True}\n"
     ]
    }
   ],
   "source": [
    "from sklearn.metrics import f1_score\n",
    "nb_model = MultinomialNB()\n",
    "\n",
    "param_grid = {\n",
    "    'alpha': [0.1, 1, 10],\n",
    "    'fit_prior': [True, False]\n",
    "}\n",
    "\n",
    "grid_search = GridSearchCV(nb_model, param_grid, scoring='f1', cv=5)\n",
    "grid_search.fit(X_train_vectorized, target_train)\n",
    "best_params = grid_search.best_params_\n",
    "best_model = grid_search.best_estimator_\n",
    "best_score = grid_search.best_score_\n",
    "#y_pred = best_model.predict(X_test_vectorized)\n",
    "#f1 = f1_score(target_test, y_pred)\n",
    "print(\"F1 Score:\", best_score)\n",
    "print(\"Лучшие параметры:\", best_params)\n"
   ]
  },
  {
   "cell_type": "markdown",
   "metadata": {},
   "source": [
    "<img src=\"https://upload.wikimedia.org/wikipedia/commons/thumb/8/81/Stop_sign.png/240px-Stop_sign.png\" align=left width=35, heigth=35>\n",
    "<div class=\"alert alert-danger\">\n",
    "<b>v2</b>    \n",
    "    \n",
    "Пожаулста используй корректную метрику `f1` предназначенную для бинарной классификации. Метрика `f1_weighted` это другая метрика, используемая для многоклассовой классификации.\n",
    "</div>"
   ]
  },
  {
   "cell_type": "markdown",
   "metadata": {},
   "source": [
    "<img src=\"https://emojigraph.org/media/apple/check-mark-button_2705.png\" align=left width=33, heigth=33>\n",
    "<div class=\"alert alert-success\">\n",
    "<b>v3</b> исправлено </div>"
   ]
  },
  {
   "cell_type": "markdown",
   "metadata": {},
   "source": [
    "<img src=\"https://upload.wikimedia.org/wikipedia/commons/thumb/8/81/Stop_sign.png/240px-Stop_sign.png\" align=left width=35, heigth=35>\n",
    "<div class=\"alert alert-danger\">\n",
    "Не стоит раньше времени подглядывать в тестовую выборку. Вначале обучим все модели и выберем лучшую по оценкам на крос-валидации и только потом протестируем лучшую модель.</div>"
   ]
  },
  {
   "cell_type": "markdown",
   "metadata": {},
   "source": [
    "<img src=\"https://upload.wikimedia.org/wikipedia/commons/b/ba/Warning_sign_4.0.png\" align=left width=44, heigth=33>\n",
    "<div class=\"alert alert-warning\">\n",
    "Поиск по сетке использует крос-валидацию.  А кросс-валидация одновремено с извлечением признаков из текстов требует особого подхода. Ты помнишь, что векторайзер мы обучали на обучающей выборке а применяли к тестовой. Что происходит при кросс-валидации? Ты разбиваешь большую обучающую выборку на несколько фолдов, из них выделяешь часть на обучение, часть на валидацию.  Но признаки (TF-IDF) уже обучены на всем наборе (обучающий + валидационный). Получается утечка данных. Чтобы избежать её нужно использовать pipeline из векторайзера и модели.\n",
    "    \n",
    "Пример такого пайплайна можно посмотреть в официальной документации\n",
    "    \n",
    "  https://scikit-learn.org/stable/auto_examples/model_selection/plot_grid_search_text_feature_extraction.html\n",
    "    \n",
    "И еще полезные материалы:\n",
    "    \n",
    "  https://newtechaudit.ru/pipeline-v-rabote-s-dannymi/      \n",
    "</div>"
   ]
  },
  {
   "cell_type": "markdown",
   "metadata": {},
   "source": [
    "<img src=\"https://upload.wikimedia.org/wikipedia/commons/thumb/8/81/Stop_sign.png/240px-Stop_sign.png\" align=left width=35, heigth=35>\n",
    "<div class=\"alert alert-danger\">\n",
    "Сейчас, когда ты исследовал две модели, нужно выбрать лучшую (используя оценки на валидационной выборке или кросс-валидации) и эту лучшую модель протестировать..</div>"
   ]
  },
  {
   "cell_type": "markdown",
   "metadata": {},
   "source": [
    "В качестве лучшей модели выбираем LogisticRegression с гиперпараметром *C* равным 10."
   ]
  },
  {
   "cell_type": "markdown",
   "metadata": {},
   "source": [
    "<img src=\"https://emojigraph.org/media/apple/check-mark-button_2705.png\" align=left width=33, heigth=33>\n",
    "<div class=\"alert alert-success\">\n",
    "<b>v2</b> исправлено </div>"
   ]
  },
  {
   "cell_type": "code",
   "execution_count": 12,
   "metadata": {},
   "outputs": [
    {
     "name": "stdout",
     "output_type": "stream",
     "text": [
      "F1 Score: 0.7766657134686874\n"
     ]
    },
    {
     "name": "stderr",
     "output_type": "stream",
     "text": [
      "/opt/conda/lib/python3.9/site-packages/sklearn/linear_model/_logistic.py:763: ConvergenceWarning: lbfgs failed to converge (status=1):\n",
      "STOP: TOTAL NO. of ITERATIONS REACHED LIMIT.\n",
      "\n",
      "Increase the number of iterations (max_iter) or scale the data as shown in:\n",
      "    https://scikit-learn.org/stable/modules/preprocessing.html\n",
      "Please also refer to the documentation for alternative solver options:\n",
      "    https://scikit-learn.org/stable/modules/linear_model.html#logistic-regression\n",
      "  n_iter_i = _check_optimize_result(\n"
     ]
    }
   ],
   "source": [
    "model.fit(X_train_vectorized, target_train)\n",
    "y_pred = model.predict(X_test_vectorized)\n",
    "f1 = f1_score(target_test, y_pred)\n",
    "print(\"F1 Score:\", f1)"
   ]
  },
  {
   "cell_type": "markdown",
   "metadata": {},
   "source": [
    "<img src=\"https://emojigraph.org/media/apple/check-mark-button_2705.png\" align=left width=33, heigth=33>\n",
    "<div class=\"alert alert-success\"><b>v2</b>\n",
    "Молодец: \n",
    "    \n",
    "  - выбрана лучшая модель\n",
    "  - тестирование произведено корректно \n",
    "  - достигнута метрика f1 выше 0,75 на тестовой выборке\n",
    "</div>\n"
   ]
  },
  {
   "cell_type": "markdown",
   "metadata": {},
   "source": [
    "## Выводы"
   ]
  },
  {
   "cell_type": "markdown",
   "metadata": {},
   "source": [
    "В ходе работы был проанализирован датасет. Был выявлен дисбаланс классов, который в дальнейшем был учтен при инициализациии моделей. Удовлетворительный результат F1-score показала модель **LogisticRegression** - 0,7766657134686874."
   ]
  },
  {
   "cell_type": "markdown",
   "metadata": {},
   "source": [
    "## Чек-лист проверки"
   ]
  },
  {
   "cell_type": "markdown",
   "metadata": {},
   "source": [
    "- [x]  Jupyter Notebook открыт\n",
    "- [x]  Весь код выполняется без ошибок\n",
    "- [x]  Ячейки с кодом расположены в порядке исполнения\n",
    "- [x]  Данные загружены и подготовлены\n",
    "- [x]  Модели обучены\n",
    "- [x]  Значение метрики *F1* не меньше 0.75\n",
    "- [x]  Выводы написаны"
   ]
  },
  {
   "cell_type": "markdown",
   "metadata": {},
   "source": [
    "<img src=\"http://s3.amazonaws.com/pix.iemoji.com/images/emoji/apple/ios-12/256/waving-hand.png\" align=left width=44, heigth=44>\n",
    "<div class=\"alert alert-info\">\n",
    "<b> Заключительный комментарий v3</b>\n",
    "\n",
    "Проект принят. Поздравляю и желаю дальнейших успехов!\n",
    "</div>"
   ]
  },
  {
   "cell_type": "markdown",
   "metadata": {},
   "source": [
    "<img src=\"http://s3.amazonaws.com/pix.iemoji.com/images/emoji/apple/ios-12/256/waving-hand.png\" align=left width=44, heigth=44>\n",
    "<div class=\"alert alert-info\">\n",
    "<b> Заключительный комментарий v2</b>\n",
    "\n",
    "Пожажуйста используй корретную метрику при подборе гиперпараметров для модели MultinomialNB</div>"
   ]
  },
  {
   "cell_type": "markdown",
   "metadata": {},
   "source": [
    "<img src=\"http://s3.amazonaws.com/pix.iemoji.com/images/emoji/apple/ios-12/256/waving-hand.png\" align=left width=44, heigth=44>\n",
    "<div class=\"alert alert-info\">\n",
    "<b> Заключительный комментарий</b>\n",
    "Давай подведем итоги. В целом с проектом ты справляешься - текст предобработан, извлечены признаки и обучены классификаторы. Достигнуто требуемое значение метрики f1.\n",
    "    \n",
    "Но кое с чем нужно еще поработать. \n",
    "    \n",
    " - Пожалуйста поправь пути,чтобы при запуске проекта не возникало ошибок\n",
    " - Пожалуста перепиши раздел с лемматизацией. Сейчас она выполняется некорректно.\n",
    " - Не стоит подглядывать в тестовую выборку. Вначале выбираем лучшую модель, и только потом эту лучшую модель тестируем.\n",
    "    \n",
    "    \n",
    "В самом нижу оставляю тебе шпаргалки, как нужно строить дизайн ML - части проекта.\n",
    "\n",
    "\n",
    "     \n",
    "Жду твоих исправлений :)\n",
    "</div>"
   ]
  },
  {
   "cell_type": "markdown",
   "metadata": {},
   "source": [
    "<img src=\"http://s3.amazonaws.com/pix.iemoji.com/images/emoji/apple/ios-12/256/waving-hand.png\" align=left width=44, heigth=44>\n",
    "<div class=\"alert alert-info\">\n",
    "<b> рекомендации по доп. материалам</b>\n",
    "Если решишь погрузиться в область работы с текстами, очень советую несколько продвинутых бесплатных курсов.\n",
    "    \n",
    "   - Отличный бесплатный курс от Школы глубокого обучения МФТИ (https://stepik.org/org/dlschool), старт курса каждые пол года. Два семестра, один по основам и компьютерному зрению, второй по обработке естественного языка. Проходить нужно именно в таком порядке,т.к. почти весь современный NLP построен на нейронках.\n",
    "    \n",
    "   - \"Нейронные сети и компьютерное зрение\" от Samsung Research Russia (https://stepik.org/course/50352/syllabus). Есть также продолжение по NLP.  \n",
    "   - Трек NLP от сообщества ODS https://ods.ai/tracks/nlp-course-autumn-22\n",
    "    \n",
    "</div>"
   ]
  },
  {
   "cell_type": "markdown",
   "metadata": {},
   "source": [
    "<img src=\"https://emojigraph.org/media/apple/check-mark-button_2705.png\" align=left width=33, heigth=33>\n",
    "<div class=\"alert alert-success\"> \n",
    "<b>минутка теории</b>\n",
    "    \n",
    "<b>общий дизайн ML исследования</b>\n",
    "\n",
    "В курсе мы используем следующую схему оценки качества алгоритмов:\n",
    "\n",
    "1. Все данные делятся на 3 части: \n",
    "   - обучение,\n",
    "   - валидация,\n",
    "   - тест.\n",
    "\n",
    "2. Каждый из алгоритмов будет обучен на обучающей выборке. \n",
    "3. Подбор гиперпараметров мы осуществляем с помощью оценки на валидационной выборке.\n",
    "4. Когда гиперпараметры подобраны, качество каждого алгоритма мы оцениваем с помощью валидационной выборки.\n",
    "    \n",
    "5. Выбираем лучший по оценке на валидационной выборке.\n",
    "6. И уже самый лучший алгоритм оцениваем по тестовой выборке.\n",
    "\n",
    "\n",
    "Есть более системный вариант этой схемы, с использованием кросс-валидации. В этом случае  схема немного адаптируется. \n",
    "\n",
    "Все данные делятся на 2 части, первая будет использоваться для обучения и подбора гиперпараметров, и оценки алгоритмов с помощью кросс-валидации, вторая будет использоваться для финального тестирования.\n",
    "    \n",
    "    \n",
    "Я советую до начала обучения моделей  решить для себя, какую стратегию стоит использовать в проекте (с кросс-валидацией или с выделением отдельной валидационной выборки).    \n",
    "\n",
    "\n",
    "<b>Дополнительные материалы:</b>    \n",
    "    \n",
    "    \n",
    "<a href=\"https://academy.yandex.ru/handbook/ml/article/kross-validaciya\">Онлайн-учебник по машинному обучению от ШАД</a>        \n",
    "        \n",
    "    \n",
    "<a href=\"https://github.com/minhdai2410/machine-learning-data-analysis-yandex-mipt-coursera/blob/master/2%20Supervised%20Learning/Lectures/2-1.Problema_pereobucheniya_i_bor_ba_s_nej.pdf\">Конспект специализации Машинное обучение и анализ данных</a>, внимание двум последним страницам.\n",
    "</div>"
   ]
  },
  {
   "cell_type": "markdown",
   "metadata": {},
   "source": [
    "<img src=\"https://emojigraph.org/media/apple/check-mark-button_2705.png\" align=left width=33, heigth=33>\n",
    "<div class=\"alert alert-success\"> \n",
    "<b>минутка теории</b>\n",
    "    \n",
    "<b>Что такое кросс-валидация</b>:\n",
    "\n",
    "Это более системный подход, альтернатива стандартной валидационной выборке.  При кросс-валидации выборка делится на k блоков примерно одинакового размера.  Далее по очереди каждый из этих блоков используется для оценки модели (в качестве валидационной выборки), остальные используются в качестве обучающей выборки. \n",
    "\n",
    "После того, как каждый из блоков будет использован в качестве валидационного, мы получим k оценок качества модели. Усредняя эти оценки мы получаем оценку модели по кросс-валидации.\n",
    "\n",
    "\n",
    "\n",
    "    \n",
    "<a href=\"https://academy.yandex.ru/handbook/ml/article/kross-validaciya\">Онлайн-учебник по машинному обучению от ШАД</a>        \n",
    "    \n",
    "\n",
    "<a href=\"https://github.com/minhdai2410/machine-learning-data-analysis-yandex-mipt-coursera/blob/master/2%20Supervised%20Learning/Lectures/2-1.Problema_pereobucheniya_i_bor_ba_s_nej.pdf\">Конспект специализации Машинное обучение и анализ данных</a> , кросс-валидация подбробно разобрана на последних двух страницах.   \n",
    " \n",
    "    \n",
    "\n",
    "    \n",
    "    \n",
    "</div>"
   ]
  },
  {
   "cell_type": "markdown",
   "metadata": {},
   "source": [
    "<img src=\"https://emojigraph.org/media/apple/check-mark-button_2705.png\" align=left width=33, heigth=33>\n",
    "<div class=\"alert alert-success\"> \n",
    "<b>минутка теории</b>\n",
    "    \n",
    "<b>Как узнать оценку по кросс-валидации при использовании поиска по сетке?</b>\n",
    " Оценка хранится в атрибуте best_score_\n",
    "\n",
    "\tfrom sklearn.model_selection import GridSearchCV\n",
    "    gsearch = GridSearchCV(estimator=model, \n",
    "                           cv=5, \n",
    "\t\t\t\t           param_grid=param_search,  \n",
    "\t\t\t               scoring=scorer)\n",
    "\tgsearch.fit(X, y)\t\n",
    "\tprint(f’ качество модели по кросс-валидации равно {gsearch.best_score_}’)\n",
    "    \n",
    "<a href=\"https://scikit-learn.org/stable/modules/generated/sklearn.model_selection.GridSearchCV.html\">Документация</a>    \n",
    "\n",
    "\n",
    "<b>Как узнать оценку по кросс-валидации если гиперпараметры не подбирались?</b>\n",
    "Просто применяем кросс-валидацию\n",
    "\n",
    "\tfrom sklearn.model_selection import cross_val_score\n",
    "\n",
    "    scores_list = cross_val_score(estimator=model, \n",
    "                                  X=features_train, \n",
    "                                  y=target_train, \n",
    "                                  cv=5,  \n",
    "                                  scoring=scorer)\n",
    "    \n",
    "    val_score = scores_list.mean()\n",
    "    \n",
    "\n",
    "    \n",
    "<a href=\"https://scikit-learn.org/stable/modules/generated/sklearn.model_selection.cross_val_score.html\">Документация</a>    \n",
    "\n",
    "\n",
    "\n",
    "\n",
    "</div>"
   ]
  },
  {
   "cell_type": "markdown",
   "metadata": {},
   "source": [
    "<img src=\"https://emojigraph.org/media/apple/check-mark-button_2705.png\" align=left width=33, heigth=33>\n",
    "<div class=\"alert alert-success\"> \n",
    "<b>минутка теории</b>\n",
    "    \n",
    "<b>Используем GridSearchCV правильно</b>\n",
    "\n",
    "При создании объекта GridSearchCV важно определить следующие составляющие:\n",
    "  \n",
    "  - estimator - модель, для которой будем подбирать гиперпарметры\n",
    "  - param_grid  - (пространство параметров)\n",
    "  - cv - схема кросс-валидации\n",
    "  - scoring скорер (функция для оценки, оптимизируемая метрика)  \n",
    "    \n",
    "    \n",
    "\n",
    "    from sklearn.model_selection import GridSearchCV\n",
    "    gsearch = GridSearchCV(estimator=model, \n",
    "                           cv=5, \n",
    "\t\t\t\t           param_grid=param_search,  \n",
    "\t\t\t               scoring=scorer)\n",
    "    \n",
    "    \n",
    "Важно определить все составляющие, т.к. если мы что-то упустим, то они будут заменены на значения по умолчанию:\n",
    "  \n",
    "  - cv = 5 (стандартная кросс-валидация по 5 фолдам)\n",
    "  - scoring = 'accuracy' для задачи классификации и 'r2' для регрессии. \n",
    "     \n",
    "    \n",
    "Часто можно использовать стандартный скорер из библиотеки sklearn (<a href=\"https://scikit-learn.org/stable/modules/model_evaluation.html#scoring-parameter\">ссылка</a>), или создать собственный с помощью функции <a href=\"https://scikit-learn.org/stable/modules/generated/sklearn.metrics.make_scorer.html\">make_scorer</a>   \n",
    "    \n",
    "Как узнать, какие гиперпараметры можно подбирать? \n",
    "    \n",
    "    model.get_params().keys()\n",
    "    \n",
    "  \n",
    "    \n",
    "    \n",
    "    \n",
    "Следующим шагом мы обучаем полученный объект на обучающей выборке:\n",
    "    \n",
    "\n",
    "    gsearch.fit(X, y)\t\n",
    "\n",
    "Теперь, когда объект GridSearchCV обучен, нужно посмотреть, какую информацию мы можем извлечь из него.\n",
    "    \n",
    "Лучшая модель хранится в атрибуте best_estimator_\n",
    "    \n",
    "    gsearch.best_estimator_\n",
    "    \n",
    "Оценка лучшей модели, полученная с помощью кросс-валидации хранится в атрибуте best_score_\n",
    "    \n",
    "    gsearch.best_score_\n",
    "    \n",
    "Параметры лучшей модели хранятся в атрубите best_params_\n",
    "    \n",
    "    gsearch.best_params_\n",
    "    \n",
    "\n",
    "    \n",
    "Таким образом, один раз обучив объект GridSearchCV мы сразу получаем и лучшую модель и лучшие гиперпараметры и оценку модели полученную с помощью кросс-валидации. И нет  необходимости в дополнительном обучении модели и определении метрик по выделенной валидационной выборке.      \n",
    "    \n",
    "    \n",
    "<a href=\"https://scikit-learn.org/stable/modules/grid_search.html\">Документация</a>    \n",
    "\n",
    "\n",
    "\n",
    "\n",
    "</div>"
   ]
  },
  {
   "cell_type": "markdown",
   "metadata": {},
   "source": []
  }
 ],
 "metadata": {
  "ExecuteTimeLog": [
   {
    "duration": 8914,
    "start_time": "2023-07-04T20:58:01.953Z"
   },
   {
    "duration": 240,
    "start_time": "2023-07-04T20:58:10.869Z"
   },
   {
    "duration": 3644,
    "start_time": "2023-07-04T23:28:08.046Z"
   },
   {
    "duration": 2277,
    "start_time": "2023-07-04T23:28:11.692Z"
   },
   {
    "duration": 32,
    "start_time": "2023-07-04T23:28:13.971Z"
   },
   {
    "duration": 27,
    "start_time": "2023-07-04T23:28:14.005Z"
   },
   {
    "duration": 8,
    "start_time": "2023-07-04T23:28:14.034Z"
   },
   {
    "duration": 9,
    "start_time": "2023-07-04T23:28:14.043Z"
   },
   {
    "duration": 336,
    "start_time": "2023-07-04T23:28:14.054Z"
   },
   {
    "duration": 0,
    "start_time": "2023-07-04T23:28:14.392Z"
   },
   {
    "duration": 0,
    "start_time": "2023-07-04T23:28:14.393Z"
   },
   {
    "duration": 0,
    "start_time": "2023-07-04T23:28:14.395Z"
   },
   {
    "duration": 0,
    "start_time": "2023-07-04T23:28:14.396Z"
   },
   {
    "duration": 3591,
    "start_time": "2023-07-04T23:28:47.503Z"
   },
   {
    "duration": 796,
    "start_time": "2023-07-04T23:28:51.096Z"
   },
   {
    "duration": 40,
    "start_time": "2023-07-04T23:28:51.893Z"
   },
   {
    "duration": 26,
    "start_time": "2023-07-04T23:28:51.934Z"
   },
   {
    "duration": 18,
    "start_time": "2023-07-04T23:28:51.963Z"
   },
   {
    "duration": 36,
    "start_time": "2023-07-04T23:28:51.983Z"
   },
   {
    "duration": 652,
    "start_time": "2023-07-04T23:28:52.021Z"
   },
   {
    "duration": 71607,
    "start_time": "2023-07-04T23:28:52.675Z"
   },
   {
    "duration": 0,
    "start_time": "2023-07-04T23:30:04.284Z"
   },
   {
    "duration": 0,
    "start_time": "2023-07-04T23:30:04.285Z"
   },
   {
    "duration": 0,
    "start_time": "2023-07-04T23:30:04.286Z"
   },
   {
    "duration": 3618,
    "start_time": "2023-07-04T23:30:20.627Z"
   },
   {
    "duration": 846,
    "start_time": "2023-07-04T23:30:24.247Z"
   },
   {
    "duration": 39,
    "start_time": "2023-07-04T23:30:25.094Z"
   },
   {
    "duration": 29,
    "start_time": "2023-07-04T23:30:25.135Z"
   },
   {
    "duration": 9,
    "start_time": "2023-07-04T23:30:25.166Z"
   },
   {
    "duration": 12,
    "start_time": "2023-07-04T23:30:25.177Z"
   },
   {
    "duration": 629,
    "start_time": "2023-07-04T23:30:25.190Z"
   },
   {
    "duration": 46968,
    "start_time": "2023-07-04T23:30:25.821Z"
   },
   {
    "duration": 0,
    "start_time": "2023-07-04T23:31:12.791Z"
   },
   {
    "duration": 0,
    "start_time": "2023-07-04T23:31:12.792Z"
   },
   {
    "duration": 0,
    "start_time": "2023-07-04T23:31:12.794Z"
   },
   {
    "duration": 3740,
    "start_time": "2023-07-04T23:31:30.370Z"
   },
   {
    "duration": 811,
    "start_time": "2023-07-04T23:31:34.112Z"
   },
   {
    "duration": 37,
    "start_time": "2023-07-04T23:31:34.924Z"
   },
   {
    "duration": 25,
    "start_time": "2023-07-04T23:31:34.963Z"
   },
   {
    "duration": 17,
    "start_time": "2023-07-04T23:31:34.990Z"
   },
   {
    "duration": 16,
    "start_time": "2023-07-04T23:31:35.009Z"
   },
   {
    "duration": 613,
    "start_time": "2023-07-04T23:31:35.032Z"
   },
   {
    "duration": 1040514,
    "start_time": "2023-07-04T23:31:35.647Z"
   },
   {
    "duration": 7359,
    "start_time": "2023-07-04T23:48:56.162Z"
   },
   {
    "duration": 51813,
    "start_time": "2023-07-04T23:49:03.522Z"
   },
   {
    "duration": 2628,
    "start_time": "2023-07-04T23:49:55.337Z"
   },
   {
    "duration": 10,
    "start_time": "2023-07-04T23:51:01.595Z"
   },
   {
    "duration": 307,
    "start_time": "2023-07-04T23:55:30.332Z"
   },
   {
    "duration": 1010,
    "start_time": "2023-07-04T23:55:42.023Z"
   },
   {
    "duration": 1055,
    "start_time": "2023-07-04T23:56:28.970Z"
   },
   {
    "duration": 58,
    "start_time": "2023-07-04T23:56:51.459Z"
   },
   {
    "duration": 565,
    "start_time": "2023-07-04T23:56:55.899Z"
   },
   {
    "duration": 765933,
    "start_time": "2023-07-04T23:57:25.551Z"
   },
   {
    "duration": 520542,
    "start_time": "2023-07-05T00:10:23.925Z"
   },
   {
    "duration": 13724,
    "start_time": "2023-07-05T00:19:14.644Z"
   },
   {
    "duration": 53293,
    "start_time": "2023-07-05T00:19:57.039Z"
   },
   {
    "duration": 17,
    "start_time": "2023-07-05T00:22:57.996Z"
   },
   {
    "duration": 3,
    "start_time": "2023-07-05T00:23:03.924Z"
   },
   {
    "duration": 249045,
    "start_time": "2023-07-05T00:23:09.988Z"
   },
   {
    "duration": 2359,
    "start_time": "2023-07-05T00:30:08.095Z"
   },
   {
    "duration": 2456,
    "start_time": "2023-07-05T00:30:17.251Z"
   },
   {
    "duration": 14,
    "start_time": "2023-07-05T00:30:58.417Z"
   },
   {
    "duration": 13,
    "start_time": "2023-07-05T00:31:03.761Z"
   },
   {
    "duration": 2414,
    "start_time": "2023-07-05T00:31:44.761Z"
   },
   {
    "duration": 52483,
    "start_time": "2023-07-05T00:32:10.362Z"
   },
   {
    "duration": 1068,
    "start_time": "2023-07-05T12:54:43.841Z"
   },
   {
    "duration": 18905,
    "start_time": "2023-07-05T12:54:52.066Z"
   },
   {
    "duration": 3,
    "start_time": "2023-07-05T12:55:15.415Z"
   },
   {
    "duration": 268,
    "start_time": "2023-07-05T12:55:21.867Z"
   },
   {
    "duration": 17,
    "start_time": "2023-07-05T12:55:28.212Z"
   },
   {
    "duration": 3363,
    "start_time": "2023-07-05T13:00:39.107Z"
   },
   {
    "duration": 2297,
    "start_time": "2023-07-05T13:00:42.472Z"
   },
   {
    "duration": 29,
    "start_time": "2023-07-05T13:00:44.770Z"
   },
   {
    "duration": 25,
    "start_time": "2023-07-05T13:00:44.800Z"
   },
   {
    "duration": 15,
    "start_time": "2023-07-05T13:00:44.827Z"
   },
   {
    "duration": 11,
    "start_time": "2023-07-05T13:00:44.844Z"
   },
   {
    "duration": 798,
    "start_time": "2023-07-05T13:00:44.857Z"
   },
   {
    "duration": 1057007,
    "start_time": "2023-07-05T13:00:45.656Z"
   },
   {
    "duration": 7646,
    "start_time": "2023-07-05T13:18:22.683Z"
   },
   {
    "duration": 263751,
    "start_time": "2023-07-05T13:18:30.331Z"
   },
   {
    "duration": 2658,
    "start_time": "2023-07-05T13:22:54.084Z"
   },
   {
    "duration": 55833,
    "start_time": "2023-07-05T13:22:56.744Z"
   }
  ],
  "kernelspec": {
   "display_name": "Python 3 (ipykernel)",
   "language": "python",
   "name": "python3"
  },
  "language_info": {
   "codemirror_mode": {
    "name": "ipython",
    "version": 3
   },
   "file_extension": ".py",
   "mimetype": "text/x-python",
   "name": "python",
   "nbconvert_exporter": "python",
   "pygments_lexer": "ipython3",
   "version": "3.9.5"
  },
  "toc": {
   "base_numbering": 1,
   "nav_menu": {},
   "number_sections": true,
   "sideBar": true,
   "skip_h1_title": true,
   "title_cell": "Содержание",
   "title_sidebar": "Contents",
   "toc_cell": true,
   "toc_position": {
    "height": "calc(100% - 180px)",
    "left": "10px",
    "top": "150px",
    "width": "302.391px"
   },
   "toc_section_display": true,
   "toc_window_display": false
  }
 },
 "nbformat": 4,
 "nbformat_minor": 2
}
